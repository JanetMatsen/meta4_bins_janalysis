{
 "cells": [
  {
   "cell_type": "code",
   "execution_count": 1,
   "metadata": {
    "collapsed": false
   },
   "outputs": [],
   "source": [
    "import pandas as pd\n",
    "%matplotlib inline"
   ]
  },
  {
   "cell_type": "code",
   "execution_count": 2,
   "metadata": {
    "collapsed": true
   },
   "outputs": [],
   "source": [
    "import aggregate_mummer_results"
   ]
  },
  {
   "cell_type": "code",
   "execution_count": 3,
   "metadata": {
    "collapsed": true
   },
   "outputs": [],
   "source": [
    "import mummer_all_bins"
   ]
  },
  {
   "cell_type": "code",
   "execution_count": 4,
   "metadata": {
    "collapsed": false
   },
   "outputs": [],
   "source": [
    "import numpy as np\n",
    "import os\n",
    "import sys\n",
    "\n",
    "import glob"
   ]
  },
  {
   "cell_type": "code",
   "execution_count": 5,
   "metadata": {
    "collapsed": false
   },
   "outputs": [],
   "source": [
    "sys.path.append('./support_files/')\n",
    "import summarise_bins "
   ]
  },
  {
   "cell_type": "code",
   "execution_count": 14,
   "metadata": {
    "collapsed": true
   },
   "outputs": [],
   "source": [
    "sample_path = './mummer_results/Methylophilus_methylotrophus-79_Ga0081650_to_Methylophilus_methylotrophus-55_Ga0081633.tsv'"
   ]
  },
  {
   "cell_type": "code",
   "execution_count": 15,
   "metadata": {
    "collapsed": false
   },
   "outputs": [],
   "source": [
    "result = aggregate_mummer_results.prepare_result(sample_path)"
   ]
  },
  {
   "cell_type": "code",
   "execution_count": 16,
   "metadata": {
    "collapsed": false
   },
   "outputs": [
    {
     "data": {
      "text/html": [
       "<div>\n",
       "<table border=\"1\" class=\"dataframe\">\n",
       "  <thead>\n",
       "    <tr style=\"text-align: right;\">\n",
       "      <th></th>\n",
       "      <th>TAGS (ref)</th>\n",
       "      <th>TAGS (query)</th>\n",
       "      <th>LEN 1</th>\n",
       "      <th>LEN 2</th>\n",
       "      <th>LEN R</th>\n",
       "      <th>LEN Q</th>\n",
       "      <th>COV R</th>\n",
       "      <th>COV Q</th>\n",
       "      <th>% IDY</th>\n",
       "      <th>mummer file</th>\n",
       "      <th>ref bin</th>\n",
       "      <th>query bin</th>\n",
       "      <th>ref contig</th>\n",
       "      <th>query contig</th>\n",
       "      <th>query name</th>\n",
       "      <th>query contig count</th>\n",
       "      <th>query bin name</th>\n",
       "      <th>ref name</th>\n",
       "      <th>ref contig count</th>\n",
       "      <th>ref bin name</th>\n",
       "    </tr>\n",
       "  </thead>\n",
       "  <tbody>\n",
       "    <tr>\n",
       "      <th>0</th>\n",
       "      <td>Ga0081633_102</td>\n",
       "      <td>Ga0081650_106</td>\n",
       "      <td>5220</td>\n",
       "      <td>5209</td>\n",
       "      <td>214587</td>\n",
       "      <td>402304</td>\n",
       "      <td>2.43</td>\n",
       "      <td>1.29</td>\n",
       "      <td>85.32</td>\n",
       "      <td>Methylophilus_methylotrophus-79_Ga0081650_to_M...</td>\n",
       "      <td>Ga0081633</td>\n",
       "      <td>Ga0081650</td>\n",
       "      <td>102</td>\n",
       "      <td>106</td>\n",
       "      <td>Methylophilus methylotrophus-79</td>\n",
       "      <td>17</td>\n",
       "      <td>Methylophilus_methylotrophus-79_Ga0081650</td>\n",
       "      <td>Methylophilus methylotrophus-55</td>\n",
       "      <td>17</td>\n",
       "      <td>Methylophilus_methylotrophus-55_Ga0081633</td>\n",
       "    </tr>\n",
       "    <tr>\n",
       "      <th>1</th>\n",
       "      <td>Ga0081633_102</td>\n",
       "      <td>Ga0081650_106</td>\n",
       "      <td>4945</td>\n",
       "      <td>4944</td>\n",
       "      <td>214587</td>\n",
       "      <td>402304</td>\n",
       "      <td>2.30</td>\n",
       "      <td>1.23</td>\n",
       "      <td>87.04</td>\n",
       "      <td>Methylophilus_methylotrophus-79_Ga0081650_to_M...</td>\n",
       "      <td>Ga0081633</td>\n",
       "      <td>Ga0081650</td>\n",
       "      <td>102</td>\n",
       "      <td>106</td>\n",
       "      <td>Methylophilus methylotrophus-79</td>\n",
       "      <td>17</td>\n",
       "      <td>Methylophilus_methylotrophus-79_Ga0081650</td>\n",
       "      <td>Methylophilus methylotrophus-55</td>\n",
       "      <td>17</td>\n",
       "      <td>Methylophilus_methylotrophus-55_Ga0081633</td>\n",
       "    </tr>\n",
       "    <tr>\n",
       "      <th>2</th>\n",
       "      <td>Ga0081633_102</td>\n",
       "      <td>Ga0081650_106</td>\n",
       "      <td>2385</td>\n",
       "      <td>2380</td>\n",
       "      <td>214587</td>\n",
       "      <td>402304</td>\n",
       "      <td>1.11</td>\n",
       "      <td>0.59</td>\n",
       "      <td>82.87</td>\n",
       "      <td>Methylophilus_methylotrophus-79_Ga0081650_to_M...</td>\n",
       "      <td>Ga0081633</td>\n",
       "      <td>Ga0081650</td>\n",
       "      <td>102</td>\n",
       "      <td>106</td>\n",
       "      <td>Methylophilus methylotrophus-79</td>\n",
       "      <td>17</td>\n",
       "      <td>Methylophilus_methylotrophus-79_Ga0081650</td>\n",
       "      <td>Methylophilus methylotrophus-55</td>\n",
       "      <td>17</td>\n",
       "      <td>Methylophilus_methylotrophus-55_Ga0081633</td>\n",
       "    </tr>\n",
       "  </tbody>\n",
       "</table>\n",
       "</div>"
      ],
      "text/plain": [
       "      TAGS (ref)   TAGS (query)  LEN 1  LEN 2   LEN R   LEN Q  COV R  COV Q  \\\n",
       "0  Ga0081633_102  Ga0081650_106   5220   5209  214587  402304   2.43   1.29   \n",
       "1  Ga0081633_102  Ga0081650_106   4945   4944  214587  402304   2.30   1.23   \n",
       "2  Ga0081633_102  Ga0081650_106   2385   2380  214587  402304   1.11   0.59   \n",
       "\n",
       "   % IDY                                        mummer file    ref bin  \\\n",
       "0  85.32  Methylophilus_methylotrophus-79_Ga0081650_to_M...  Ga0081633   \n",
       "1  87.04  Methylophilus_methylotrophus-79_Ga0081650_to_M...  Ga0081633   \n",
       "2  82.87  Methylophilus_methylotrophus-79_Ga0081650_to_M...  Ga0081633   \n",
       "\n",
       "   query bin ref contig query contig                       query name  \\\n",
       "0  Ga0081650        102          106  Methylophilus methylotrophus-79   \n",
       "1  Ga0081650        102          106  Methylophilus methylotrophus-79   \n",
       "2  Ga0081650        102          106  Methylophilus methylotrophus-79   \n",
       "\n",
       "   query contig count                             query bin name  \\\n",
       "0                  17  Methylophilus_methylotrophus-79_Ga0081650   \n",
       "1                  17  Methylophilus_methylotrophus-79_Ga0081650   \n",
       "2                  17  Methylophilus_methylotrophus-79_Ga0081650   \n",
       "\n",
       "                          ref name  ref contig count  \\\n",
       "0  Methylophilus methylotrophus-55                17   \n",
       "1  Methylophilus methylotrophus-55                17   \n",
       "2  Methylophilus methylotrophus-55                17   \n",
       "\n",
       "                                ref bin name  \n",
       "0  Methylophilus_methylotrophus-55_Ga0081633  \n",
       "1  Methylophilus_methylotrophus-55_Ga0081633  \n",
       "2  Methylophilus_methylotrophus-55_Ga0081633  "
      ]
     },
     "execution_count": 16,
     "metadata": {},
     "output_type": "execute_result"
    }
   ],
   "source": [
    "result.head(3)"
   ]
  },
  {
   "cell_type": "code",
   "execution_count": 8,
   "metadata": {
    "collapsed": false
   },
   "outputs": [
    {
     "data": {
      "text/plain": [
       "(435, 20)"
      ]
     },
     "execution_count": 8,
     "metadata": {},
     "output_type": "execute_result"
    }
   ],
   "source": [
    "result.shape"
   ]
  },
  {
   "cell_type": "code",
   "execution_count": 9,
   "metadata": {
    "collapsed": false
   },
   "outputs": [
    {
     "data": {
      "text/plain": [
       "<matplotlib.axes._subplots.AxesSubplot at 0x106b53ac8>"
      ]
     },
     "execution_count": 9,
     "metadata": {},
     "output_type": "execute_result"
    },
    {
     "data": {
      "image/png": "[encoded data removed]",
      "text/plain": [
       "<matplotlib.figure.Figure at 0x106b3b7b8>"
      ]
     },
     "metadata": {},
     "output_type": "display_data"
    }
   ],
   "source": [
    "result['% IDY'].plot.hist()"
   ]
  },
  {
   "cell_type": "code",
   "execution_count": null,
   "metadata": {
    "collapsed": true
   },
   "outputs": [],
   "source": [
    "p.set_title(\"a \\nb\")\n"
   ]
  },
  {
   "cell_type": "code",
   "execution_count": 17,
   "metadata": {
    "collapsed": false
   },
   "outputs": [
    {
     "data": {
      "image/png": "[encoded data removed]",
      "text/plain": [
       "<matplotlib.figure.Figure at 0x106ec3b00>"
      ]
     },
     "metadata": {},
     "output_type": "display_data"
    }
   ],
   "source": [
    "aggregate_mummer_results.plot_IDY_vs_len(sample_path, save_path=None)"
   ]
  },
  {
   "cell_type": "raw",
   "metadata": {
    "collapsed": false
   },
   "source": [
    "aggregate_mummer_results.plot_IDY_vs_len(\n",
    "    './mummer_results/Methylophilus_methylotrophus-79_Ga0081650_to_Methylophilus_methylotrophus-55_Ga0081633.tsv')"
   ]
  },
  {
   "cell_type": "code",
   "execution_count": 11,
   "metadata": {
    "collapsed": false
   },
   "outputs": [],
   "source": [
    "#for fp in glob.glob('./mummer_results/*.tsv'):\n",
    "#    aggregate_mummer_results.plot_IDY_vs_len(fp)\n",
    "#glob.glob('/path/to/dir/*.csv')"
   ]
  },
  {
   "cell_type": "code",
   "execution_count": 12,
   "metadata": {
    "collapsed": false
   },
   "outputs": [
    {
     "data": {
      "text/html": [
       "<div>\n",
       "<table border=\"1\" class=\"dataframe\">\n",
       "  <thead>\n",
       "    <tr style=\"text-align: right;\">\n",
       "      <th></th>\n",
       "      <th>TAGS (ref)</th>\n",
       "      <th>TAGS (query)</th>\n",
       "      <th>LEN 1</th>\n",
       "      <th>LEN 2</th>\n",
       "      <th>LEN R</th>\n",
       "      <th>LEN Q</th>\n",
       "      <th>COV R</th>\n",
       "      <th>COV Q</th>\n",
       "      <th>% IDY</th>\n",
       "      <th>mummer file</th>\n",
       "      <th>ref bin</th>\n",
       "      <th>query bin</th>\n",
       "      <th>ref contig</th>\n",
       "      <th>query contig</th>\n",
       "      <th>query name</th>\n",
       "      <th>query contig count</th>\n",
       "      <th>query bin name</th>\n",
       "      <th>ref name</th>\n",
       "      <th>ref contig count</th>\n",
       "      <th>ref bin name</th>\n",
       "    </tr>\n",
       "  </thead>\n",
       "  <tbody>\n",
       "    <tr>\n",
       "      <th>0</th>\n",
       "      <td>Ga0081633_102</td>\n",
       "      <td>Ga0081650_106</td>\n",
       "      <td>5220</td>\n",
       "      <td>5209</td>\n",
       "      <td>214587</td>\n",
       "      <td>402304</td>\n",
       "      <td>2.43</td>\n",
       "      <td>1.29</td>\n",
       "      <td>85.32</td>\n",
       "      <td>Methylophilus_methylotrophus-79_Ga0081650_to_M...</td>\n",
       "      <td>Ga0081633</td>\n",
       "      <td>Ga0081650</td>\n",
       "      <td>102</td>\n",
       "      <td>106</td>\n",
       "      <td>Methylophilus methylotrophus-79</td>\n",
       "      <td>17</td>\n",
       "      <td>Methylophilus_methylotrophus-79_Ga0081650</td>\n",
       "      <td>Methylophilus methylotrophus-55</td>\n",
       "      <td>17</td>\n",
       "      <td>Methylophilus_methylotrophus-55_Ga0081633</td>\n",
       "    </tr>\n",
       "    <tr>\n",
       "      <th>1</th>\n",
       "      <td>Ga0081633_102</td>\n",
       "      <td>Ga0081650_106</td>\n",
       "      <td>4945</td>\n",
       "      <td>4944</td>\n",
       "      <td>214587</td>\n",
       "      <td>402304</td>\n",
       "      <td>2.30</td>\n",
       "      <td>1.23</td>\n",
       "      <td>87.04</td>\n",
       "      <td>Methylophilus_methylotrophus-79_Ga0081650_to_M...</td>\n",
       "      <td>Ga0081633</td>\n",
       "      <td>Ga0081650</td>\n",
       "      <td>102</td>\n",
       "      <td>106</td>\n",
       "      <td>Methylophilus methylotrophus-79</td>\n",
       "      <td>17</td>\n",
       "      <td>Methylophilus_methylotrophus-79_Ga0081650</td>\n",
       "      <td>Methylophilus methylotrophus-55</td>\n",
       "      <td>17</td>\n",
       "      <td>Methylophilus_methylotrophus-55_Ga0081633</td>\n",
       "    </tr>\n",
       "  </tbody>\n",
       "</table>\n",
       "</div>"
      ],
      "text/plain": [
       "      TAGS (ref)   TAGS (query)  LEN 1  LEN 2   LEN R   LEN Q  COV R  COV Q  \\\n",
       "0  Ga0081633_102  Ga0081650_106   5220   5209  214587  402304   2.43   1.29   \n",
       "1  Ga0081633_102  Ga0081650_106   4945   4944  214587  402304   2.30   1.23   \n",
       "\n",
       "   % IDY                                        mummer file    ref bin  \\\n",
       "0  85.32  Methylophilus_methylotrophus-79_Ga0081650_to_M...  Ga0081633   \n",
       "1  87.04  Methylophilus_methylotrophus-79_Ga0081650_to_M...  Ga0081633   \n",
       "\n",
       "   query bin ref contig query contig                       query name  \\\n",
       "0  Ga0081650        102          106  Methylophilus methylotrophus-79   \n",
       "1  Ga0081650        102          106  Methylophilus methylotrophus-79   \n",
       "\n",
       "   query contig count                             query bin name  \\\n",
       "0                  17  Methylophilus_methylotrophus-79_Ga0081650   \n",
       "1                  17  Methylophilus_methylotrophus-79_Ga0081650   \n",
       "\n",
       "                          ref name  ref contig count  \\\n",
       "0  Methylophilus methylotrophus-55                17   \n",
       "1  Methylophilus methylotrophus-55                17   \n",
       "\n",
       "                                ref bin name  \n",
       "0  Methylophilus_methylotrophus-55_Ga0081633  \n",
       "1  Methylophilus_methylotrophus-55_Ga0081633  "
      ]
     },
     "execution_count": 12,
     "metadata": {},
     "output_type": "execute_result"
    }
   ],
   "source": [
    "result.head(2)"
   ]
  },
  {
   "cell_type": "code",
   "execution_count": 13,
   "metadata": {
    "collapsed": false
   },
   "outputs": [
    {
     "data": {
      "text/plain": [
       "86.185741442944547"
      ]
     },
     "execution_count": 13,
     "metadata": {},
     "output_type": "execute_result"
    }
   ],
   "source": [
    "aggregate_mummer_results.percent_identity(result)"
   ]
  },
  {
   "cell_type": "code",
   "execution_count": null,
   "metadata": {
    "collapsed": true
   },
   "outputs": [],
   "source": []
  }
 ],
 "metadata": {
  "kernelspec": {
   "display_name": "IPython (Python 3)",
   "language": "python",
   "name": "python3"
  },
  "language_info": {
   "codemirror_mode": {
    "name": "ipython",
    "version": 3
   },
   "file_extension": ".py",
   "mimetype": "text/x-python",
   "name": "python",
   "nbconvert_exporter": "python",
   "pygments_lexer": "ipython3",
   "version": "3.5.1"
  }
 },
 "nbformat": 4,
 "nbformat_minor": 0
}
