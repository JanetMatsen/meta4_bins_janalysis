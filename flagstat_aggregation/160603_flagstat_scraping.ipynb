{
 "cells": [
  {
   "cell_type": "code",
   "execution_count": 10,
   "metadata": {
    "collapsed": false
   },
   "outputs": [
    {
     "name": "stderr",
     "output_type": "stream",
     "text": [
      "/home/jmatsen/miniconda2/lib/python2.7/site-packages/matplotlib/font_manager.py:273: UserWarning: Matplotlib is building the font cache using fc-list. This may take a moment.\n",
      "  warnings.warn('Matplotlib is building the font cache using fc-list. This may take a moment.')\n"
     ]
    }
   ],
   "source": [
    "import os\n",
    "\n",
    "import pandas as pd\n",
    "import seaborn as sns"
   ]
  },
  {
   "cell_type": "markdown",
   "metadata": {},
   "source": [
    "Get all the dirs with the .flagstat files:"
   ]
  },
  {
   "cell_type": "code",
   "execution_count": 9,
   "metadata": {
    "collapsed": false
   },
   "outputs": [
    {
     "name": "stdout",
     "output_type": "stream",
     "text": [
      "LakWasMet40_LOW7_2.sorted.bam.flagstat\n",
      "LakWasMe81_HOW10_2.sorted.bam.flagstat\n",
      "LakWasMet58_HOW8_2.sorted.bam.flagstat\n",
      "LakWasMet52_LOW8_2.sorted.bam.flagstat\n",
      "LakWasMe92_HOW11_2.sorted.bam.flagstat\n",
      "LakWasM121_LOW14_2.sorted.bam.flagstat\n",
      "LakWasMet25_LOW6_2.sorted.bam.flagstat\n",
      "LakWasMe85_LOW11_2.sorted.bam.flagstat\n",
      "LakWasM127_HOW14_2.sorted.bam.flagstat\n",
      "LakWasM130_HOW14_2.sorted.bam.flagstat\n",
      "LakWasMet31_HOW6_2.sorted.bam.flagstat\n",
      "LakWasMet51_LOW8_2.sorted.bam.flagstat\n",
      "LakWasMe74_LOW10_2.sorted.bam.flagstat\n",
      "LakWasMeta8_HOW4_2.sorted.bam.flagstat\n",
      "LakWasMe93_HOW11_2.sorted.bam.flagstat\n",
      "LakWasMet56_HOW8_2.sorted.bam.flagstat\n",
      "LakWasMet26_LOW6_2.sorted.bam.flagstat\n",
      "LakWasM110_LOW13_2.sorted.bam.flagstat\n",
      "LakWasMe79_HOW10_2.sorted.bam.flagstat\n",
      "LakWasMe86_LOW11_2.sorted.bam.flagstat\n",
      "LakWasM104_HOW12_2.sorted.bam.flagstat\n",
      "LakWasMe80_HOW10_2.sorted.bam.flagstat\n",
      "LakWasMeta4_LOW4_2.sorted.bam.flagstat\n",
      "LakWasMe97_LOW12_2.sorted.bam.flagstat\n",
      "LakWasMeta2_LOW4_2.sorted.bam.flagstat\n",
      "LakWasMe94_HOW11_2.sorted.bam.flagstat\n",
      "LakWasM111_LOW13_2.sorted.bam.flagstat\n",
      "LakWasMe75_LOW10_2.sorted.bam.flagstat\n",
      "LakWasMet39_LOW7_2.sorted.bam.flagstat\n",
      "LakWasM109_LOW13_2.sorted.bam.flagstat\n",
      "LakWasMet70_HOW9_2.sorted.bam.flagstat\n",
      "LakWasMet19_HOW5_2.sorted.bam.flagstat\n",
      "LakWasMeta3_LOW4_2.sorted.bam.flagstat\n",
      "LakWasMet57_HOW8_2.sorted.bam.flagstat\n",
      "LakWasM128_HOW14_2.sorted.bam.flagstat\n",
      "LakWasMeta7_HOW4_2.sorted.bam.flagstat\n",
      "LakWasMet63_LOW9_2.sorted.bam.flagstat\n",
      "LakWasMet15_LOW5_2.sorted.bam.flagstat\n",
      "LakWasM106_HOW12_2.sorted.bam.flagstat\n",
      "LakWasMet27_LOW6_2.sorted.bam.flagstat\n",
      "LakWasMet49_LOW8_2.sorted.bam.flagstat\n",
      "LakWasMet20_HOW5_2.sorted.bam.flagstat\n",
      "LakWasMet28_LOW6_2.sorted.bam.flagstat\n",
      "LakWasMet50_LOW8_2.sorted.bam.flagstat\n",
      "LakWasMet37_LOW7_2.sorted.bam.flagstat\n",
      "LakWasMet38_LOW7_2.sorted.bam.flagstat\n",
      "LakWasM118_HOW13_2.sorted.bam.flagstat\n",
      "LakWasMet16_LOW5_2.sorted.bam.flagstat\n",
      "LakWasM115_HOW13_2.sorted.bam.flagstat\n",
      "LakWasMet33_HOW6_2.sorted.bam.flagstat\n",
      "LakWasM123_LOW14_2.sorted.bam.flagstat\n",
      "LakWasM117_HOW13_2.sorted.bam.flagstat\n",
      "LakWasMet21_HOW5_2.sorted.bam.flagstat\n",
      "LakWasMet22_HOW5_2.sorted.bam.flagstat\n",
      "LakWasMe82_HOW10_2.sorted.bam.flagstat\n",
      "LakWasM124_LOW14_2.sorted.bam.flagstat\n",
      "LakWasMet13_LOW5_2.sorted.bam.flagstat\n",
      "LakWasMe76_LOW10_2.sorted.bam.flagstat\n",
      "LakWasM105_HOW12_2.sorted.bam.flagstat\n",
      "LakWasMe73_LOW10_2.sorted.bam.flagstat\n",
      "LakWasM116_HOW13_2.sorted.bam.flagstat\n",
      "LakWasMet43_HOW7_2.sorted.bam.flagstat\n",
      "LakWasMet10_HOW4_2.sorted.bam.flagstat\n",
      "LakWasMet55_HOW8_2.sorted.bam.flagstat\n",
      "LakWasMet32_HOW6_2.sorted.bam.flagstat\n",
      "LakWasMe98_LOW12_2.sorted.bam.flagstat\n",
      "LakWasMeta1_LOW4_2.sorted.bam.flagstat\n",
      "LakWasMet62_LOW9_2.sorted.bam.flagstat\n",
      "LakWasMet69_HOW9_2.sorted.bam.flagstat\n",
      "LakWasM129_HOW14_2.sorted.bam.flagstat\n",
      "LakWasMe91_HOW11_2.sorted.bam.flagstat\n",
      "LakWasM122_LOW14_2.sorted.bam.flagstat\n",
      "LakWasMet14_LOW5_2.sorted.bam.flagstat\n",
      "LakWasMe99_LOW12_2.sorted.bam.flagstat\n",
      "LakWasMet61_LOW9_2.sorted.bam.flagstat\n",
      "LakWasM100_LOW12_2.sorted.bam.flagstat\n",
      "LakWasMet34_HOW6_2.sorted.bam.flagstat\n",
      "LakWasMet64_LOW9_2.sorted.bam.flagstat\n",
      "LakWasMet67_HOW9_2.sorted.bam.flagstat\n",
      "LakWasMet44_HOW7_2.sorted.bam.flagstat\n",
      "LakWasM112_LOW13_2.sorted.bam.flagstat\n",
      "LakWasMeta9_HOW4_2.sorted.bam.flagstat\n",
      "LakWasMet45_HOW7_2.sorted.bam.flagstat\n"
     ]
    }
   ],
   "source": [
    "for root, dirs, files in os.walk('../../workspace/'):\n",
    "     for file in files:\n",
    "            if \".flagstat\" in file:\n",
    "                print file"
   ]
  },
  {
   "cell_type": "code",
   "execution_count": 15,
   "metadata": {
    "collapsed": false
   },
   "outputs": [
    {
     "name": "stdout",
     "output_type": "stream",
     "text": [
      "aln\t\t\t       LakWasMet57_HOW8_2.sorted.bam.bai\r\n",
      "aln.log\t\t\t       LakWasMet57_HOW8_2.sorted.bam.flagstat\r\n",
      "database\t\t       LakWasMet57_HOW8_2.summary.dat\r\n",
      "database.log\t\t       samtools\r\n",
      "database.sql\t\t       samtools.log\r\n",
      "LakWasMet57_HOW8_2.sorted.bam\r\n"
     ]
    }
   ],
   "source": [
    "!ls \"../../workspace/LakWasMet57_HOW8_2/bwa/\""
   ]
  },
  {
   "cell_type": "code",
   "execution_count": 18,
   "metadata": {
    "collapsed": false
   },
   "outputs": [
    {
     "data": {
      "text/html": [
       "<div>\n",
       "<table border=\"1\" class=\"dataframe\">\n",
       "  <thead>\n",
       "    <tr style=\"text-align: right;\">\n",
       "      <th></th>\n",
       "      <th>38960894 + 0 in total (QC-passed reads + QC-failed reads)</th>\n",
       "    </tr>\n",
       "  </thead>\n",
       "  <tbody>\n",
       "    <tr>\n",
       "      <th>0</th>\n",
       "      <td>453676 + 0 secondary</td>\n",
       "    </tr>\n",
       "    <tr>\n",
       "      <th>1</th>\n",
       "      <td>0 + 0 supplementary</td>\n",
       "    </tr>\n",
       "    <tr>\n",
       "      <th>2</th>\n",
       "      <td>0 + 0 duplicates</td>\n",
       "    </tr>\n",
       "    <tr>\n",
       "      <th>3</th>\n",
       "      <td>22041367 + 0 mapped (56.57% : N/A)</td>\n",
       "    </tr>\n",
       "    <tr>\n",
       "      <th>4</th>\n",
       "      <td>38507218 + 0 paired in sequencing</td>\n",
       "    </tr>\n",
       "    <tr>\n",
       "      <th>5</th>\n",
       "      <td>19253609 + 0 read1</td>\n",
       "    </tr>\n",
       "    <tr>\n",
       "      <th>6</th>\n",
       "      <td>19253609 + 0 read2</td>\n",
       "    </tr>\n",
       "    <tr>\n",
       "      <th>7</th>\n",
       "      <td>18552612 + 0 properly paired (48.18% : N/A)</td>\n",
       "    </tr>\n",
       "    <tr>\n",
       "      <th>8</th>\n",
       "      <td>20324822 + 0 with itself and mate mapped</td>\n",
       "    </tr>\n",
       "    <tr>\n",
       "      <th>9</th>\n",
       "      <td>1262869 + 0 singletons (3.28% : N/A)</td>\n",
       "    </tr>\n",
       "    <tr>\n",
       "      <th>10</th>\n",
       "      <td>1741360 + 0 with mate mapped to a different chr</td>\n",
       "    </tr>\n",
       "    <tr>\n",
       "      <th>11</th>\n",
       "      <td>1459081 + 0 with mate mapped to a different ch...</td>\n",
       "    </tr>\n",
       "  </tbody>\n",
       "</table>\n",
       "</div>"
      ],
      "text/plain": [
       "   38960894 + 0 in total (QC-passed reads + QC-failed reads)\n",
       "0                                453676 + 0 secondary       \n",
       "1                                 0 + 0 supplementary       \n",
       "2                                    0 + 0 duplicates       \n",
       "3                  22041367 + 0 mapped (56.57% : N/A)       \n",
       "4                   38507218 + 0 paired in sequencing       \n",
       "5                                  19253609 + 0 read1       \n",
       "6                                  19253609 + 0 read2       \n",
       "7         18552612 + 0 properly paired (48.18% : N/A)       \n",
       "8            20324822 + 0 with itself and mate mapped       \n",
       "9                1262869 + 0 singletons (3.28% : N/A)       \n",
       "10    1741360 + 0 with mate mapped to a different chr       \n",
       "11  1459081 + 0 with mate mapped to a different ch...       "
      ]
     },
     "execution_count": 18,
     "metadata": {},
     "output_type": "execute_result"
    }
   ],
   "source": [
    "pd.read_csv('../../workspace/LakWasMet57_HOW8_2/bwa/LakWasMet57_HOW8_2.sorted.bam.flagstat',\n",
    "           sep='\\t')"
   ]
  },
  {
   "cell_type": "code",
   "execution_count": null,
   "metadata": {
    "collapsed": true
   },
   "outputs": [],
   "source": []
  },
  {
   "cell_type": "code",
   "execution_count": 7,
   "metadata": {
    "collapsed": false
   },
   "outputs": [
    {
     "data": {
      "text/plain": [
       "['samtools.log',\n",
       " 'LakWasMet57_HOW8_2.sorted.bam.bai',\n",
       " 'aln',\n",
       " 'LakWasMet57_HOW8_2.sorted.bam',\n",
       " 'LakWasMet57_HOW8_2.sorted.bam.flagstat',\n",
       " 'LakWasMet57_HOW8_2.summary.dat',\n",
       " 'samtools',\n",
       " 'database',\n",
       " 'database.log',\n",
       " 'database.sql',\n",
       " 'aln.log']"
      ]
     },
     "execution_count": 7,
     "metadata": {},
     "output_type": "execute_result"
    }
   ],
   "source": [
    "os.listdir(\"../../workspace/LakWasMet57_HOW8_2/bwa/\")"
   ]
  },
  {
   "cell_type": "code",
   "execution_count": null,
   "metadata": {
    "collapsed": true
   },
   "outputs": [],
   "source": []
  }
 ],
 "metadata": {
  "kernelspec": {
   "display_name": "Python 2",
   "language": "python",
   "name": "python2"
  },
  "language_info": {
   "codemirror_mode": {
    "name": "ipython",
    "version": 2
   },
   "file_extension": ".py",
   "mimetype": "text/x-python",
   "name": "python",
   "nbconvert_exporter": "python",
   "pygments_lexer": "ipython2",
   "version": "2.7.11"
  }
 },
 "nbformat": 4,
 "nbformat_minor": 0
}
