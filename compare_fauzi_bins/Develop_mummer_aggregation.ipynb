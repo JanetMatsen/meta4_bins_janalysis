{
 "cells": [
  {
   "cell_type": "code",
   "execution_count": 1,
   "metadata": {
    "collapsed": false
   },
   "outputs": [],
   "source": [
    "import pandas as pd\n",
    "%matplotlib inline"
   ]
  },
  {
   "cell_type": "code",
   "execution_count": 2,
   "metadata": {
    "collapsed": false
   },
   "outputs": [],
   "source": [
    "import aggregate_mummer_results"
   ]
  },
  {
   "cell_type": "code",
   "execution_count": 3,
   "metadata": {
    "collapsed": true
   },
   "outputs": [],
   "source": [
    "import mummer_all_bins"
   ]
  },
  {
   "cell_type": "code",
   "execution_count": 4,
   "metadata": {
    "collapsed": false
   },
   "outputs": [],
   "source": [
    "import numpy as np\n",
    "import os\n",
    "import sys\n",
    "\n",
    "import glob"
   ]
  },
  {
   "cell_type": "code",
   "execution_count": 5,
   "metadata": {
    "collapsed": false
   },
   "outputs": [],
   "source": [
    "sys.path.append('./support_files/')\n",
    "import summarise_bins "
   ]
  },
  {
   "cell_type": "code",
   "execution_count": 6,
   "metadata": {
    "collapsed": true
   },
   "outputs": [],
   "source": [
    "sample_path = './mummer_results/Methylophilus_methylotrophus-79_Ga0081650_to_Methylophilus_methylotrophus-55_Ga0081633.tsv'"
   ]
  },
  {
   "cell_type": "code",
   "execution_count": 7,
   "metadata": {
    "collapsed": false
   },
   "outputs": [],
   "source": [
    "result = aggregate_mummer_results.prepare_result(sample_path)"
   ]
  },
  {
   "cell_type": "code",
   "execution_count": 8,
   "metadata": {
    "collapsed": false
   },
   "outputs": [
    {
     "data": {
      "text/html": [
       "<div>\n",
       "<table border=\"1\" class=\"dataframe\">\n",
       "  <thead>\n",
       "    <tr style=\"text-align: right;\">\n",
       "      <th></th>\n",
       "      <th>TAGS (ref)</th>\n",
       "      <th>TAGS (query)</th>\n",
       "      <th>LEN 1</th>\n",
       "      <th>LEN 2</th>\n",
       "      <th>LEN R</th>\n",
       "      <th>LEN Q</th>\n",
       "      <th>COV R</th>\n",
       "      <th>COV Q</th>\n",
       "      <th>% IDY</th>\n",
       "      <th>mummer file</th>\n",
       "      <th>ref bin</th>\n",
       "      <th>query bin</th>\n",
       "      <th>ref contig</th>\n",
       "      <th>query contig</th>\n",
       "      <th>query name</th>\n",
       "      <th>query contig count</th>\n",
       "      <th>query bin name</th>\n",
       "      <th>ref name</th>\n",
       "      <th>ref contig count</th>\n",
       "      <th>ref bin name</th>\n",
       "    </tr>\n",
       "  </thead>\n",
       "  <tbody>\n",
       "    <tr>\n",
       "      <th>0</th>\n",
       "      <td>Ga0081633_102</td>\n",
       "      <td>Ga0081650_106</td>\n",
       "      <td>5220</td>\n",
       "      <td>5209</td>\n",
       "      <td>214587</td>\n",
       "      <td>402304</td>\n",
       "      <td>2.43</td>\n",
       "      <td>1.29</td>\n",
       "      <td>85.32</td>\n",
       "      <td>Methylophilus_methylotrophus-79_Ga0081650_to_M...</td>\n",
       "      <td>Ga0081633</td>\n",
       "      <td>Ga0081650</td>\n",
       "      <td>102</td>\n",
       "      <td>106</td>\n",
       "      <td>Methylophilus methylotrophus-79</td>\n",
       "      <td>17</td>\n",
       "      <td>Methylophilus_methylotrophus-79_Ga0081650</td>\n",
       "      <td>Methylophilus methylotrophus-55</td>\n",
       "      <td>17</td>\n",
       "      <td>Methylophilus_methylotrophus-55_Ga0081633</td>\n",
       "    </tr>\n",
       "    <tr>\n",
       "      <th>1</th>\n",
       "      <td>Ga0081633_102</td>\n",
       "      <td>Ga0081650_106</td>\n",
       "      <td>4945</td>\n",
       "      <td>4944</td>\n",
       "      <td>214587</td>\n",
       "      <td>402304</td>\n",
       "      <td>2.30</td>\n",
       "      <td>1.23</td>\n",
       "      <td>87.04</td>\n",
       "      <td>Methylophilus_methylotrophus-79_Ga0081650_to_M...</td>\n",
       "      <td>Ga0081633</td>\n",
       "      <td>Ga0081650</td>\n",
       "      <td>102</td>\n",
       "      <td>106</td>\n",
       "      <td>Methylophilus methylotrophus-79</td>\n",
       "      <td>17</td>\n",
       "      <td>Methylophilus_methylotrophus-79_Ga0081650</td>\n",
       "      <td>Methylophilus methylotrophus-55</td>\n",
       "      <td>17</td>\n",
       "      <td>Methylophilus_methylotrophus-55_Ga0081633</td>\n",
       "    </tr>\n",
       "    <tr>\n",
       "      <th>2</th>\n",
       "      <td>Ga0081633_102</td>\n",
       "      <td>Ga0081650_106</td>\n",
       "      <td>2385</td>\n",
       "      <td>2380</td>\n",
       "      <td>214587</td>\n",
       "      <td>402304</td>\n",
       "      <td>1.11</td>\n",
       "      <td>0.59</td>\n",
       "      <td>82.87</td>\n",
       "      <td>Methylophilus_methylotrophus-79_Ga0081650_to_M...</td>\n",
       "      <td>Ga0081633</td>\n",
       "      <td>Ga0081650</td>\n",
       "      <td>102</td>\n",
       "      <td>106</td>\n",
       "      <td>Methylophilus methylotrophus-79</td>\n",
       "      <td>17</td>\n",
       "      <td>Methylophilus_methylotrophus-79_Ga0081650</td>\n",
       "      <td>Methylophilus methylotrophus-55</td>\n",
       "      <td>17</td>\n",
       "      <td>Methylophilus_methylotrophus-55_Ga0081633</td>\n",
       "    </tr>\n",
       "  </tbody>\n",
       "</table>\n",
       "</div>"
      ],
      "text/plain": [
       "      TAGS (ref)   TAGS (query)  LEN 1  LEN 2   LEN R   LEN Q  COV R  COV Q  \\\n",
       "0  Ga0081633_102  Ga0081650_106   5220   5209  214587  402304   2.43   1.29   \n",
       "1  Ga0081633_102  Ga0081650_106   4945   4944  214587  402304   2.30   1.23   \n",
       "2  Ga0081633_102  Ga0081650_106   2385   2380  214587  402304   1.11   0.59   \n",
       "\n",
       "   % IDY                                        mummer file    ref bin  \\\n",
       "0  85.32  Methylophilus_methylotrophus-79_Ga0081650_to_M...  Ga0081633   \n",
       "1  87.04  Methylophilus_methylotrophus-79_Ga0081650_to_M...  Ga0081633   \n",
       "2  82.87  Methylophilus_methylotrophus-79_Ga0081650_to_M...  Ga0081633   \n",
       "\n",
       "   query bin ref contig query contig                       query name  \\\n",
       "0  Ga0081650        102          106  Methylophilus methylotrophus-79   \n",
       "1  Ga0081650        102          106  Methylophilus methylotrophus-79   \n",
       "2  Ga0081650        102          106  Methylophilus methylotrophus-79   \n",
       "\n",
       "   query contig count                             query bin name  \\\n",
       "0                  17  Methylophilus_methylotrophus-79_Ga0081650   \n",
       "1                  17  Methylophilus_methylotrophus-79_Ga0081650   \n",
       "2                  17  Methylophilus_methylotrophus-79_Ga0081650   \n",
       "\n",
       "                          ref name  ref contig count  \\\n",
       "0  Methylophilus methylotrophus-55                17   \n",
       "1  Methylophilus methylotrophus-55                17   \n",
       "2  Methylophilus methylotrophus-55                17   \n",
       "\n",
       "                                ref bin name  \n",
       "0  Methylophilus_methylotrophus-55_Ga0081633  \n",
       "1  Methylophilus_methylotrophus-55_Ga0081633  \n",
       "2  Methylophilus_methylotrophus-55_Ga0081633  "
      ]
     },
     "execution_count": 8,
     "metadata": {},
     "output_type": "execute_result"
    }
   ],
   "source": [
    "result.head(3)"
   ]
  },
  {
   "cell_type": "code",
   "execution_count": 9,
   "metadata": {
    "collapsed": false
   },
   "outputs": [
    {
     "data": {
      "text/plain": [
       "(435, 20)"
      ]
     },
     "execution_count": 9,
     "metadata": {},
     "output_type": "execute_result"
    }
   ],
   "source": [
    "result.shape"
   ]
  },
  {
   "cell_type": "code",
   "execution_count": 10,
   "metadata": {
    "collapsed": false
   },
   "outputs": [
    {
     "data": {
      "text/plain": [
       "<matplotlib.axes._subplots.AxesSubplot at 0x106c27c18>"
      ]
     },
     "execution_count": 10,
     "metadata": {},
     "output_type": "execute_result"
    },
    {
     "data": {
      "image/png": "[encoded data removed]",
      "text/plain": [
       "<matplotlib.figure.Figure at 0x106c0f080>"
      ]
     },
     "metadata": {},
     "output_type": "display_data"
    }
   ],
   "source": [
    "result['% IDY'].plot.hist()"
   ]
  },
  {
   "cell_type": "code",
   "execution_count": 11,
   "metadata": {
    "collapsed": false
   },
   "outputs": [
    {
     "data": {
      "image/png": "[encoded data removed]",
      "text/plain": [
       "<matplotlib.figure.Figure at 0x106dbab00>"
      ]
     },
     "metadata": {},
     "output_type": "display_data"
    }
   ],
   "source": [
    "aggregate_mummer_results.plot_identity_vs_len(sample_path, save_path=None)"
   ]
  },
  {
   "cell_type": "raw",
   "metadata": {
    "collapsed": false
   },
   "source": [
    "aggregate_mummer_results.plot_IDY_vs_len(\n",
    "    './mummer_results/Methylophilus_methylotrophus-79_Ga0081650_to_Methylophilus_methylotrophus-55_Ga0081633.tsv')"
   ]
  },
  {
   "cell_type": "code",
   "execution_count": 12,
   "metadata": {
    "collapsed": false
   },
   "outputs": [],
   "source": [
    "#for fp in glob.glob('./mummer_results/*.tsv'):\n",
    "#    aggregate_mummer_results.plot_IDY_vs_len(fp)\n",
    "#glob.glob('/path/to/dir/*.csv')"
   ]
  },
  {
   "cell_type": "code",
   "execution_count": 13,
   "metadata": {
    "collapsed": false
   },
   "outputs": [
    {
     "data": {
      "text/html": [
       "<div>\n",
       "<table border=\"1\" class=\"dataframe\">\n",
       "  <thead>\n",
       "    <tr style=\"text-align: right;\">\n",
       "      <th></th>\n",
       "      <th>TAGS (ref)</th>\n",
       "      <th>TAGS (query)</th>\n",
       "      <th>LEN 1</th>\n",
       "      <th>LEN 2</th>\n",
       "      <th>LEN R</th>\n",
       "      <th>LEN Q</th>\n",
       "      <th>COV R</th>\n",
       "      <th>COV Q</th>\n",
       "      <th>% IDY</th>\n",
       "      <th>mummer file</th>\n",
       "      <th>ref bin</th>\n",
       "      <th>query bin</th>\n",
       "      <th>ref contig</th>\n",
       "      <th>query contig</th>\n",
       "      <th>query name</th>\n",
       "      <th>query contig count</th>\n",
       "      <th>query bin name</th>\n",
       "      <th>ref name</th>\n",
       "      <th>ref contig count</th>\n",
       "      <th>ref bin name</th>\n",
       "    </tr>\n",
       "  </thead>\n",
       "  <tbody>\n",
       "    <tr>\n",
       "      <th>0</th>\n",
       "      <td>Ga0081633_102</td>\n",
       "      <td>Ga0081650_106</td>\n",
       "      <td>5220</td>\n",
       "      <td>5209</td>\n",
       "      <td>214587</td>\n",
       "      <td>402304</td>\n",
       "      <td>2.43</td>\n",
       "      <td>1.29</td>\n",
       "      <td>85.32</td>\n",
       "      <td>Methylophilus_methylotrophus-79_Ga0081650_to_M...</td>\n",
       "      <td>Ga0081633</td>\n",
       "      <td>Ga0081650</td>\n",
       "      <td>102</td>\n",
       "      <td>106</td>\n",
       "      <td>Methylophilus methylotrophus-79</td>\n",
       "      <td>17</td>\n",
       "      <td>Methylophilus_methylotrophus-79_Ga0081650</td>\n",
       "      <td>Methylophilus methylotrophus-55</td>\n",
       "      <td>17</td>\n",
       "      <td>Methylophilus_methylotrophus-55_Ga0081633</td>\n",
       "    </tr>\n",
       "    <tr>\n",
       "      <th>1</th>\n",
       "      <td>Ga0081633_102</td>\n",
       "      <td>Ga0081650_106</td>\n",
       "      <td>4945</td>\n",
       "      <td>4944</td>\n",
       "      <td>214587</td>\n",
       "      <td>402304</td>\n",
       "      <td>2.30</td>\n",
       "      <td>1.23</td>\n",
       "      <td>87.04</td>\n",
       "      <td>Methylophilus_methylotrophus-79_Ga0081650_to_M...</td>\n",
       "      <td>Ga0081633</td>\n",
       "      <td>Ga0081650</td>\n",
       "      <td>102</td>\n",
       "      <td>106</td>\n",
       "      <td>Methylophilus methylotrophus-79</td>\n",
       "      <td>17</td>\n",
       "      <td>Methylophilus_methylotrophus-79_Ga0081650</td>\n",
       "      <td>Methylophilus methylotrophus-55</td>\n",
       "      <td>17</td>\n",
       "      <td>Methylophilus_methylotrophus-55_Ga0081633</td>\n",
       "    </tr>\n",
       "  </tbody>\n",
       "</table>\n",
       "</div>"
      ],
      "text/plain": [
       "      TAGS (ref)   TAGS (query)  LEN 1  LEN 2   LEN R   LEN Q  COV R  COV Q  \\\n",
       "0  Ga0081633_102  Ga0081650_106   5220   5209  214587  402304   2.43   1.29   \n",
       "1  Ga0081633_102  Ga0081650_106   4945   4944  214587  402304   2.30   1.23   \n",
       "\n",
       "   % IDY                                        mummer file    ref bin  \\\n",
       "0  85.32  Methylophilus_methylotrophus-79_Ga0081650_to_M...  Ga0081633   \n",
       "1  87.04  Methylophilus_methylotrophus-79_Ga0081650_to_M...  Ga0081633   \n",
       "\n",
       "   query bin ref contig query contig                       query name  \\\n",
       "0  Ga0081650        102          106  Methylophilus methylotrophus-79   \n",
       "1  Ga0081650        102          106  Methylophilus methylotrophus-79   \n",
       "\n",
       "   query contig count                             query bin name  \\\n",
       "0                  17  Methylophilus_methylotrophus-79_Ga0081650   \n",
       "1                  17  Methylophilus_methylotrophus-79_Ga0081650   \n",
       "\n",
       "                          ref name  ref contig count  \\\n",
       "0  Methylophilus methylotrophus-55                17   \n",
       "1  Methylophilus methylotrophus-55                17   \n",
       "\n",
       "                                ref bin name  \n",
       "0  Methylophilus_methylotrophus-55_Ga0081633  \n",
       "1  Methylophilus_methylotrophus-55_Ga0081633  "
      ]
     },
     "execution_count": 13,
     "metadata": {},
     "output_type": "execute_result"
    }
   ],
   "source": [
    "result.head(2)"
   ]
  },
  {
   "cell_type": "code",
   "execution_count": 14,
   "metadata": {
    "collapsed": false
   },
   "outputs": [
    {
     "data": {
      "text/plain": [
       "86.185741442944547"
      ]
     },
     "execution_count": 14,
     "metadata": {},
     "output_type": "execute_result"
    }
   ],
   "source": [
    "aggregate_mummer_results.percent_identity(result)"
   ]
  },
  {
   "cell_type": "code",
   "execution_count": 15,
   "metadata": {
    "collapsed": false
   },
   "outputs": [
    {
     "name": "stdout",
     "output_type": "stream",
     "text": [
      "./mummer_results/Bacteroidetes-8_Ga0081654_to_Opitutae-129_Ga0081615.tsv has zero rows; omit it from summary\n",
      "--> ./mummer_results/Methylosarcina_lacus-69_Ga0081643_to_Acidovorax-123_Ga0081609.tsv:\n",
      "shape: (1, 10)\n",
      "--> ./mummer_results/Methylosarcina_lacus-55_Ga0081634_to_Acidovorax-79_Ga0081651.tsv:\n",
      "shape: (2, 10)\n",
      "./mummer_results/Methylosarcina-21_Ga0081622_to_Bacteriovorax-49_Ga0081630.tsv has zero rows; omit it from summary\n",
      "--> ./mummer_results/Methylotenera_mobilis-76-1_Ga0081647_to_Methylotenera_mobilis-63_Ga0081640.tsv:\n",
      "shape: (3, 10)\n",
      "--> ./mummer_results/Methylobacter-69_Ga0081641_to_Acidovorax-127_Ga0081613.tsv:\n",
      "shape: (4, 10)\n",
      "--> ./mummer_results/Methylophilus_methylotrophus-127-1_Ga0081611_to_Acidovorax-21_Ga0081621.tsv:\n",
      "shape: (5, 10)\n",
      "./mummer_results/Methylosarcina_lacus-69_Ga0081643_to_Methylophilus_methylotrophus-79_Ga0081650.tsv has zero rows; omit it from summary\n",
      "./mummer_results/Bacteriovorax-49_Ga0081630_to_Burkholderiales-55_Ga0081635.tsv has zero rows; omit it from summary\n",
      "./mummer_results/Methylobacte-98r_Ga0081657_to_Methylophilus_methylotrophus-127-1_Ga0081611.tsv has zero rows; omit it from summary\n",
      "--> ./mummer_results/Methylophilus_methylotrophus-69_Ga0081642_to_Methylotenera_mobilis-49_Ga0081627.tsv:\n",
      "shape: (6, 10)\n",
      "./mummer_results/Methylosarcina-21_Ga0081622_to_Bacteriovorax-63_Ga0081639.tsv has zero rows; omit it from summary\n",
      "--> ./mummer_results/Opititae-40_Ga0081625_to_Acidovorax-21_Ga0081621.tsv:\n",
      "shape: (7, 10)\n",
      "./mummer_results/Acidovorax-98_Ga0081659_to_Methylophilus_methylotrophus-98_Ga0081658.tsv has zero rows; omit it from summary\n",
      "--> ./mummer_results/Methylobacte-98r_Ga0081657_to_Methylobacte-98r_Ga0081657.tsv:\n",
      "shape: (8, 10)\n",
      "./mummer_results/Methylosarcina_lacus-55_Ga0081634_to_Bacteriovorax-49_Ga0081630.tsv has zero rows; omit it from summary\n",
      "./mummer_results/Bacteriovorax-21_Ga0081619_to_Bacteria-21_Ga0081620.tsv has zero rows; omit it from summary\n",
      "./mummer_results/Methylobacter_tundripaludum-129_Ga0081614_to_Bacteriovora-8x_Ga0081656.tsv has zero rows; omit it from summary\n",
      "--> ./mummer_results/Acidovorax-123_Ga0081609_to_Methylophilaceae-8_Ga0081655.tsv:\n",
      "shape: (9, 10)\n",
      "number of empty and filled files: 10, 9\n"
     ]
    },
    {
     "name": "stderr",
     "output_type": "stream",
     "text": [
      "/Users/janet/sshfs/meta4_bins/janalysis/compare_bins/aggregate_mummer_results.py:113: SettingWithCopyWarning: \n",
      "A value is trying to be set on a copy of a slice from a DataFrame.\n",
      "Try using .loc[row_indexer,col_indexer] = value instead\n",
      "\n",
      "See the caveats in the documentation: http://pandas.pydata.org/pandas-docs/stable/indexing.html#indexing-view-versus-copy\n",
      "  summary['% identity'] = p_id\n"
     ]
    }
   ],
   "source": [
    "test_samples = glob.glob('./mummer_results/*.tsv')[1:20]\n",
    "\n",
    "i_res = aggregate_mummer_results.percent_idty_all_results(test_samples)"
   ]
  },
  {
   "cell_type": "code",
   "execution_count": 16,
   "metadata": {
    "collapsed": false
   },
   "outputs": [
    {
     "data": {
      "text/html": [
       "<div>\n",
       "<table border=\"1\" class=\"dataframe\">\n",
       "  <thead>\n",
       "    <tr style=\"text-align: right;\">\n",
       "      <th></th>\n",
       "      <th>mummer file</th>\n",
       "      <th>ref bin</th>\n",
       "      <th>query bin</th>\n",
       "      <th>query name</th>\n",
       "      <th>query contig count</th>\n",
       "      <th>query bin name</th>\n",
       "      <th>ref name</th>\n",
       "      <th>ref contig count</th>\n",
       "      <th>ref bin name</th>\n",
       "      <th>% identity</th>\n",
       "    </tr>\n",
       "  </thead>\n",
       "  <tbody>\n",
       "    <tr>\n",
       "      <th>0</th>\n",
       "      <td>Methylosarcina_lacus-69_Ga0081643_to_Acidovora...</td>\n",
       "      <td>Ga0081609</td>\n",
       "      <td>Ga0081643</td>\n",
       "      <td>Methylosarcina lacus-69</td>\n",
       "      <td>217</td>\n",
       "      <td>Methylosarcina_lacus-69_Ga0081643</td>\n",
       "      <td>Acidovorax-123</td>\n",
       "      <td>18</td>\n",
       "      <td>Acidovorax-123_Ga0081609</td>\n",
       "      <td>82.767176</td>\n",
       "    </tr>\n",
       "    <tr>\n",
       "      <th>0</th>\n",
       "      <td>Methylosarcina_lacus-55_Ga0081634_to_Acidovora...</td>\n",
       "      <td>Ga0081651</td>\n",
       "      <td>Ga0081634</td>\n",
       "      <td>Methylosarcina lacus-55</td>\n",
       "      <td>443</td>\n",
       "      <td>Methylosarcina_lacus-55_Ga0081634</td>\n",
       "      <td>Acidovorax-79</td>\n",
       "      <td>98</td>\n",
       "      <td>Acidovorax-79_Ga0081651</td>\n",
       "      <td>79.679943</td>\n",
       "    </tr>\n",
       "    <tr>\n",
       "      <th>0</th>\n",
       "      <td>Methylotenera_mobilis-76-1_Ga0081647_to_Methyl...</td>\n",
       "      <td>Ga0081640</td>\n",
       "      <td>Ga0081647</td>\n",
       "      <td>Methylotenera mobilis-76-1</td>\n",
       "      <td>208</td>\n",
       "      <td>Methylotenera_mobilis-76-1_Ga0081647</td>\n",
       "      <td>Methylotenera mobilis-63</td>\n",
       "      <td>291</td>\n",
       "      <td>Methylotenera_mobilis-63_Ga0081640</td>\n",
       "      <td>84.924765</td>\n",
       "    </tr>\n",
       "    <tr>\n",
       "      <th>0</th>\n",
       "      <td>Methylobacter-69_Ga0081641_to_Acidovorax-127_G...</td>\n",
       "      <td>Ga0081613</td>\n",
       "      <td>Ga0081641</td>\n",
       "      <td>Methylobacter-69</td>\n",
       "      <td>180</td>\n",
       "      <td>Methylobacter-69_Ga0081641</td>\n",
       "      <td>Acidovorax-127</td>\n",
       "      <td>60</td>\n",
       "      <td>Acidovorax-127_Ga0081613</td>\n",
       "      <td>85.230000</td>\n",
       "    </tr>\n",
       "    <tr>\n",
       "      <th>0</th>\n",
       "      <td>Methylophilus_methylotrophus-127-1_Ga0081611_t...</td>\n",
       "      <td>Ga0081621</td>\n",
       "      <td>Ga0081611</td>\n",
       "      <td>Methylophilus methylotrophus-127-1</td>\n",
       "      <td>142</td>\n",
       "      <td>Methylophilus_methylotrophus-127-1_Ga0081611</td>\n",
       "      <td>Acidovorax-21</td>\n",
       "      <td>446</td>\n",
       "      <td>Acidovorax-21_Ga0081621</td>\n",
       "      <td>98.720000</td>\n",
       "    </tr>\n",
       "  </tbody>\n",
       "</table>\n",
       "</div>"
      ],
      "text/plain": [
       "                                         mummer file    ref bin  query bin  \\\n",
       "0  Methylosarcina_lacus-69_Ga0081643_to_Acidovora...  Ga0081609  Ga0081643   \n",
       "0  Methylosarcina_lacus-55_Ga0081634_to_Acidovora...  Ga0081651  Ga0081634   \n",
       "0  Methylotenera_mobilis-76-1_Ga0081647_to_Methyl...  Ga0081640  Ga0081647   \n",
       "0  Methylobacter-69_Ga0081641_to_Acidovorax-127_G...  Ga0081613  Ga0081641   \n",
       "0  Methylophilus_methylotrophus-127-1_Ga0081611_t...  Ga0081621  Ga0081611   \n",
       "\n",
       "                           query name  query contig count  \\\n",
       "0             Methylosarcina lacus-69                 217   \n",
       "0             Methylosarcina lacus-55                 443   \n",
       "0          Methylotenera mobilis-76-1                 208   \n",
       "0                    Methylobacter-69                 180   \n",
       "0  Methylophilus methylotrophus-127-1                 142   \n",
       "\n",
       "                                 query bin name                  ref name  \\\n",
       "0             Methylosarcina_lacus-69_Ga0081643            Acidovorax-123   \n",
       "0             Methylosarcina_lacus-55_Ga0081634             Acidovorax-79   \n",
       "0          Methylotenera_mobilis-76-1_Ga0081647  Methylotenera mobilis-63   \n",
       "0                    Methylobacter-69_Ga0081641            Acidovorax-127   \n",
       "0  Methylophilus_methylotrophus-127-1_Ga0081611             Acidovorax-21   \n",
       "\n",
       "   ref contig count                        ref bin name  % identity  \n",
       "0                18            Acidovorax-123_Ga0081609   82.767176  \n",
       "0                98             Acidovorax-79_Ga0081651   79.679943  \n",
       "0               291  Methylotenera_mobilis-63_Ga0081640   84.924765  \n",
       "0                60            Acidovorax-127_Ga0081613   85.230000  \n",
       "0               446             Acidovorax-21_Ga0081621   98.720000  "
      ]
     },
     "execution_count": 16,
     "metadata": {},
     "output_type": "execute_result"
    }
   ],
   "source": [
    "i_res.head()"
   ]
  },
  {
   "cell_type": "code",
   "execution_count": 17,
   "metadata": {
    "collapsed": false
   },
   "outputs": [],
   "source": [
    "res_piv = i_res.pivot(index='query name', columns='ref name', values='% identity')"
   ]
  },
  {
   "cell_type": "code",
   "execution_count": 18,
   "metadata": {
    "collapsed": false
   },
   "outputs": [],
   "source": [
    "res_piv.fillna(value=0, inplace = True)"
   ]
  },
  {
   "cell_type": "code",
   "execution_count": 19,
   "metadata": {
    "collapsed": false
   },
   "outputs": [
    {
     "data": {
      "text/html": [
       "<div>\n",
       "<table border=\"1\" class=\"dataframe\">\n",
       "  <thead>\n",
       "    <tr style=\"text-align: right;\">\n",
       "      <th>ref name</th>\n",
       "      <th>Acidovorax-123</th>\n",
       "      <th>Acidovorax-127</th>\n",
       "      <th>Acidovorax-21</th>\n",
       "      <th>Acidovorax-79</th>\n",
       "      <th>Methylobacte-98r</th>\n",
       "      <th>Methylophilaceae-8</th>\n",
       "      <th>Methylotenera mobilis-49</th>\n",
       "      <th>Methylotenera mobilis-63</th>\n",
       "    </tr>\n",
       "    <tr>\n",
       "      <th>query name</th>\n",
       "      <th></th>\n",
       "      <th></th>\n",
       "      <th></th>\n",
       "      <th></th>\n",
       "      <th></th>\n",
       "      <th></th>\n",
       "      <th></th>\n",
       "      <th></th>\n",
       "    </tr>\n",
       "  </thead>\n",
       "  <tbody>\n",
       "    <tr>\n",
       "      <th>Acidovorax-123</th>\n",
       "      <td>0.000000</td>\n",
       "      <td>0.00</td>\n",
       "      <td>0.000000</td>\n",
       "      <td>0.000000</td>\n",
       "      <td>0</td>\n",
       "      <td>89.022353</td>\n",
       "      <td>0.000000</td>\n",
       "      <td>0.000000</td>\n",
       "    </tr>\n",
       "    <tr>\n",
       "      <th>Methylobacte-98r</th>\n",
       "      <td>0.000000</td>\n",
       "      <td>0.00</td>\n",
       "      <td>0.000000</td>\n",
       "      <td>0.000000</td>\n",
       "      <td>100</td>\n",
       "      <td>0.000000</td>\n",
       "      <td>0.000000</td>\n",
       "      <td>0.000000</td>\n",
       "    </tr>\n",
       "    <tr>\n",
       "      <th>Methylobacter-69</th>\n",
       "      <td>0.000000</td>\n",
       "      <td>85.23</td>\n",
       "      <td>0.000000</td>\n",
       "      <td>0.000000</td>\n",
       "      <td>0</td>\n",
       "      <td>0.000000</td>\n",
       "      <td>0.000000</td>\n",
       "      <td>0.000000</td>\n",
       "    </tr>\n",
       "    <tr>\n",
       "      <th>Methylophilus methylotrophus-127-1</th>\n",
       "      <td>0.000000</td>\n",
       "      <td>0.00</td>\n",
       "      <td>98.720000</td>\n",
       "      <td>0.000000</td>\n",
       "      <td>0</td>\n",
       "      <td>0.000000</td>\n",
       "      <td>0.000000</td>\n",
       "      <td>0.000000</td>\n",
       "    </tr>\n",
       "    <tr>\n",
       "      <th>Methylophilus methylotrophus-69</th>\n",
       "      <td>0.000000</td>\n",
       "      <td>0.00</td>\n",
       "      <td>0.000000</td>\n",
       "      <td>0.000000</td>\n",
       "      <td>0</td>\n",
       "      <td>0.000000</td>\n",
       "      <td>82.977163</td>\n",
       "      <td>0.000000</td>\n",
       "    </tr>\n",
       "    <tr>\n",
       "      <th>Methylosarcina lacus-55</th>\n",
       "      <td>0.000000</td>\n",
       "      <td>0.00</td>\n",
       "      <td>0.000000</td>\n",
       "      <td>79.679943</td>\n",
       "      <td>0</td>\n",
       "      <td>0.000000</td>\n",
       "      <td>0.000000</td>\n",
       "      <td>0.000000</td>\n",
       "    </tr>\n",
       "    <tr>\n",
       "      <th>Methylosarcina lacus-69</th>\n",
       "      <td>82.767176</td>\n",
       "      <td>0.00</td>\n",
       "      <td>0.000000</td>\n",
       "      <td>0.000000</td>\n",
       "      <td>0</td>\n",
       "      <td>0.000000</td>\n",
       "      <td>0.000000</td>\n",
       "      <td>0.000000</td>\n",
       "    </tr>\n",
       "    <tr>\n",
       "      <th>Methylotenera mobilis-76-1</th>\n",
       "      <td>0.000000</td>\n",
       "      <td>0.00</td>\n",
       "      <td>0.000000</td>\n",
       "      <td>0.000000</td>\n",
       "      <td>0</td>\n",
       "      <td>0.000000</td>\n",
       "      <td>0.000000</td>\n",
       "      <td>84.924765</td>\n",
       "    </tr>\n",
       "    <tr>\n",
       "      <th>Opititae-40</th>\n",
       "      <td>0.000000</td>\n",
       "      <td>0.00</td>\n",
       "      <td>79.899179</td>\n",
       "      <td>0.000000</td>\n",
       "      <td>0</td>\n",
       "      <td>0.000000</td>\n",
       "      <td>0.000000</td>\n",
       "      <td>0.000000</td>\n",
       "    </tr>\n",
       "  </tbody>\n",
       "</table>\n",
       "</div>"
      ],
      "text/plain": [
       "ref name                            Acidovorax-123  Acidovorax-127  \\\n",
       "query name                                                           \n",
       "Acidovorax-123                            0.000000            0.00   \n",
       "Methylobacte-98r                          0.000000            0.00   \n",
       "Methylobacter-69                          0.000000           85.23   \n",
       "Methylophilus methylotrophus-127-1        0.000000            0.00   \n",
       "Methylophilus methylotrophus-69           0.000000            0.00   \n",
       "Methylosarcina lacus-55                   0.000000            0.00   \n",
       "Methylosarcina lacus-69                  82.767176            0.00   \n",
       "Methylotenera mobilis-76-1                0.000000            0.00   \n",
       "Opititae-40                               0.000000            0.00   \n",
       "\n",
       "ref name                            Acidovorax-21  Acidovorax-79  \\\n",
       "query name                                                         \n",
       "Acidovorax-123                           0.000000       0.000000   \n",
       "Methylobacte-98r                         0.000000       0.000000   \n",
       "Methylobacter-69                         0.000000       0.000000   \n",
       "Methylophilus methylotrophus-127-1      98.720000       0.000000   \n",
       "Methylophilus methylotrophus-69          0.000000       0.000000   \n",
       "Methylosarcina lacus-55                  0.000000      79.679943   \n",
       "Methylosarcina lacus-69                  0.000000       0.000000   \n",
       "Methylotenera mobilis-76-1               0.000000       0.000000   \n",
       "Opititae-40                             79.899179       0.000000   \n",
       "\n",
       "ref name                            Methylobacte-98r  Methylophilaceae-8  \\\n",
       "query name                                                                 \n",
       "Acidovorax-123                                     0           89.022353   \n",
       "Methylobacte-98r                                 100            0.000000   \n",
       "Methylobacter-69                                   0            0.000000   \n",
       "Methylophilus methylotrophus-127-1                 0            0.000000   \n",
       "Methylophilus methylotrophus-69                    0            0.000000   \n",
       "Methylosarcina lacus-55                            0            0.000000   \n",
       "Methylosarcina lacus-69                            0            0.000000   \n",
       "Methylotenera mobilis-76-1                         0            0.000000   \n",
       "Opititae-40                                        0            0.000000   \n",
       "\n",
       "ref name                            Methylotenera mobilis-49  \\\n",
       "query name                                                     \n",
       "Acidovorax-123                                      0.000000   \n",
       "Methylobacte-98r                                    0.000000   \n",
       "Methylobacter-69                                    0.000000   \n",
       "Methylophilus methylotrophus-127-1                  0.000000   \n",
       "Methylophilus methylotrophus-69                    82.977163   \n",
       "Methylosarcina lacus-55                             0.000000   \n",
       "Methylosarcina lacus-69                             0.000000   \n",
       "Methylotenera mobilis-76-1                          0.000000   \n",
       "Opititae-40                                         0.000000   \n",
       "\n",
       "ref name                            Methylotenera mobilis-63  \n",
       "query name                                                    \n",
       "Acidovorax-123                                      0.000000  \n",
       "Methylobacte-98r                                    0.000000  \n",
       "Methylobacter-69                                    0.000000  \n",
       "Methylophilus methylotrophus-127-1                  0.000000  \n",
       "Methylophilus methylotrophus-69                     0.000000  \n",
       "Methylosarcina lacus-55                             0.000000  \n",
       "Methylosarcina lacus-69                             0.000000  \n",
       "Methylotenera mobilis-76-1                         84.924765  \n",
       "Opititae-40                                         0.000000  "
      ]
     },
     "execution_count": 19,
     "metadata": {},
     "output_type": "execute_result"
    }
   ],
   "source": [
    "res_piv"
   ]
  },
  {
   "cell_type": "code",
   "execution_count": 20,
   "metadata": {
    "collapsed": true
   },
   "outputs": [],
   "source": [
    "import seaborn as sns"
   ]
  },
  {
   "cell_type": "code",
   "execution_count": 21,
   "metadata": {
    "collapsed": false
   },
   "outputs": [
    {
     "data": {
      "text/plain": [
       "<matplotlib.axes._subplots.AxesSubplot at 0x108e93ef0>"
      ]
     },
     "execution_count": 21,
     "metadata": {},
     "output_type": "execute_result"
    },
    {
     "data": {
      "image/png": "[encoded data removed]",
      "text/plain": [
       "<matplotlib.figure.Figure at 0x108e93550>"
      ]
     },
     "metadata": {},
     "output_type": "display_data"
    }
   ],
   "source": [
    "sns.heatmap(res_piv)"
   ]
  },
  {
   "cell_type": "code",
   "execution_count": 22,
   "metadata": {
    "collapsed": true
   },
   "outputs": [],
   "source": [
    "pid = pd.read_csv('./percent_identities.tsv', sep='\\t')"
   ]
  },
  {
   "cell_type": "code",
   "execution_count": 23,
   "metadata": {
    "collapsed": false
   },
   "outputs": [
    {
     "data": {
      "text/plain": [
       "(1394, 11)"
      ]
     },
     "execution_count": 23,
     "metadata": {},
     "output_type": "execute_result"
    }
   ],
   "source": [
    "pid.shape"
   ]
  },
  {
   "cell_type": "code",
   "execution_count": 24,
   "metadata": {
    "collapsed": false
   },
   "outputs": [
    {
     "data": {
      "text/html": [
       "<div>\n",
       "<table border=\"1\" class=\"dataframe\">\n",
       "  <thead>\n",
       "    <tr style=\"text-align: right;\">\n",
       "      <th></th>\n",
       "      <th>Unnamed: 0</th>\n",
       "      <th>mummer file</th>\n",
       "      <th>ref bin</th>\n",
       "      <th>query bin</th>\n",
       "      <th>query name</th>\n",
       "      <th>query contig count</th>\n",
       "      <th>query bin name</th>\n",
       "      <th>ref name</th>\n",
       "      <th>ref contig count</th>\n",
       "      <th>ref bin name</th>\n",
       "      <th>% identity</th>\n",
       "    </tr>\n",
       "  </thead>\n",
       "  <tbody>\n",
       "    <tr>\n",
       "      <th>0</th>\n",
       "      <td>0</td>\n",
       "      <td>Rhodocyclaceae-49_Ga0081631_to_Methylophilacea...</td>\n",
       "      <td>Ga0081624</td>\n",
       "      <td>Ga0081631</td>\n",
       "      <td>Rhodocyclaceae-49</td>\n",
       "      <td>190</td>\n",
       "      <td>Rhodocyclaceae-49_Ga0081631</td>\n",
       "      <td>Methylophilaceae-40</td>\n",
       "      <td>240</td>\n",
       "      <td>Methylophilaceae-40_Ga0081624</td>\n",
       "      <td>86.967273</td>\n",
       "    </tr>\n",
       "    <tr>\n",
       "      <th>1</th>\n",
       "      <td>0</td>\n",
       "      <td>Methylosarcina_lacus-69_Ga0081643_to_Acidovora...</td>\n",
       "      <td>Ga0081609</td>\n",
       "      <td>Ga0081643</td>\n",
       "      <td>Methylosarcina lacus-69</td>\n",
       "      <td>217</td>\n",
       "      <td>Methylosarcina_lacus-69_Ga0081643</td>\n",
       "      <td>Acidovorax-123</td>\n",
       "      <td>18</td>\n",
       "      <td>Acidovorax-123_Ga0081609</td>\n",
       "      <td>82.767176</td>\n",
       "    </tr>\n",
       "  </tbody>\n",
       "</table>\n",
       "</div>"
      ],
      "text/plain": [
       "   Unnamed: 0                                        mummer file    ref bin  \\\n",
       "0           0  Rhodocyclaceae-49_Ga0081631_to_Methylophilacea...  Ga0081624   \n",
       "1           0  Methylosarcina_lacus-69_Ga0081643_to_Acidovora...  Ga0081609   \n",
       "\n",
       "   query bin               query name  query contig count  \\\n",
       "0  Ga0081631        Rhodocyclaceae-49                 190   \n",
       "1  Ga0081643  Methylosarcina lacus-69                 217   \n",
       "\n",
       "                      query bin name             ref name  ref contig count  \\\n",
       "0        Rhodocyclaceae-49_Ga0081631  Methylophilaceae-40               240   \n",
       "1  Methylosarcina_lacus-69_Ga0081643       Acidovorax-123                18   \n",
       "\n",
       "                    ref bin name  % identity  \n",
       "0  Methylophilaceae-40_Ga0081624   86.967273  \n",
       "1       Acidovorax-123_Ga0081609   82.767176  "
      ]
     },
     "execution_count": 24,
     "metadata": {},
     "output_type": "execute_result"
    }
   ],
   "source": [
    "pid.head(2)"
   ]
  },
  {
   "cell_type": "code",
   "execution_count": 25,
   "metadata": {
    "collapsed": false
   },
   "outputs": [
    {
     "data": {
      "text/plain": [
       "(1338, 2)"
      ]
     },
     "execution_count": 25,
     "metadata": {},
     "output_type": "execute_result"
    }
   ],
   "source": [
    "pid[['query name', 'ref name']].drop_duplicates().shape"
   ]
  },
  {
   "cell_type": "raw",
   "metadata": {},
   "source": [
    "pid[pid[['query name', 'ref name']].duplicated() == True]['mummer file'].astype(str)"
   ]
  },
  {
   "cell_type": "code",
   "execution_count": 26,
   "metadata": {
    "collapsed": false
   },
   "outputs": [
    {
     "name": "stdout",
     "output_type": "stream",
     "text": [
      "height has been deprecated.\n",
      "\n"
     ]
    }
   ],
   "source": [
    "pd.set_option('display.height', 1000)\n",
    "pd.set_option('display.max_rows', 500)\n",
    "pd.set_option('display.max_columns', 500)\n",
    "pd.set_option('display.width', 1000)"
   ]
  },
  {
   "cell_type": "code",
   "execution_count": 27,
   "metadata": {
    "collapsed": true
   },
   "outputs": [],
   "source": [
    "pd.options.display.max_colwidth = 110"
   ]
  },
  {
   "cell_type": "code",
   "execution_count": 28,
   "metadata": {
    "collapsed": false
   },
   "outputs": [
    {
     "data": {
      "text/plain": [
       "(56,)"
      ]
     },
     "execution_count": 28,
     "metadata": {},
     "output_type": "execute_result"
    }
   ],
   "source": [
    "pid[pid[['query name', 'ref name']].duplicated() == True]['mummer file'].astype(str).shape"
   ]
  },
  {
   "cell_type": "code",
   "execution_count": 29,
   "metadata": {
    "collapsed": false
   },
   "outputs": [
    {
     "data": {
      "text/plain": [
       "77                Methylotenera_mobilis-49_Ga0081629_to_Methylotenera_mobilis-63_Ga0081640.tsv\n",
       "159                    Burkholderiales-129_Ga0081616_to_Methylotenera_mobilis-49_Ga0081627.tsv\n",
       "265               Methylotenera_mobilis-49_Ga0081629_to_Methylotenera_mobilis-49_Ga0081629.tsv\n",
       "310        Methylophilus_methylotrophus-69_Ga0081642_to_Methylotenera_mobilis-49_Ga0081629.tsv\n",
       "338                    Methylotenera_mobilis-49_Ga0081629_to_Methylophilaceae-49_Ga0081626.tsv\n",
       "358        Methylophilus_methylotrophus-98_Ga0081658_to_Methylotenera_mobilis-49_Ga0081629.tsv\n",
       "396                         Acidovorax-123_Ga0081609_to_Methylotenera_mobilis-49_Ga0081627.tsv\n",
       "409                          Acidovorax-98_Ga0081659_to_Methylotenera_mobilis-49_Ga0081627.tsv\n",
       "428     Methylotenera_mobilis-49_Ga0081629_to_Methylophilus_methylotrophus-129-1_Ga0081617.tsv\n",
       "501                     Burkholderiales-55_Ga0081635_to_Methylotenera_mobilis-49_Ga0081627.tsv\n",
       "551                     Methylophilaceae-8_Ga0081655_to_Methylotenera_mobilis-49_Ga0081627.tsv\n",
       "552                          Methylotenera_mobilis-49_Ga0081629_to_Acidovorax-75_Ga0081645.tsv\n",
       "567     Methylophilus_methylotrophus-129-2_Ga0081618_to_Methylotenera_mobilis-49_Ga0081629.tsv\n",
       "571                     Methylotenera_mobilis-49_Ga0081627_to_Burkholderiales-55_Ga0081635.tsv\n",
       "589             Methylotenera_mobilis-76-1_Ga0081647_to_Methylotenera_mobilis-49_Ga0081629.tsv\n",
       "597                          Acidovorax-75_Ga0081645_to_Methylotenera_mobilis-49_Ga0081627.tsv\n",
       "630        Methylophilus_methylotrophus-55_Ga0081633_to_Methylotenera_mobilis-49_Ga0081627.tsv\n",
       "633                     Methylotenera_mobilis-49_Ga0081627_to_Methylophilaceae-8_Ga0081655.tsv\n",
       "658                    Methylotenera_mobilis-49_Ga0081629_to_Methylophilaceae-40_Ga0081624.tsv\n",
       "772              Methylotenera_mobilis-49_Ga0081627_to_Methylotenera_mobilis-123_Ga0081608.tsv\n",
       "783             Methylotenera_mobilis-76-2_Ga0081649_to_Methylotenera_mobilis-49_Ga0081629.tsv\n",
       "789               Methylotenera_mobilis-63_Ga0081640_to_Methylotenera_mobilis-49_Ga0081629.tsv\n",
       "834                    Methylophilaceae-40_Ga0081624_to_Methylotenera_mobilis-49_Ga0081629.tsv\n",
       "947                      Methylotenera_mobilis-49_Ga0081627_to_Rhodocyclaceae-49_Ga0081631.tsv\n",
       "955        Methylotenera_mobilis-49_Ga0081627_to_Methylophilus_methylotrophus-55_Ga0081633.tsv\n",
       "1016       Methylotenera_mobilis-49_Ga0081627_to_Methylophilus_methylotrophus-69_Ga0081642.tsv\n",
       "1041                  Methylotenera_mobilis-49_Ga0081629_to_Flavobacteriaceae-49_Ga0081632.tsv\n",
       "1051                    Burkholderiales-76_Ga0081648_to_Methylotenera_mobilis-49_Ga0081629.tsv\n",
       "1052            Methylotenera_mobilis-49_Ga0081627_to_Methylotenera_mobilis-76-2_Ga0081649.tsv\n",
       "1060                    Methylotenera_mobilis-49_Ga0081627_to_Burkholderiales-76_Ga0081648.tsv\n",
       "1085             Methylotenera_mobilis-123_Ga0081608_to_Methylotenera_mobilis-49_Ga0081629.tsv\n",
       "1090       Methylophilus_methylotrophus-79_Ga0081650_to_Methylotenera_mobilis-49_Ga0081629.tsv\n",
       "1098       Methylotenera_mobilis-49_Ga0081627_to_Methylophilus_methylotrophus-98_Ga0081658.tsv\n",
       "1100                   Methylotenera_mobilis-49_Ga0081629_to_Burkholderiales-129_Ga0081616.tsv\n",
       "1106    Methylotenera_mobilis-49_Ga0081627_to_Methylophilus_methylotrophus-129-2_Ga0081618.tsv\n",
       "1110                         Acidovorax-21_Ga0081621_to_Methylotenera_mobilis-49_Ga0081629.tsv\n",
       "1123    Methylophilus_methylotrophus-127-1_Ga0081611_to_Methylotenera_mobilis-49_Ga0081629.tsv\n",
       "1171                        Methylotenera_mobilis-49_Ga0081627_to_Acidovorax-127_Ga0081613.tsv\n",
       "1193                        Methylotenera_mobilis-49_Ga0081627_to_Acidovorax-123_Ga0081609.tsv\n",
       "1199                   Methylophilaceae-49_Ga0081626_to_Methylotenera_mobilis-49_Ga0081627.tsv\n",
       "1209                           Bacteria-21_Ga0081620_to_Methylotenera_mobilis-49_Ga0081629.tsv\n",
       "1241                           Methylotenera_mobilis-49_Ga0081627_to_Bacteria-21_Ga0081620.tsv\n",
       "1242                        Acidovorax-127_Ga0081613_to_Methylotenera_mobilis-49_Ga0081627.tsv\n",
       "1248              Methylotenera_mobilis-49_Ga0081627_to_Methylotenera_mobilis-49_Ga0081627.tsv\n",
       "1249            Methylotenera_mobilis-49_Ga0081629_to_Methylotenera_mobilis-76-1_Ga0081647.tsv\n",
       "1256                   Methylophilaceae-55_Ga0081637_to_Methylotenera_mobilis-49_Ga0081629.tsv\n",
       "1304              Methylotenera_mobilis-49_Ga0081627_to_Methylotenera_mobilis-49_Ga0081629.tsv\n",
       "1307    Methylophilus_methylotrophus-127-2_Ga0081612_to_Methylotenera_mobilis-49_Ga0081629.tsv\n",
       "1331                         Methylotenera_mobilis-49_Ga0081629_to_Acidovorax-21_Ga0081621.tsv\n",
       "1336    Methylophilus_methylotrophus-129-1_Ga0081617_to_Methylotenera_mobilis-49_Ga0081627.tsv\n",
       "1351       Methylotenera_mobilis-49_Ga0081629_to_Methylophilus_methylotrophus-79_Ga0081650.tsv\n",
       "1364                  Flavobacteriaceae-49_Ga0081632_to_Methylotenera_mobilis-49_Ga0081627.tsv\n",
       "1378                   Methylotenera_mobilis-49_Ga0081629_to_Methylophilaceae-55_Ga0081637.tsv\n",
       "1381    Methylotenera_mobilis-49_Ga0081627_to_Methylophilus_methylotrophus-127-2_Ga0081612.tsv\n",
       "1387                         Methylotenera_mobilis-49_Ga0081629_to_Acidovorax-98_Ga0081659.tsv\n",
       "1391    Methylotenera_mobilis-49_Ga0081629_to_Methylophilus_methylotrophus-127-1_Ga0081611.tsv\n",
       "Name: mummer file, dtype: object"
      ]
     },
     "execution_count": 29,
     "metadata": {},
     "output_type": "execute_result"
    }
   ],
   "source": [
    "pid[pid[['query name', 'ref name']].duplicated() == True]['mummer file'].astype(str)"
   ]
  },
  {
   "cell_type": "code",
   "execution_count": 32,
   "metadata": {
    "collapsed": false
   },
   "outputs": [
    {
     "data": {
      "text/plain": [
       "77      True\n",
       "159     True\n",
       "265     True\n",
       "310     True\n",
       "338     True\n",
       "358     True\n",
       "396     True\n",
       "409     True\n",
       "428     True\n",
       "501     True\n",
       "551     True\n",
       "552     True\n",
       "567     True\n",
       "571     True\n",
       "589     True\n",
       "597     True\n",
       "630     True\n",
       "633     True\n",
       "658     True\n",
       "772     True\n",
       "783     True\n",
       "789     True\n",
       "834     True\n",
       "947     True\n",
       "955     True\n",
       "1016    True\n",
       "1041    True\n",
       "1051    True\n",
       "1052    True\n",
       "1060    True\n",
       "1085    True\n",
       "1090    True\n",
       "1098    True\n",
       "1100    True\n",
       "1106    True\n",
       "1110    True\n",
       "1123    True\n",
       "1171    True\n",
       "1193    True\n",
       "1199    True\n",
       "1209    True\n",
       "1241    True\n",
       "1242    True\n",
       "1248    True\n",
       "1249    True\n",
       "1256    True\n",
       "1304    True\n",
       "1307    True\n",
       "1331    True\n",
       "1336    True\n",
       "1351    True\n",
       "1364    True\n",
       "1378    True\n",
       "1381    True\n",
       "1387    True\n",
       "1391    True\n",
       "Name: mummer file, dtype: bool"
      ]
     },
     "execution_count": 32,
     "metadata": {},
     "output_type": "execute_result"
    }
   ],
   "source": [
    "# all files contain Methylotenera_mobilis-49\n",
    "pid[pid[['query name', 'ref name']].duplicated() == True]['mummer file'].str.contains('Methylotenera_mobilis-49')"
   ]
  },
  {
   "cell_type": "code",
   "execution_count": null,
   "metadata": {
    "collapsed": true
   },
   "outputs": [],
   "source": [
    "pid[['query name', 'ref name','% identity']\n",
    "             ].pivot(index='query name', \n",
    "                     columns = 'query name', values = '% identity')"
   ]
  },
  {
   "cell_type": "code",
   "execution_count": null,
   "metadata": {
    "collapsed": false
   },
   "outputs": [],
   "source": [
    "stacked = pid[['mummer file', 'query name', 'ref name','% identity']\n",
    "             ].pivot(index='mummer file', \n",
    "                     columns = 'query name', values = '% identity')"
   ]
  },
  {
   "cell_type": "code",
   "execution_count": null,
   "metadata": {
    "collapsed": false
   },
   "outputs": [],
   "source": [
    "stacked.head(2)"
   ]
  },
  {
   "cell_type": "code",
   "execution_count": null,
   "metadata": {
    "collapsed": false
   },
   "outputs": [],
   "source": [
    "stacked = pid.set_index(['mummer file', 'query name', 'ref name'])[['% identity']].unstack('ref name')"
   ]
  },
  {
   "cell_type": "code",
   "execution_count": null,
   "metadata": {
    "collapsed": false
   },
   "outputs": [],
   "source": [
    "stacked = pid.set_index(['mummer file', 'query name', 'ref name'])[['% identity']].pivot()"
   ]
  },
  {
   "cell_type": "code",
   "execution_count": null,
   "metadata": {
    "collapsed": false
   },
   "outputs": [],
   "source": [
    "stacked.shape"
   ]
  },
  {
   "cell_type": "code",
   "execution_count": null,
   "metadata": {
    "collapsed": false
   },
   "outputs": [],
   "source": [
    "stacked.head(2)"
   ]
  },
  {
   "cell_type": "code",
   "execution_count": null,
   "metadata": {
    "collapsed": false
   },
   "outputs": [],
   "source": [
    "stacked.reset_index(level=['mummer file'], inplace=True)\n",
    "stacked.head()"
   ]
  },
  {
   "cell_type": "code",
   "execution_count": null,
   "metadata": {
    "collapsed": false
   },
   "outputs": [],
   "source": [
    "stacked.reset_index(level=['mummer file'], inplace=True)\n",
    "stacked.drop('mummer file', axis=1, inplace=True)\n",
    "stacked.head()"
   ]
  },
  {
   "cell_type": "code",
   "execution_count": null,
   "metadata": {
    "collapsed": false
   },
   "outputs": [],
   "source": [
    "sns.heatmap(stacked)"
   ]
  },
  {
   "cell_type": "code",
   "execution_count": null,
   "metadata": {
    "collapsed": false
   },
   "outputs": [],
   "source": [
    "stacked_cleaned = stacked.copy().reset_index()\n",
    "#stacked_cleaned.drop(['mummer file'])\n",
    "stacked_cleaned.head()"
   ]
  },
  {
   "cell_type": "code",
   "execution_count": null,
   "metadata": {
    "collapsed": false
   },
   "outputs": [],
   "source": [
    "pid.pivot(index='query name', columns='ref name', values='% identity')"
   ]
  },
  {
   "cell_type": "code",
   "execution_count": null,
   "metadata": {
    "collapsed": false
   },
   "outputs": [],
   "source": [
    "pid[].drop_duplicates().shape"
   ]
  },
  {
   "cell_type": "code",
   "execution_count": null,
   "metadata": {
    "collapsed": true
   },
   "outputs": [],
   "source": []
  }
 ],
 "metadata": {
  "kernelspec": {
   "display_name": "IPython (Python 3)",
   "language": "python",
   "name": "python3"
  },
  "language_info": {
   "codemirror_mode": {
    "name": "ipython",
    "version": 3
   },
   "file_extension": ".py",
   "mimetype": "text/x-python",
   "name": "python",
   "nbconvert_exporter": "python",
   "pygments_lexer": "ipython3",
   "version": "3.5.1"
  }
 },
 "nbformat": 4,
 "nbformat_minor": 0
}
