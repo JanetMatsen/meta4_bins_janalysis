{
 "cells": [
  {
   "cell_type": "markdown",
   "metadata": {},
   "source": [
    "import sys"
   ]
  },
  {
   "cell_type": "code",
   "execution_count": 1,
   "metadata": {
    "collapsed": true
   },
   "outputs": [],
   "source": [
    "import pandas as pd"
   ]
  },
  {
   "cell_type": "code",
   "execution_count": 2,
   "metadata": {
    "collapsed": false
   },
   "outputs": [
    {
     "name": "stderr",
     "output_type": "stream",
     "text": [
      "//anaconda/envs/m4_janalysis/lib/python3.5/site-packages/IPython/html.py:14: ShimWarning: The `IPython.html` package has been deprecated. You should import from `notebook` instead. `IPython.html.widgets` has moved to `ipywidgets`.\n",
      "  \"`IPython.html.widgets` has moved to `ipywidgets`.\", ShimWarning)\n"
     ]
    }
   ],
   "source": [
    "import seaborn as sns"
   ]
  },
  {
   "cell_type": "code",
   "execution_count": 3,
   "metadata": {
    "collapsed": true
   },
   "outputs": [],
   "source": [
    "import matplotlib.pyplot as plt"
   ]
  },
  {
   "cell_type": "code",
   "execution_count": 4,
   "metadata": {
    "collapsed": true
   },
   "outputs": [],
   "source": [
    "%matplotlib inline"
   ]
  },
  {
   "cell_type": "code",
   "execution_count": 5,
   "metadata": {
    "collapsed": true
   },
   "outputs": [],
   "source": [
    "import aggregate_mummer_results"
   ]
  },
  {
   "cell_type": "code",
   "execution_count": 6,
   "metadata": {
    "collapsed": false
   },
   "outputs": [],
   "source": [
    "full_data = pd.read_csv(\"percent_identities.tsv\" ,sep = '\\t')"
   ]
  },
  {
   "cell_type": "code",
   "execution_count": 7,
   "metadata": {
    "collapsed": false
   },
   "outputs": [
    {
     "data": {
      "text/html": [
       "<div>\n",
       "<table border=\"1\" class=\"dataframe\">\n",
       "  <thead>\n",
       "    <tr style=\"text-align: right;\">\n",
       "      <th></th>\n",
       "      <th>Unnamed: 0</th>\n",
       "      <th>mummer file</th>\n",
       "      <th>ref bin</th>\n",
       "      <th>query bin</th>\n",
       "      <th>query name</th>\n",
       "      <th>query contig count</th>\n",
       "      <th>query bin name</th>\n",
       "      <th>ref name</th>\n",
       "      <th>ref contig count</th>\n",
       "      <th>ref bin name</th>\n",
       "      <th>...</th>\n",
       "      <th>query contigs</th>\n",
       "      <th>query file name</th>\n",
       "      <th>ref bp</th>\n",
       "      <th>ref contigs</th>\n",
       "      <th>ref file name</th>\n",
       "      <th>% identity</th>\n",
       "      <th>query alignment length total</th>\n",
       "      <th>number alignments aggregated</th>\n",
       "      <th>frac of query aligned</th>\n",
       "      <th>estimated % identity</th>\n",
       "    </tr>\n",
       "  </thead>\n",
       "  <tbody>\n",
       "    <tr>\n",
       "      <th>0</th>\n",
       "      <td>0</td>\n",
       "      <td>Rhodocyclaceae-49_Ga0081631_to_Methylophilacea...</td>\n",
       "      <td>Ga0081624</td>\n",
       "      <td>Ga0081631</td>\n",
       "      <td>Rhodocyclaceae-49</td>\n",
       "      <td>190</td>\n",
       "      <td>Rhodocyclaceae-49_Ga0081631</td>\n",
       "      <td>Methylophilaceae-40</td>\n",
       "      <td>240</td>\n",
       "      <td>Methylophilaceae-40_Ga0081624</td>\n",
       "      <td>...</td>\n",
       "      <td>189</td>\n",
       "      <td>Rhodocyclaceae-49_Ga0081631.fasta</td>\n",
       "      <td>1297884</td>\n",
       "      <td>239</td>\n",
       "      <td>Methylophilaceae-40_Ga0081624.fasta</td>\n",
       "      <td>86.967273</td>\n",
       "      <td>286</td>\n",
       "      <td>2</td>\n",
       "      <td>0.000077</td>\n",
       "      <td>0.006723</td>\n",
       "    </tr>\n",
       "    <tr>\n",
       "      <th>1</th>\n",
       "      <td>0</td>\n",
       "      <td>Methylosarcina_lacus-69_Ga0081643_to_Acidovora...</td>\n",
       "      <td>Ga0081609</td>\n",
       "      <td>Ga0081643</td>\n",
       "      <td>Methylosarcina lacus-69</td>\n",
       "      <td>217</td>\n",
       "      <td>Methylosarcina_lacus-69_Ga0081643</td>\n",
       "      <td>Acidovorax-123</td>\n",
       "      <td>18</td>\n",
       "      <td>Acidovorax-123_Ga0081609</td>\n",
       "      <td>...</td>\n",
       "      <td>216</td>\n",
       "      <td>Methylosarcina_lacus-69_Ga0081643.fasta</td>\n",
       "      <td>2720811</td>\n",
       "      <td>17</td>\n",
       "      <td>Acidovorax-123_Ga0081609.fasta</td>\n",
       "      <td>82.767176</td>\n",
       "      <td>1388</td>\n",
       "      <td>3</td>\n",
       "      <td>0.000339</td>\n",
       "      <td>0.028097</td>\n",
       "    </tr>\n",
       "    <tr>\n",
       "      <th>2</th>\n",
       "      <td>0</td>\n",
       "      <td>Methylosarcina_lacus-55_Ga0081634_to_Acidovora...</td>\n",
       "      <td>Ga0081651</td>\n",
       "      <td>Ga0081634</td>\n",
       "      <td>Methylosarcina lacus-55</td>\n",
       "      <td>443</td>\n",
       "      <td>Methylosarcina_lacus-55_Ga0081634</td>\n",
       "      <td>Acidovorax-79</td>\n",
       "      <td>98</td>\n",
       "      <td>Acidovorax-79_Ga0081651</td>\n",
       "      <td>...</td>\n",
       "      <td>442</td>\n",
       "      <td>Methylosarcina_lacus-55_Ga0081634.fasta</td>\n",
       "      <td>2768114</td>\n",
       "      <td>97</td>\n",
       "      <td>Acidovorax-79_Ga0081651.fasta</td>\n",
       "      <td>79.679943</td>\n",
       "      <td>1048</td>\n",
       "      <td>2</td>\n",
       "      <td>0.000563</td>\n",
       "      <td>0.044885</td>\n",
       "    </tr>\n",
       "  </tbody>\n",
       "</table>\n",
       "<p>3 rows × 21 columns</p>\n",
       "</div>"
      ],
      "text/plain": [
       "   Unnamed: 0                                        mummer file    ref bin  \\\n",
       "0           0  Rhodocyclaceae-49_Ga0081631_to_Methylophilacea...  Ga0081624   \n",
       "1           0  Methylosarcina_lacus-69_Ga0081643_to_Acidovora...  Ga0081609   \n",
       "2           0  Methylosarcina_lacus-55_Ga0081634_to_Acidovora...  Ga0081651   \n",
       "\n",
       "   query bin               query name  query contig count  \\\n",
       "0  Ga0081631        Rhodocyclaceae-49                 190   \n",
       "1  Ga0081643  Methylosarcina lacus-69                 217   \n",
       "2  Ga0081634  Methylosarcina lacus-55                 443   \n",
       "\n",
       "                      query bin name             ref name  ref contig count  \\\n",
       "0        Rhodocyclaceae-49_Ga0081631  Methylophilaceae-40               240   \n",
       "1  Methylosarcina_lacus-69_Ga0081643       Acidovorax-123                18   \n",
       "2  Methylosarcina_lacus-55_Ga0081634        Acidovorax-79                98   \n",
       "\n",
       "                    ref bin name          ...           query contigs  \\\n",
       "0  Methylophilaceae-40_Ga0081624          ...                     189   \n",
       "1       Acidovorax-123_Ga0081609          ...                     216   \n",
       "2        Acidovorax-79_Ga0081651          ...                     442   \n",
       "\n",
       "                           query file name   ref bp  ref contigs  \\\n",
       "0        Rhodocyclaceae-49_Ga0081631.fasta  1297884          239   \n",
       "1  Methylosarcina_lacus-69_Ga0081643.fasta  2720811           17   \n",
       "2  Methylosarcina_lacus-55_Ga0081634.fasta  2768114           97   \n",
       "\n",
       "                         ref file name % identity  \\\n",
       "0  Methylophilaceae-40_Ga0081624.fasta  86.967273   \n",
       "1       Acidovorax-123_Ga0081609.fasta  82.767176   \n",
       "2        Acidovorax-79_Ga0081651.fasta  79.679943   \n",
       "\n",
       "   query alignment length total  number alignments aggregated  \\\n",
       "0                           286                             2   \n",
       "1                          1388                             3   \n",
       "2                          1048                             2   \n",
       "\n",
       "   frac of query aligned  estimated % identity  \n",
       "0               0.000077              0.006723  \n",
       "1               0.000339              0.028097  \n",
       "2               0.000563              0.044885  \n",
       "\n",
       "[3 rows x 21 columns]"
      ]
     },
     "execution_count": 7,
     "metadata": {},
     "output_type": "execute_result"
    }
   ],
   "source": [
    "full_data.head(3)"
   ]
  },
  {
   "cell_type": "code",
   "execution_count": 8,
   "metadata": {
    "collapsed": true
   },
   "outputs": [],
   "source": [
    "organism_names = full_data['query name'].unique()"
   ]
  },
  {
   "cell_type": "code",
   "execution_count": 9,
   "metadata": {
    "collapsed": false
   },
   "outputs": [
    {
     "data": {
      "text/plain": [
       "array(['Rhodocyclaceae-49', 'Methylosarcina lacus-69',\n",
       "       'Methylosarcina lacus-55', 'Methylotenera mobilis-76-1',\n",
       "       'Methylobacter-69', 'Methylophilus methylotrophus-127-1',\n",
       "       'Opititae-40', 'Methylobacte-98r', 'Acidovorax-123',\n",
       "       'Methylophilaceae-49', 'Acidovorax-75', 'Bacteria-21',\n",
       "       'Methylotenera mobilis-76-2', 'Acidovora-69x',\n",
       "       'Methylophilus methylotrophus-129-2', 'Bacteriovora-8x',\n",
       "       'Flavobacteriaceae-79-2', 'Methylobacter-123',\n",
       "       'Methylophilus methylotrophus-98', 'Methylophilaceae-40',\n",
       "       'Methylophilus methylotrophus-55', 'Burkholderiales-55',\n",
       "       'Methylotenera mobilis-123', 'Burkholderiales-76',\n",
       "       'Methylophilaceae-8', 'Acidovorax-21',\n",
       "       'Methylophilus methylotrophus-129-1', 'Acidovorax-98',\n",
       "       'Methylophilaceae-55', 'Bacteriovorax-49',\n",
       "       'Methylotenera mobilis-63', 'Methylovulum miyakonense-55',\n",
       "       'Burkholderiales-129', 'Flavobacteriaceae-49',\n",
       "       'Methylophilus methylotrophus-79',\n",
       "       'Methylobacter tundripaludum-129', 'Acidovorax-127',\n",
       "       'Rhodocyclaceae-127', 'Methylophilus methylotrophus-69',\n",
       "       'Methylophilus methylotrophus-127-2', 'Acidovorax-79',\n",
       "       'Opitutae-129', 'Methylosarcina-21', 'Methylococcaceae-55',\n",
       "       'Bacteroidetes-76', 'Bacteroidetes-49', 'Methylococcaceae-21',\n",
       "       'Bacteroidetes-8', 'Flavobacteriaceae-79-1', 'Bacteriovorax-63',\n",
       "       'Bacteriovorax-21'], dtype=object)"
      ]
     },
     "execution_count": 9,
     "metadata": {},
     "output_type": "execute_result"
    }
   ],
   "source": [
    "organism_names"
   ]
  },
  {
   "cell_type": "code",
   "execution_count": 10,
   "metadata": {
    "collapsed": false
   },
   "outputs": [],
   "source": [
    "plot_names = [n for n in organism_names if \"Methylotenera\" in n] + \\\n",
    "             [n for n in organism_names if \"Acidovorax\" in n]"
   ]
  },
  {
   "cell_type": "code",
   "execution_count": 11,
   "metadata": {
    "collapsed": false
   },
   "outputs": [
    {
     "data": {
      "text/plain": [
       "['Methylotenera mobilis-76-1',\n",
       " 'Methylotenera mobilis-76-2',\n",
       " 'Methylotenera mobilis-123',\n",
       " 'Methylotenera mobilis-63',\n",
       " 'Acidovorax-123',\n",
       " 'Acidovorax-75',\n",
       " 'Acidovorax-21',\n",
       " 'Acidovorax-98',\n",
       " 'Acidovorax-127',\n",
       " 'Acidovorax-79']"
      ]
     },
     "execution_count": 11,
     "metadata": {},
     "output_type": "execute_result"
    }
   ],
   "source": [
    "plot_names"
   ]
  },
  {
   "cell_type": "code",
   "execution_count": 12,
   "metadata": {
    "collapsed": true
   },
   "outputs": [],
   "source": [
    "def only_selected_query_and_ref(name_list):\n",
    "    all_data = pd.read_csv(\"percent_identities.tsv\" ,sep = '\\t')\n",
    "    all_data = all_data[all_data['query name'].isin(name_list)]\n",
    "    all_data = all_data[all_data['ref name'].isin(name_list)]\n",
    "    print(\"num rows selected: {}\".format(all_data.shape[0]))\n",
    "    return all_data"
   ]
  },
  {
   "cell_type": "code",
   "execution_count": 13,
   "metadata": {
    "collapsed": false
   },
   "outputs": [
    {
     "name": "stdout",
     "output_type": "stream",
     "text": [
      "num rows selected: 86\n"
     ]
    }
   ],
   "source": [
    "plot_data = only_selected_query_and_ref(plot_names)"
   ]
  },
  {
   "cell_type": "code",
   "execution_count": 14,
   "metadata": {
    "collapsed": false
   },
   "outputs": [
    {
     "data": {
      "image/png": "[encoded data removed]",
      "text/plain": [
       "<matplotlib.figure.Figure at 0x113321da0>"
      ]
     },
     "metadata": {},
     "output_type": "display_data"
    }
   ],
   "source": [
    "ax = plt.axes()\n",
    "sns.heatmap(aggregate_mummer_results.pivot_identity_table(plot_data), ax = ax, )\n",
    "ax.set_title('% identity \\n (length-weighted)')\n",
    "ax.figure.tight_layout()\n",
    "ax.figure.set_size_inches(w=4, h=6)\n",
    "ax.figure.savefig('160601_original_percent_identity_measure.pdf')\n"
   ]
  },
  {
   "cell_type": "code",
   "execution_count": 15,
   "metadata": {
    "collapsed": false
   },
   "outputs": [
    {
     "data": {
      "text/html": [
       "<div>\n",
       "<table border=\"1\" class=\"dataframe\">\n",
       "  <thead>\n",
       "    <tr style=\"text-align: right;\">\n",
       "      <th></th>\n",
       "      <th>Unnamed: 0</th>\n",
       "      <th>mummer file</th>\n",
       "      <th>ref bin</th>\n",
       "      <th>query bin</th>\n",
       "      <th>query name</th>\n",
       "      <th>query contig count</th>\n",
       "      <th>query bin name</th>\n",
       "      <th>ref name</th>\n",
       "      <th>ref contig count</th>\n",
       "      <th>ref bin name</th>\n",
       "      <th>...</th>\n",
       "      <th>query contigs</th>\n",
       "      <th>query file name</th>\n",
       "      <th>ref bp</th>\n",
       "      <th>ref contigs</th>\n",
       "      <th>ref file name</th>\n",
       "      <th>% identity</th>\n",
       "      <th>query alignment length total</th>\n",
       "      <th>number alignments aggregated</th>\n",
       "      <th>frac of query aligned</th>\n",
       "      <th>estimated % identity</th>\n",
       "    </tr>\n",
       "  </thead>\n",
       "  <tbody>\n",
       "    <tr>\n",
       "      <th>3</th>\n",
       "      <td>0</td>\n",
       "      <td>Methylotenera_mobilis-76-1_Ga0081647_to_Methyl...</td>\n",
       "      <td>Ga0081640</td>\n",
       "      <td>Ga0081647</td>\n",
       "      <td>Methylotenera mobilis-76-1</td>\n",
       "      <td>208</td>\n",
       "      <td>Methylotenera_mobilis-76-1_Ga0081647</td>\n",
       "      <td>Methylotenera mobilis-63</td>\n",
       "      <td>291</td>\n",
       "      <td>Methylotenera_mobilis-63_Ga0081640</td>\n",
       "      <td>...</td>\n",
       "      <td>207</td>\n",
       "      <td>Methylotenera_mobilis-76-1_Ga0081647.fasta</td>\n",
       "      <td>1642972</td>\n",
       "      <td>290</td>\n",
       "      <td>Methylotenera_mobilis-63_Ga0081640.fasta</td>\n",
       "      <td>84.924765</td>\n",
       "      <td>305230</td>\n",
       "      <td>149</td>\n",
       "      <td>0.125403</td>\n",
       "      <td>10.649837</td>\n",
       "    </tr>\n",
       "    <tr>\n",
       "      <th>12</th>\n",
       "      <td>0</td>\n",
       "      <td>Methylotenera_mobilis-76-2_Ga0081649_to_Acidov...</td>\n",
       "      <td>Ga0081613</td>\n",
       "      <td>Ga0081649</td>\n",
       "      <td>Methylotenera mobilis-76-2</td>\n",
       "      <td>409</td>\n",
       "      <td>Methylotenera_mobilis-76-2_Ga0081649</td>\n",
       "      <td>Acidovorax-127</td>\n",
       "      <td>60</td>\n",
       "      <td>Acidovorax-127_Ga0081613</td>\n",
       "      <td>...</td>\n",
       "      <td>408</td>\n",
       "      <td>Methylotenera_mobilis-76-2_Ga0081649.fasta</td>\n",
       "      <td>3161893</td>\n",
       "      <td>59</td>\n",
       "      <td>Acidovorax-127_Ga0081613.fasta</td>\n",
       "      <td>100.000000</td>\n",
       "      <td>159</td>\n",
       "      <td>2</td>\n",
       "      <td>0.000053</td>\n",
       "      <td>0.005304</td>\n",
       "    </tr>\n",
       "    <tr>\n",
       "      <th>32</th>\n",
       "      <td>0</td>\n",
       "      <td>Acidovorax-21_Ga0081621_to_Methylotenera_mobil...</td>\n",
       "      <td>Ga0081649</td>\n",
       "      <td>Ga0081621</td>\n",
       "      <td>Acidovorax-21</td>\n",
       "      <td>446</td>\n",
       "      <td>Acidovorax-21_Ga0081621</td>\n",
       "      <td>Methylotenera mobilis-76-2</td>\n",
       "      <td>409</td>\n",
       "      <td>Methylotenera_mobilis-76-2_Ga0081649</td>\n",
       "      <td>...</td>\n",
       "      <td>445</td>\n",
       "      <td>Acidovorax-21_Ga0081621.fasta</td>\n",
       "      <td>2997616</td>\n",
       "      <td>408</td>\n",
       "      <td>Methylotenera_mobilis-76-2_Ga0081649.fasta</td>\n",
       "      <td>97.670000</td>\n",
       "      <td>86</td>\n",
       "      <td>1</td>\n",
       "      <td>0.000047</td>\n",
       "      <td>0.004586</td>\n",
       "    </tr>\n",
       "    <tr>\n",
       "      <th>36</th>\n",
       "      <td>0</td>\n",
       "      <td>Acidovorax-98_Ga0081659_to_Acidovorax-123_Ga00...</td>\n",
       "      <td>Ga0081609</td>\n",
       "      <td>Ga0081659</td>\n",
       "      <td>Acidovorax-98</td>\n",
       "      <td>359</td>\n",
       "      <td>Acidovorax-98_Ga0081659</td>\n",
       "      <td>Acidovorax-123</td>\n",
       "      <td>18</td>\n",
       "      <td>Acidovorax-123_Ga0081609</td>\n",
       "      <td>...</td>\n",
       "      <td>358</td>\n",
       "      <td>Acidovorax-98_Ga0081659.fasta</td>\n",
       "      <td>2720811</td>\n",
       "      <td>17</td>\n",
       "      <td>Acidovorax-123_Ga0081609.fasta</td>\n",
       "      <td>83.451002</td>\n",
       "      <td>170025</td>\n",
       "      <td>156</td>\n",
       "      <td>0.050519</td>\n",
       "      <td>4.215872</td>\n",
       "    </tr>\n",
       "    <tr>\n",
       "      <th>40</th>\n",
       "      <td>0</td>\n",
       "      <td>Methylotenera_mobilis-123_Ga0081608_to_Methylo...</td>\n",
       "      <td>Ga0081649</td>\n",
       "      <td>Ga0081608</td>\n",
       "      <td>Methylotenera mobilis-123</td>\n",
       "      <td>300</td>\n",
       "      <td>Methylotenera_mobilis-123_Ga0081608</td>\n",
       "      <td>Methylotenera mobilis-76-2</td>\n",
       "      <td>409</td>\n",
       "      <td>Methylotenera_mobilis-76-2_Ga0081649</td>\n",
       "      <td>...</td>\n",
       "      <td>299</td>\n",
       "      <td>Methylotenera_mobilis-123_Ga0081608.fasta</td>\n",
       "      <td>2997616</td>\n",
       "      <td>408</td>\n",
       "      <td>Methylotenera_mobilis-76-2_Ga0081649.fasta</td>\n",
       "      <td>98.991738</td>\n",
       "      <td>1187351</td>\n",
       "      <td>260</td>\n",
       "      <td>0.539381</td>\n",
       "      <td>53.394227</td>\n",
       "    </tr>\n",
       "  </tbody>\n",
       "</table>\n",
       "<p>5 rows × 21 columns</p>\n",
       "</div>"
      ],
      "text/plain": [
       "    Unnamed: 0                                        mummer file    ref bin  \\\n",
       "3            0  Methylotenera_mobilis-76-1_Ga0081647_to_Methyl...  Ga0081640   \n",
       "12           0  Methylotenera_mobilis-76-2_Ga0081649_to_Acidov...  Ga0081613   \n",
       "32           0  Acidovorax-21_Ga0081621_to_Methylotenera_mobil...  Ga0081649   \n",
       "36           0  Acidovorax-98_Ga0081659_to_Acidovorax-123_Ga00...  Ga0081609   \n",
       "40           0  Methylotenera_mobilis-123_Ga0081608_to_Methylo...  Ga0081649   \n",
       "\n",
       "    query bin                  query name  query contig count  \\\n",
       "3   Ga0081647  Methylotenera mobilis-76-1                 208   \n",
       "12  Ga0081649  Methylotenera mobilis-76-2                 409   \n",
       "32  Ga0081621               Acidovorax-21                 446   \n",
       "36  Ga0081659               Acidovorax-98                 359   \n",
       "40  Ga0081608   Methylotenera mobilis-123                 300   \n",
       "\n",
       "                          query bin name                    ref name  \\\n",
       "3   Methylotenera_mobilis-76-1_Ga0081647    Methylotenera mobilis-63   \n",
       "12  Methylotenera_mobilis-76-2_Ga0081649              Acidovorax-127   \n",
       "32               Acidovorax-21_Ga0081621  Methylotenera mobilis-76-2   \n",
       "36               Acidovorax-98_Ga0081659              Acidovorax-123   \n",
       "40   Methylotenera_mobilis-123_Ga0081608  Methylotenera mobilis-76-2   \n",
       "\n",
       "    ref contig count                          ref bin name  \\\n",
       "3                291    Methylotenera_mobilis-63_Ga0081640   \n",
       "12                60              Acidovorax-127_Ga0081613   \n",
       "32               409  Methylotenera_mobilis-76-2_Ga0081649   \n",
       "36                18              Acidovorax-123_Ga0081609   \n",
       "40               409  Methylotenera_mobilis-76-2_Ga0081649   \n",
       "\n",
       "            ...           query contigs  \\\n",
       "3           ...                     207   \n",
       "12          ...                     408   \n",
       "32          ...                     445   \n",
       "36          ...                     358   \n",
       "40          ...                     299   \n",
       "\n",
       "                               query file name   ref bp  ref contigs  \\\n",
       "3   Methylotenera_mobilis-76-1_Ga0081647.fasta  1642972          290   \n",
       "12  Methylotenera_mobilis-76-2_Ga0081649.fasta  3161893           59   \n",
       "32               Acidovorax-21_Ga0081621.fasta  2997616          408   \n",
       "36               Acidovorax-98_Ga0081659.fasta  2720811           17   \n",
       "40   Methylotenera_mobilis-123_Ga0081608.fasta  2997616          408   \n",
       "\n",
       "                                 ref file name  % identity  \\\n",
       "3     Methylotenera_mobilis-63_Ga0081640.fasta   84.924765   \n",
       "12              Acidovorax-127_Ga0081613.fasta  100.000000   \n",
       "32  Methylotenera_mobilis-76-2_Ga0081649.fasta   97.670000   \n",
       "36              Acidovorax-123_Ga0081609.fasta   83.451002   \n",
       "40  Methylotenera_mobilis-76-2_Ga0081649.fasta   98.991738   \n",
       "\n",
       "    query alignment length total  number alignments aggregated  \\\n",
       "3                         305230                           149   \n",
       "12                           159                             2   \n",
       "32                            86                             1   \n",
       "36                        170025                           156   \n",
       "40                       1187351                           260   \n",
       "\n",
       "    frac of query aligned  estimated % identity  \n",
       "3                0.125403             10.649837  \n",
       "12               0.000053              0.005304  \n",
       "32               0.000047              0.004586  \n",
       "36               0.050519              4.215872  \n",
       "40               0.539381             53.394227  \n",
       "\n",
       "[5 rows x 21 columns]"
      ]
     },
     "execution_count": 15,
     "metadata": {},
     "output_type": "execute_result"
    }
   ],
   "source": [
    "plot_data.head()"
   ]
  },
  {
   "cell_type": "code",
   "execution_count": 16,
   "metadata": {
    "collapsed": false
   },
   "outputs": [
    {
     "data": {
      "image/png": "[encoded data removed]",
      "text/plain": [
       "<matplotlib.figure.Figure at 0x1161bd240>"
      ]
     },
     "metadata": {},
     "output_type": "display_data"
    }
   ],
   "source": [
    "ax = plt.axes()\n",
    "sns.heatmap(aggregate_mummer_results.pivot_identity_table(plot_data, value_var='estimated % identity'), \n",
    "            ax = ax)\n",
    "ax.set_title('(% identity)*(fraction aligned))')\n",
    "ax.figure.tight_layout()\n",
    "ax.figure.set_size_inches(w=4, h=6)\n",
    "ax.figure.savefig('160601_original_percent_identity_tims_frac_aligned.pdf')\n"
   ]
  },
  {
   "cell_type": "code",
   "execution_count": 17,
   "metadata": {
    "collapsed": false
   },
   "outputs": [],
   "source": [
    "def subset_given_colnames(name_list):\n",
    "    full_data = pd.read_csv(\"percent_identities.tsv\" ,sep = '\\t')\n",
    "    all_names = full_data['query name'].unique()\n",
    "    \n",
    "    # build a list of names to pick out. \n",
    "    plot_names = []\n",
    "    \n",
    "    for org_name in name_list:\n",
    "        plot_names += [n for n in organism_names if org_name in n]\n",
    "    \n",
    "    # reduce to the desired organisms. \n",
    "    selected_data = full_data.copy()\n",
    "    selected_data = selected_data[selected_data['query name'].isin(plot_names)]\n",
    "    selected_data = selected_data[selected_data['ref name'].isin(plot_names)]\n",
    "    \n",
    "    print(\"num rows selected: {}\".format(selected_data.shape[0]))\n",
    "    return selected_data"
   ]
  },
  {
   "cell_type": "raw",
   "metadata": {},
   "source": [
    "subset_given_colnames(['Acidovorax', 'Methylotenera mobilis'])"
   ]
  },
  {
   "cell_type": "code",
   "execution_count": 18,
   "metadata": {
    "collapsed": false
   },
   "outputs": [],
   "source": [
    "def plot_metrics_as_heatmaps(metric_list, organism_list, figsize=(10, 6)):\n",
    "    print(len(metric_list))\n",
    "    fig, axn = plt.subplots(1, len(metric_list), \n",
    "                            sharex=True, sharey=True, \n",
    "                            figsize=figsize)\n",
    "    cbar_ax = fig.add_axes([.91, .3, .03, .4])\n",
    "\n",
    "    data = subset_given_colnames(name_list = organism_list)\n",
    "    data['% of query aligned'] = data['frac of query aligned']*100\n",
    "    \n",
    "    for i, metric in enumerate(metric_list):\n",
    "        # prepare pivoted data\n",
    "        print(\"i: {}, metric: {}\".format(i, metric))\n",
    "        subplot_ax = axn[i]\n",
    "        print('axis: {}'.format(subplot_ax))\n",
    "        subplot_data = aggregate_mummer_results.pivot_identity_table(data, \n",
    "                                                                     value_var=metric)\n",
    "        sns.heatmap(subplot_data, ax=axn[i],\n",
    "                    cbar=i == 0,\n",
    "                    vmin=0, vmax=100,\n",
    "                    cbar_ax=None if i else cbar_ax\n",
    "                   )\n",
    "        subplot_ax.set_title(metric)\n",
    "\n",
    "    fig.tight_layout(rect=[0, 0, .9, 1])"
   ]
  },
  {
   "cell_type": "code",
   "execution_count": 19,
   "metadata": {
    "collapsed": false
   },
   "outputs": [
    {
     "name": "stdout",
     "output_type": "stream",
     "text": [
      "3\n",
      "num rows selected: 86\n",
      "i: 0, metric: % identity\n",
      "axis: Axes(0.125,0.125;0.227941x0.775)\n",
      "i: 1, metric: % of query aligned\n",
      "axis: Axes(0.398529,0.125;0.227941x0.775)\n",
      "i: 2, metric: estimated % identity\n",
      "axis: Axes(0.672059,0.125;0.227941x0.775)\n"
     ]
    },
    {
     "name": "stderr",
     "output_type": "stream",
     "text": [
      "//anaconda/envs/m4_janalysis/lib/python3.5/site-packages/matplotlib/figure.py:1744: UserWarning: This figure includes Axes that are not compatible with tight_layout, so its results might be incorrect.\n",
      "  warnings.warn(\"This figure includes Axes that are not \"\n"
     ]
    },
    {
     "data": {
      "image/png": "[encoded data removed]",
      "text/plain": [
       "<matplotlib.figure.Figure at 0x116512470>"
      ]
     },
     "metadata": {},
     "output_type": "display_data"
    }
   ],
   "source": [
    "p = plot_metrics_as_heatmaps(['% identity', '% of query aligned', 'estimated % identity'], \n",
    "                             ['Methylotenera mobilis', 'Acidovorax'],\n",
    "                             figsize=(11, 4))"
   ]
  },
  {
   "cell_type": "code",
   "execution_count": null,
   "metadata": {
    "collapsed": true
   },
   "outputs": [],
   "source": []
  },
  {
   "cell_type": "code",
   "execution_count": null,
   "metadata": {
    "collapsed": true
   },
   "outputs": [],
   "source": []
  }
 ],
 "metadata": {
  "kernelspec": {
   "display_name": "Python 3",
   "language": "python",
   "name": "python3"
  },
  "language_info": {
   "codemirror_mode": {
    "name": "ipython",
    "version": 3
   },
   "file_extension": ".py",
   "mimetype": "text/x-python",
   "name": "python",
   "nbconvert_exporter": "python",
   "pygments_lexer": "ipython3",
   "version": "3.5.1"
  }
 },
 "nbformat": 4,
 "nbformat_minor": 0
}
