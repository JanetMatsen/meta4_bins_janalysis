{
 "cells": [
  {
   "cell_type": "code",
   "execution_count": 1,
   "metadata": {
    "collapsed": true
   },
   "outputs": [],
   "source": [
    "import glob\n",
    "import matplotlib as mpl\n",
    "import re\n",
    "\n",
    "import pandas as pd"
   ]
  },
  {
   "cell_type": "code",
   "execution_count": 2,
   "metadata": {
    "collapsed": false
   },
   "outputs": [
    {
     "name": "stdout",
     "output_type": "stream",
     "text": [
      "3.5.1 (v3.5.1:37a07cee5969, Dec  5 2015, 21:12:44) \n",
      "[GCC 4.2.1 (Apple Inc. build 5666) (dot 3)]\n"
     ]
    }
   ],
   "source": [
    "import sys\n",
    "print(sys.version)"
   ]
  },
  {
   "cell_type": "code",
   "execution_count": 3,
   "metadata": {
    "collapsed": true
   },
   "outputs": [],
   "source": [
    "%matplotlib inline"
   ]
  },
  {
   "cell_type": "code",
   "execution_count": 4,
   "metadata": {
    "collapsed": false
   },
   "outputs": [
    {
     "name": "stdout",
     "output_type": "stream",
     "text": [
      "\u001b[34m__pycache__\u001b[m\u001b[m               \u001b[31mblast_unmapped.py\u001b[m\u001b[m         \u001b[34mold\u001b[m\u001b[m                       \u001b[34munmapped-final\u001b[m\u001b[m\r\n",
      "analysis.py               \u001b[31mdownsample_differently.py\u001b[m\u001b[m \u001b[34mplots\u001b[m\u001b[m                     unused_reads.py\r\n",
      "\u001b[31mblast_multiply_mapped.py\u001b[m\u001b[m  \u001b[34mmultiply_mapped-final\u001b[m\u001b[m     \u001b[31mtest_run_pipeline.py\u001b[m\u001b[m      unused_reads.pyc\r\n"
     ]
    }
   ],
   "source": [
    "!ls ../../unused_reads/"
   ]
  },
  {
   "cell_type": "code",
   "execution_count": 5,
   "metadata": {
    "collapsed": true
   },
   "outputs": [],
   "source": [
    "module_dir = \"../../unused_reads/\""
   ]
  },
  {
   "cell_type": "code",
   "execution_count": 6,
   "metadata": {
    "collapsed": false
   },
   "outputs": [
    {
     "name": "stderr",
     "output_type": "stream",
     "text": [
      "/Users/janet/.virtualenvs/meta4/lib/python3.5/site-packages/matplotlib/__init__.py:1350: UserWarning:  This call to matplotlib.use() has no effect\n",
      "because the backend has already been chosen;\n",
      "matplotlib.use() must be called *before* pylab, matplotlib.pyplot,\n",
      "or matplotlib.backends is imported for the first time.\n",
      "\n",
      "  warnings.warn(_use_error_msg)\n"
     ]
    }
   ],
   "source": [
    "# Import .py file from a different path:\n",
    "# first add the path to that dir to my path. \n",
    "sys.path.append(module_dir)\n",
    "import analysis\n",
    "import unused_reads as ur"
   ]
  },
  {
   "cell_type": "raw",
   "metadata": {},
   "source": [
    "import glob\n",
    "import re\n",
    "\n",
    "import matplotlib.pyplot as plt\n",
    "import matplotlib as mpl\n",
    "\n",
    "import pandas as pd\n",
    "import seaborn as sns\n",
    "\n"
   ]
  },
  {
   "cell_type": "code",
   "execution_count": 7,
   "metadata": {
    "collapsed": true
   },
   "outputs": [],
   "source": [
    "# pd.set_option('display.width', 1000)"
   ]
  },
  {
   "cell_type": "code",
   "execution_count": 8,
   "metadata": {
    "collapsed": true
   },
   "outputs": [],
   "source": [
    "pd.options.display.max_colwidth = 1000"
   ]
  },
  {
   "cell_type": "code",
   "execution_count": 9,
   "metadata": {
    "collapsed": false
   },
   "outputs": [],
   "source": [
    "PLOT_DIR = '../../unused_reads/plots/'\n",
    "ur.create_dir(PLOT_DIR)"
   ]
  },
  {
   "cell_type": "code",
   "execution_count": 10,
   "metadata": {
    "collapsed": false
   },
   "outputs": [
    {
     "name": "stdout",
     "output_type": "stream",
     "text": [
      "['../../unused_reads/unmapped-final/blast_results/74_LOW10_10000-blasted.tsv', '../../unused_reads/unmapped-final/blast_results/70_HOW9_1000-blasted.tsv', '../../unused_reads/unmapped-final/blast_results/112_LOW13_10000-blasted.tsv', '../../unused_reads/unmapped-final/blast_results/19_HOW5_10000-blasted.tsv', '../../unused_reads/unmapped-final/blast_results/112_LOW13_1000-blasted.tsv', '../../unused_reads/unmapped-final/blast_results/70_HOW9_10000-blasted.tsv', '../../unused_reads/unmapped-final/blast_results/82_HOW10_10000-blasted.tsv', '../../unused_reads/unmapped-final/blast_results/57_HOW8_10000-blasted.tsv', '../../unused_reads/unmapped-final/blast_results/82_HOW10_1000-blasted.tsv', '../../unused_reads/unmapped-final/blast_results/32_HOW6_10000-blasted.tsv']\n",
      "['../../unused_reads/multiply_mapped-final/blast_results/57_HOW8_100-blasted.tsv', '../../unused_reads/multiply_mapped-final/blast_results/19_HOW5_100-blasted.tsv', '../../unused_reads/multiply_mapped-final/blast_results/32_HOW6_100-blasted.tsv', '../../unused_reads/multiply_mapped-final/blast_results/74_LOW10_100-blasted.tsv', '../../unused_reads/multiply_mapped-final/blast_results/82_HOW10_100-blasted.tsv', '../../unused_reads/multiply_mapped-final/blast_results/70_HOW9_100-blasted.tsv', '../../unused_reads/multiply_mapped-final/blast_results/112_LOW13_100-blasted.tsv']\n"
     ]
    }
   ],
   "source": [
    "# Get the loaded dataframes. \n",
    "df_dict = analysis.run_analysis(make_plots=False)"
   ]
  },
  {
   "cell_type": "code",
   "execution_count": 11,
   "metadata": {
    "collapsed": false
   },
   "outputs": [
    {
     "data": {
      "text/plain": [
       "dict_keys(['unspecific', 'unmapped'])"
      ]
     },
     "execution_count": 11,
     "metadata": {},
     "output_type": "execute_result"
    }
   ],
   "source": [
    "df_dict.keys()"
   ]
  },
  {
   "cell_type": "code",
   "execution_count": 12,
   "metadata": {
    "collapsed": true
   },
   "outputs": [],
   "source": [
    "unspecific = df_dict['unspecific']\n",
    "unmapped = df_dict['unmapped']"
   ]
  },
  {
   "cell_type": "markdown",
   "metadata": {},
   "source": [
    "## Unmapped reads:"
   ]
  },
  {
   "cell_type": "code",
   "execution_count": 13,
   "metadata": {
    "collapsed": false
   },
   "outputs": [
    {
     "data": {
      "text/html": [
       "<div>\n",
       "<table border=\"1\" class=\"dataframe\">\n",
       "  <thead>\n",
       "    <tr style=\"text-align: right;\">\n",
       "      <th></th>\n",
       "      <th>stitle</th>\n",
       "      <th>qseqid</th>\n",
       "      <th>sseqid</th>\n",
       "      <th>pident</th>\n",
       "      <th>length</th>\n",
       "      <th>evalue</th>\n",
       "      <th>bitscore</th>\n",
       "      <th>mismatch</th>\n",
       "      <th>gapopen</th>\n",
       "      <th>qstart</th>\n",
       "      <th>qend</th>\n",
       "      <th>sstart</th>\n",
       "      <th>send</th>\n",
       "      <th>sample</th>\n",
       "      <th>downsample granularity</th>\n",
       "    </tr>\n",
       "  </thead>\n",
       "  <tbody>\n",
       "    <tr>\n",
       "      <th>0</th>\n",
       "      <td>Bacillus subtilis subsp. subtilis strain CU1050, complete genome</td>\n",
       "      <td>HISEQ15:132:C6FRCANXX:6:2115:13750:47625</td>\n",
       "      <td>gi|983204966|gb|CP014166.1|</td>\n",
       "      <td>100</td>\n",
       "      <td>151</td>\n",
       "      <td>7.000000e-75</td>\n",
       "      <td>291</td>\n",
       "      <td>0</td>\n",
       "      <td>0</td>\n",
       "      <td>1</td>\n",
       "      <td>151</td>\n",
       "      <td>3019253</td>\n",
       "      <td>3019103</td>\n",
       "      <td>74_LOW10</td>\n",
       "      <td>10000</td>\n",
       "    </tr>\n",
       "    <tr>\n",
       "      <th>1</th>\n",
       "      <td>Bacillus subtilis subsp. subtilis strain CU1050, complete genome</td>\n",
       "      <td>HISEQ15:132:C6FRCANXX:6:2115:13750:47625</td>\n",
       "      <td>gi|983204966|gb|CP014166.1|</td>\n",
       "      <td>100</td>\n",
       "      <td>150</td>\n",
       "      <td>3.000000e-74</td>\n",
       "      <td>289</td>\n",
       "      <td>0</td>\n",
       "      <td>0</td>\n",
       "      <td>2</td>\n",
       "      <td>151</td>\n",
       "      <td>9885</td>\n",
       "      <td>10034</td>\n",
       "      <td>74_LOW10</td>\n",
       "      <td>10000</td>\n",
       "    </tr>\n",
       "  </tbody>\n",
       "</table>\n",
       "</div>"
      ],
      "text/plain": [
       "                                                             stitle  \\\n",
       "0  Bacillus subtilis subsp. subtilis strain CU1050, complete genome   \n",
       "1  Bacillus subtilis subsp. subtilis strain CU1050, complete genome   \n",
       "\n",
       "                                     qseqid                       sseqid  \\\n",
       "0  HISEQ15:132:C6FRCANXX:6:2115:13750:47625  gi|983204966|gb|CP014166.1|   \n",
       "1  HISEQ15:132:C6FRCANXX:6:2115:13750:47625  gi|983204966|gb|CP014166.1|   \n",
       "\n",
       "   pident  length        evalue  bitscore  mismatch  gapopen  qstart  qend  \\\n",
       "0     100     151  7.000000e-75       291         0        0       1   151   \n",
       "1     100     150  3.000000e-74       289         0        0       2   151   \n",
       "\n",
       "    sstart     send    sample  downsample granularity  \n",
       "0  3019253  3019103  74_LOW10                   10000  \n",
       "1     9885    10034  74_LOW10                   10000  "
      ]
     },
     "execution_count": 13,
     "metadata": {},
     "output_type": "execute_result"
    }
   ],
   "source": [
    "unmapped.head(2)"
   ]
  },
  {
   "cell_type": "code",
   "execution_count": 14,
   "metadata": {
    "collapsed": false
   },
   "outputs": [
    {
     "data": {
      "text/html": [
       "<div>\n",
       "<table border=\"1\" class=\"dataframe\">\n",
       "  <thead>\n",
       "    <tr style=\"text-align: right;\">\n",
       "      <th></th>\n",
       "      <th>sample</th>\n",
       "      <th>downsample granularity</th>\n",
       "    </tr>\n",
       "  </thead>\n",
       "  <tbody>\n",
       "    <tr>\n",
       "      <th>0</th>\n",
       "      <td>74_LOW10</td>\n",
       "      <td>10000</td>\n",
       "    </tr>\n",
       "    <tr>\n",
       "      <th>0</th>\n",
       "      <td>112_LOW13</td>\n",
       "      <td>10000</td>\n",
       "    </tr>\n",
       "    <tr>\n",
       "      <th>0</th>\n",
       "      <td>19_HOW5</td>\n",
       "      <td>10000</td>\n",
       "    </tr>\n",
       "    <tr>\n",
       "      <th>0</th>\n",
       "      <td>112_LOW13</td>\n",
       "      <td>1000</td>\n",
       "    </tr>\n",
       "    <tr>\n",
       "      <th>0</th>\n",
       "      <td>70_HOW9</td>\n",
       "      <td>10000</td>\n",
       "    </tr>\n",
       "    <tr>\n",
       "      <th>0</th>\n",
       "      <td>82_HOW10</td>\n",
       "      <td>10000</td>\n",
       "    </tr>\n",
       "    <tr>\n",
       "      <th>0</th>\n",
       "      <td>57_HOW8</td>\n",
       "      <td>10000</td>\n",
       "    </tr>\n",
       "    <tr>\n",
       "      <th>0</th>\n",
       "      <td>82_HOW10</td>\n",
       "      <td>1000</td>\n",
       "    </tr>\n",
       "    <tr>\n",
       "      <th>0</th>\n",
       "      <td>32_HOW6</td>\n",
       "      <td>10000</td>\n",
       "    </tr>\n",
       "  </tbody>\n",
       "</table>\n",
       "</div>"
      ],
      "text/plain": [
       "      sample  downsample granularity\n",
       "0   74_LOW10                   10000\n",
       "0  112_LOW13                   10000\n",
       "0    19_HOW5                   10000\n",
       "0  112_LOW13                    1000\n",
       "0    70_HOW9                   10000\n",
       "0   82_HOW10                   10000\n",
       "0    57_HOW8                   10000\n",
       "0   82_HOW10                    1000\n",
       "0    32_HOW6                   10000"
      ]
     },
     "execution_count": 14,
     "metadata": {},
     "output_type": "execute_result"
    }
   ],
   "source": [
    "unmapped[['sample', 'downsample granularity']].drop_duplicates()"
   ]
  },
  {
   "cell_type": "markdown",
   "metadata": {
    "collapsed": false
   },
   "source": [
    "analysis.plot_length_dist(analysis.unmapped, 'unmapped', analysis.PLOT_DIR)"
   ]
  },
  {
   "cell_type": "markdown",
   "metadata": {},
   "source": [
    "analysis.plot_pident_dist(analysis.unmapped, 'unmapped', analysis.PLOT_DIR)"
   ]
  },
  {
   "cell_type": "markdown",
   "metadata": {},
   "source": [
    "## Multiply Mapped Reads"
   ]
  },
  {
   "cell_type": "markdown",
   "metadata": {},
   "source": [
    "## Look at summary data"
   ]
  },
  {
   "cell_type": "code",
   "execution_count": 15,
   "metadata": {
    "collapsed": false
   },
   "outputs": [
    {
     "name": "stdout",
     "output_type": "stream",
     "text": [
      "available downsampling granularities: [10000  1000]\n",
      "fraction of rows removed for min percent_identity = 90: 96.70849516980381\n",
      "fraction of rows removed for min length = 140: 53.39065959528345\n"
     ]
    }
   ],
   "source": [
    "unmapped_summary = analysis.summarise(df=unmapped, min_pident=90, min_length=140, \n",
    "                       downsample_granularity=10000)"
   ]
  },
  {
   "cell_type": "code",
   "execution_count": 16,
   "metadata": {
    "collapsed": false
   },
   "outputs": [
    {
     "data": {
      "text/html": [
       "<div>\n",
       "<table border=\"1\" class=\"dataframe\">\n",
       "  <thead>\n",
       "    <tr style=\"text-align: right;\">\n",
       "      <th></th>\n",
       "      <th>stitle</th>\n",
       "      <th>qseqid</th>\n",
       "      <th>sseqid</th>\n",
       "      <th>pident</th>\n",
       "      <th>length</th>\n",
       "      <th>evalue</th>\n",
       "      <th>bitscore</th>\n",
       "      <th>mismatch</th>\n",
       "      <th>gapopen</th>\n",
       "      <th>qstart</th>\n",
       "      <th>qend</th>\n",
       "      <th>sstart</th>\n",
       "      <th>send</th>\n",
       "      <th>sample</th>\n",
       "      <th>downsample granularity</th>\n",
       "    </tr>\n",
       "  </thead>\n",
       "  <tbody>\n",
       "    <tr>\n",
       "      <th>0</th>\n",
       "      <td>Bacillus subtilis subsp. subtilis strain CU1050, complete genome</td>\n",
       "      <td>HISEQ15:132:C6FRCANXX:6:2115:13750:47625</td>\n",
       "      <td>gi|983204966|gb|CP014166.1|</td>\n",
       "      <td>100</td>\n",
       "      <td>151</td>\n",
       "      <td>7.000000e-75</td>\n",
       "      <td>291</td>\n",
       "      <td>0</td>\n",
       "      <td>0</td>\n",
       "      <td>1</td>\n",
       "      <td>151</td>\n",
       "      <td>3019253</td>\n",
       "      <td>3019103</td>\n",
       "      <td>74_LOW10</td>\n",
       "      <td>10000</td>\n",
       "    </tr>\n",
       "    <tr>\n",
       "      <th>1</th>\n",
       "      <td>Bacillus subtilis subsp. subtilis strain CU1050, complete genome</td>\n",
       "      <td>HISEQ15:132:C6FRCANXX:6:2115:13750:47625</td>\n",
       "      <td>gi|983204966|gb|CP014166.1|</td>\n",
       "      <td>100</td>\n",
       "      <td>150</td>\n",
       "      <td>3.000000e-74</td>\n",
       "      <td>289</td>\n",
       "      <td>0</td>\n",
       "      <td>0</td>\n",
       "      <td>2</td>\n",
       "      <td>151</td>\n",
       "      <td>9885</td>\n",
       "      <td>10034</td>\n",
       "      <td>74_LOW10</td>\n",
       "      <td>10000</td>\n",
       "    </tr>\n",
       "    <tr>\n",
       "      <th>2</th>\n",
       "      <td>Bacillus subtilis subsp. subtilis strain CU1050, complete genome</td>\n",
       "      <td>HISEQ15:132:C6FRCANXX:6:2115:13750:47625</td>\n",
       "      <td>gi|983204966|gb|CP014166.1|</td>\n",
       "      <td>100</td>\n",
       "      <td>150</td>\n",
       "      <td>3.000000e-74</td>\n",
       "      <td>289</td>\n",
       "      <td>0</td>\n",
       "      <td>0</td>\n",
       "      <td>2</td>\n",
       "      <td>151</td>\n",
       "      <td>30353</td>\n",
       "      <td>30502</td>\n",
       "      <td>74_LOW10</td>\n",
       "      <td>10000</td>\n",
       "    </tr>\n",
       "    <tr>\n",
       "      <th>3</th>\n",
       "      <td>Bacillus subtilis subsp. subtilis strain CU1050, complete genome</td>\n",
       "      <td>HISEQ15:132:C6FRCANXX:6:2115:13750:47625</td>\n",
       "      <td>gi|983204966|gb|CP014166.1|</td>\n",
       "      <td>100</td>\n",
       "      <td>150</td>\n",
       "      <td>3.000000e-74</td>\n",
       "      <td>289</td>\n",
       "      <td>0</td>\n",
       "      <td>0</td>\n",
       "      <td>2</td>\n",
       "      <td>151</td>\n",
       "      <td>90610</td>\n",
       "      <td>90759</td>\n",
       "      <td>74_LOW10</td>\n",
       "      <td>10000</td>\n",
       "    </tr>\n",
       "    <tr>\n",
       "      <th>4</th>\n",
       "      <td>Bacillus subtilis subsp. subtilis strain CU1050, complete genome</td>\n",
       "      <td>HISEQ15:132:C6FRCANXX:6:2115:13750:47625</td>\n",
       "      <td>gi|983204966|gb|CP014166.1|</td>\n",
       "      <td>100</td>\n",
       "      <td>150</td>\n",
       "      <td>3.000000e-74</td>\n",
       "      <td>289</td>\n",
       "      <td>0</td>\n",
       "      <td>0</td>\n",
       "      <td>2</td>\n",
       "      <td>151</td>\n",
       "      <td>96466</td>\n",
       "      <td>96615</td>\n",
       "      <td>74_LOW10</td>\n",
       "      <td>10000</td>\n",
       "    </tr>\n",
       "  </tbody>\n",
       "</table>\n",
       "</div>"
      ],
      "text/plain": [
       "                                                             stitle  \\\n",
       "0  Bacillus subtilis subsp. subtilis strain CU1050, complete genome   \n",
       "1  Bacillus subtilis subsp. subtilis strain CU1050, complete genome   \n",
       "2  Bacillus subtilis subsp. subtilis strain CU1050, complete genome   \n",
       "3  Bacillus subtilis subsp. subtilis strain CU1050, complete genome   \n",
       "4  Bacillus subtilis subsp. subtilis strain CU1050, complete genome   \n",
       "\n",
       "                                     qseqid                       sseqid  \\\n",
       "0  HISEQ15:132:C6FRCANXX:6:2115:13750:47625  gi|983204966|gb|CP014166.1|   \n",
       "1  HISEQ15:132:C6FRCANXX:6:2115:13750:47625  gi|983204966|gb|CP014166.1|   \n",
       "2  HISEQ15:132:C6FRCANXX:6:2115:13750:47625  gi|983204966|gb|CP014166.1|   \n",
       "3  HISEQ15:132:C6FRCANXX:6:2115:13750:47625  gi|983204966|gb|CP014166.1|   \n",
       "4  HISEQ15:132:C6FRCANXX:6:2115:13750:47625  gi|983204966|gb|CP014166.1|   \n",
       "\n",
       "   pident  length        evalue  bitscore  mismatch  gapopen  qstart  qend  \\\n",
       "0     100     151  7.000000e-75       291         0        0       1   151   \n",
       "1     100     150  3.000000e-74       289         0        0       2   151   \n",
       "2     100     150  3.000000e-74       289         0        0       2   151   \n",
       "3     100     150  3.000000e-74       289         0        0       2   151   \n",
       "4     100     150  3.000000e-74       289         0        0       2   151   \n",
       "\n",
       "    sstart     send    sample  downsample granularity  \n",
       "0  3019253  3019103  74_LOW10                   10000  \n",
       "1     9885    10034  74_LOW10                   10000  \n",
       "2    30353    30502  74_LOW10                   10000  \n",
       "3    90610    90759  74_LOW10                   10000  \n",
       "4    96466    96615  74_LOW10                   10000  "
      ]
     },
     "execution_count": 16,
     "metadata": {},
     "output_type": "execute_result"
    }
   ],
   "source": [
    "unmapped_summary.head()"
   ]
  },
  {
   "cell_type": "code",
   "execution_count": 17,
   "metadata": {
    "collapsed": false
   },
   "outputs": [],
   "source": [
    "unmapped_summary.to_csv(\"160324_explore_unmapped.csv\")"
   ]
  },
  {
   "cell_type": "code",
   "execution_count": 18,
   "metadata": {
    "collapsed": false
   },
   "outputs": [],
   "source": [
    "unmapped_simplified = unmapped_summary[['stitle', 'qseqid', 'sample']].drop_duplicates()"
   ]
  },
  {
   "cell_type": "code",
   "execution_count": 19,
   "metadata": {
    "collapsed": false
   },
   "outputs": [
    {
     "data": {
      "text/html": [
       "<div>\n",
       "<table border=\"1\" class=\"dataframe\">\n",
       "  <thead>\n",
       "    <tr style=\"text-align: right;\">\n",
       "      <th></th>\n",
       "      <th>stitle</th>\n",
       "      <th>qseqid</th>\n",
       "      <th>sample</th>\n",
       "    </tr>\n",
       "  </thead>\n",
       "  <tbody>\n",
       "    <tr>\n",
       "      <th>0</th>\n",
       "      <td>Bacillus subtilis subsp. subtilis strain CU1050, complete genome</td>\n",
       "      <td>HISEQ15:132:C6FRCANXX:6:2115:13750:47625</td>\n",
       "      <td>74_LOW10</td>\n",
       "    </tr>\n",
       "    <tr>\n",
       "      <th>10</th>\n",
       "      <td>Uncultured bacterium clone KGV25 16S ribosomal RNA gene, partial sequence</td>\n",
       "      <td>HISEQ15:132:C6FRCANXX:6:1207:11048:24151</td>\n",
       "      <td>74_LOW10</td>\n",
       "    </tr>\n",
       "    <tr>\n",
       "      <th>18</th>\n",
       "      <td>Salmonella enterica subsp. enterica serovar Enteritidis str. EC20110222 genome</td>\n",
       "      <td>HISEQ15:132:C6FRCANXX:6:2314:2015:25645</td>\n",
       "      <td>74_LOW10</td>\n",
       "    </tr>\n",
       "    <tr>\n",
       "      <th>25</th>\n",
       "      <td>Uncultured bacterium clone F5K2Q4C04JXAH4 23S ribosomal RNA gene, partial sequence</td>\n",
       "      <td>HISEQ15:132:C6FRCANXX:6:2204:9685:45387</td>\n",
       "      <td>74_LOW10</td>\n",
       "    </tr>\n",
       "    <tr>\n",
       "      <th>26</th>\n",
       "      <td>Bacillus subtilis subsp. natto strain CGMCC 2108, complete genome</td>\n",
       "      <td>HISEQ15:132:C6FRCANXX:6:2215:1122:52758</td>\n",
       "      <td>74_LOW10</td>\n",
       "    </tr>\n",
       "  </tbody>\n",
       "</table>\n",
       "</div>"
      ],
      "text/plain": [
       "                                                                                stitle  \\\n",
       "0                     Bacillus subtilis subsp. subtilis strain CU1050, complete genome   \n",
       "10           Uncultured bacterium clone KGV25 16S ribosomal RNA gene, partial sequence   \n",
       "18      Salmonella enterica subsp. enterica serovar Enteritidis str. EC20110222 genome   \n",
       "25  Uncultured bacterium clone F5K2Q4C04JXAH4 23S ribosomal RNA gene, partial sequence   \n",
       "26                   Bacillus subtilis subsp. natto strain CGMCC 2108, complete genome   \n",
       "\n",
       "                                      qseqid    sample  \n",
       "0   HISEQ15:132:C6FRCANXX:6:2115:13750:47625  74_LOW10  \n",
       "10  HISEQ15:132:C6FRCANXX:6:1207:11048:24151  74_LOW10  \n",
       "18   HISEQ15:132:C6FRCANXX:6:2314:2015:25645  74_LOW10  \n",
       "25   HISEQ15:132:C6FRCANXX:6:2204:9685:45387  74_LOW10  \n",
       "26   HISEQ15:132:C6FRCANXX:6:2215:1122:52758  74_LOW10  "
      ]
     },
     "execution_count": 19,
     "metadata": {},
     "output_type": "execute_result"
    }
   ],
   "source": [
    "unmapped_simplified.head()"
   ]
  },
  {
   "cell_type": "code",
   "execution_count": 20,
   "metadata": {
    "collapsed": true
   },
   "outputs": [],
   "source": [
    "### Look at just one sample"
   ]
  },
  {
   "cell_type": "code",
   "execution_count": 21,
   "metadata": {
    "collapsed": true
   },
   "outputs": [],
   "source": [
    "unmapped_simp_74 = unmapped_simplified[unmapped_simplified['sample']=='74_LOW10']"
   ]
  },
  {
   "cell_type": "code",
   "execution_count": 22,
   "metadata": {
    "collapsed": false
   },
   "outputs": [
    {
     "name": "stdout",
     "output_type": "stream",
     "text": [
      "881\n",
      "num unique query sequences: 232\n",
      "number of sequences appearing more than 1 times: 92\n"
     ]
    }
   ],
   "source": [
    "test_df = unmapped[unmapped['sample']=='74_LOW10']\n",
    "print(test_df.shape[0])\n",
    "too_many = analysis.reads_appearing_more_than_once(test_df)"
   ]
  },
  {
   "cell_type": "code",
   "execution_count": 23,
   "metadata": {
    "collapsed": false
   },
   "outputs": [
    {
     "data": {
      "text/plain": [
       "['HISEQ15:132:C6FRCANXX:6:2113:6832:2973',\n",
       " 'HISEQ15:132:C6FRCANXX:6:1313:8157:65324',\n",
       " 'HISEQ15:132:C6FRCANXX:6:2212:2298:10127',\n",
       " 'HISEQ15:132:C6FRCANXX:6:1208:8018:45488',\n",
       " 'HISEQ15:132:C6FRCANXX:6:1102:4303:85746',\n",
       " 'HISEQ15:132:C6FRCANXX:6:2102:2404:56713',\n",
       " 'HISEQ15:132:C6FRCANXX:6:2101:16533:46672',\n",
       " 'HISEQ15:132:C6FRCANXX:6:1306:3764:14315',\n",
       " 'HISEQ15:132:C6FRCANXX:6:1211:5050:78027',\n",
       " 'HISEQ15:132:C6FRCANXX:6:2215:1122:52758',\n",
       " 'HISEQ15:132:C6FRCANXX:6:2207:17475:60273',\n",
       " 'HISEQ15:132:C6FRCANXX:6:1211:3942:20355',\n",
       " 'HISEQ15:132:C6FRCANXX:6:2115:13750:47625',\n",
       " 'HISEQ15:132:C6FRCANXX:6:1202:17885:46902',\n",
       " 'HISEQ15:132:C6FRCANXX:6:2206:9478:97721',\n",
       " 'HISEQ15:132:C6FRCANXX:6:1315:6899:17776',\n",
       " 'HISEQ15:132:C6FRCANXX:6:1310:10372:15847',\n",
       " 'HISEQ15:132:C6FRCANXX:6:1203:4528:52323',\n",
       " 'HISEQ15:132:C6FRCANXX:6:2202:17495:67657',\n",
       " 'HISEQ15:132:C6FRCANXX:6:1101:17669:99566',\n",
       " 'HISEQ15:132:C6FRCANXX:6:1210:1583:59425',\n",
       " 'HISEQ15:132:C6FRCANXX:6:1207:4615:24842',\n",
       " 'HISEQ15:132:C6FRCANXX:6:1210:5090:42370',\n",
       " 'HISEQ15:132:C6FRCANXX:6:1201:19938:21591',\n",
       " 'HISEQ15:132:C6FRCANXX:6:2211:18799:9979',\n",
       " 'HISEQ15:132:C6FRCANXX:6:1203:16007:93808',\n",
       " 'HISEQ15:132:C6FRCANXX:6:2308:13378:54241',\n",
       " 'HISEQ15:132:C6FRCANXX:6:1216:5031:84357',\n",
       " 'HISEQ15:132:C6FRCANXX:6:1113:14854:67179',\n",
       " 'HISEQ15:132:C6FRCANXX:6:2215:18151:22479',\n",
       " 'HISEQ15:132:C6FRCANXX:6:1201:20089:84071',\n",
       " 'HISEQ15:132:C6FRCANXX:6:2311:16259:95927',\n",
       " 'HISEQ15:132:C6FRCANXX:6:2314:2015:25645',\n",
       " 'HISEQ15:132:C6FRCANXX:6:2212:13457:16246',\n",
       " 'HISEQ15:132:C6FRCANXX:6:2208:7063:44113',\n",
       " 'HISEQ15:132:C6FRCANXX:6:2315:6234:65724',\n",
       " 'HISEQ15:132:C6FRCANXX:6:1215:18126:73739',\n",
       " 'HISEQ15:132:C6FRCANXX:6:1305:5311:88721',\n",
       " 'HISEQ15:132:C6FRCANXX:6:2213:21072:47381',\n",
       " 'HISEQ15:132:C6FRCANXX:6:1202:3083:5695',\n",
       " 'HISEQ15:132:C6FRCANXX:6:2310:20051:96808',\n",
       " 'HISEQ15:132:C6FRCANXX:6:2111:14750:42771',\n",
       " 'HISEQ15:132:C6FRCANXX:6:1206:11050:42012',\n",
       " 'HISEQ15:132:C6FRCANXX:6:1313:12832:84397',\n",
       " 'HISEQ15:132:C6FRCANXX:6:2204:3666:22526',\n",
       " 'HISEQ15:132:C6FRCANXX:6:2110:15232:60855',\n",
       " 'HISEQ15:132:C6FRCANXX:6:1206:2085:62779',\n",
       " 'HISEQ15:132:C6FRCANXX:6:1201:18389:63402',\n",
       " 'HISEQ15:132:C6FRCANXX:6:1303:5539:99913',\n",
       " 'HISEQ15:132:C6FRCANXX:6:2313:20815:91615',\n",
       " 'HISEQ15:132:C6FRCANXX:6:1109:16587:80695',\n",
       " 'HISEQ15:132:C6FRCANXX:6:1209:8394:82584',\n",
       " 'HISEQ15:132:C6FRCANXX:6:2216:10862:55008',\n",
       " 'HISEQ15:132:C6FRCANXX:6:1312:10235:50541',\n",
       " 'HISEQ15:132:C6FRCANXX:6:1113:4329:11043',\n",
       " 'HISEQ15:132:C6FRCANXX:6:1207:17025:45395',\n",
       " 'HISEQ15:132:C6FRCANXX:6:1309:6297:75037',\n",
       " 'HISEQ15:132:C6FRCANXX:6:1207:6024:4939',\n",
       " 'HISEQ15:132:C6FRCANXX:6:1205:16024:79442',\n",
       " 'HISEQ15:132:C6FRCANXX:6:1309:5471:34745',\n",
       " 'HISEQ15:132:C6FRCANXX:6:2112:14688:23155',\n",
       " 'HISEQ15:132:C6FRCANXX:6:2116:15801:47261',\n",
       " 'HISEQ15:132:C6FRCANXX:6:1107:3442:24751',\n",
       " 'HISEQ15:132:C6FRCANXX:6:1210:16730:100293',\n",
       " 'HISEQ15:132:C6FRCANXX:6:2211:11757:70030',\n",
       " 'HISEQ15:132:C6FRCANXX:6:2201:13137:25091',\n",
       " 'HISEQ15:132:C6FRCANXX:6:2108:6961:75310',\n",
       " 'HISEQ15:132:C6FRCANXX:6:1302:13224:29216',\n",
       " 'HISEQ15:132:C6FRCANXX:6:1313:15476:46434',\n",
       " 'HISEQ15:132:C6FRCANXX:6:2312:15664:35396',\n",
       " 'HISEQ15:132:C6FRCANXX:6:1113:4247:85868',\n",
       " 'HISEQ15:132:C6FRCANXX:6:2202:12774:90034',\n",
       " 'HISEQ15:132:C6FRCANXX:6:2112:10373:70650',\n",
       " 'HISEQ15:132:C6FRCANXX:6:2211:11399:89838',\n",
       " 'HISEQ15:132:C6FRCANXX:6:2313:5002:34452',\n",
       " 'HISEQ15:132:C6FRCANXX:6:2108:10791:96131',\n",
       " 'HISEQ15:132:C6FRCANXX:6:1302:14421:71099',\n",
       " 'HISEQ15:132:C6FRCANXX:6:2214:9523:83932',\n",
       " 'HISEQ15:132:C6FRCANXX:6:2308:3357:12768',\n",
       " 'HISEQ15:132:C6FRCANXX:6:2216:14101:74064',\n",
       " 'HISEQ15:132:C6FRCANXX:6:1215:4757:55477',\n",
       " 'HISEQ15:132:C6FRCANXX:6:2312:8972:94302',\n",
       " 'HISEQ15:132:C6FRCANXX:6:1116:13991:9296',\n",
       " 'HISEQ15:132:C6FRCANXX:6:2306:11276:24123',\n",
       " 'HISEQ15:132:C6FRCANXX:6:2113:9911:41723',\n",
       " 'HISEQ15:132:C6FRCANXX:6:2305:18989:60301',\n",
       " 'HISEQ15:132:C6FRCANXX:6:1116:14465:81998',\n",
       " 'HISEQ15:132:C6FRCANXX:6:2212:9281:88097',\n",
       " 'HISEQ15:132:C6FRCANXX:6:1114:11159:98958',\n",
       " 'HISEQ15:132:C6FRCANXX:6:1213:11593:85396',\n",
       " 'HISEQ15:132:C6FRCANXX:6:2202:21073:12526',\n",
       " 'HISEQ15:132:C6FRCANXX:6:2105:13519:39410']"
      ]
     },
     "execution_count": 23,
     "metadata": {},
     "output_type": "execute_result"
    }
   ],
   "source": [
    "too_many"
   ]
  },
  {
   "cell_type": "raw",
   "metadata": {
    "collapsed": false
   },
   "source": [
    "analysis.save_summary(unmapped[unmapped['sample']=='74_LOW10'], '74_LOW10', module_dir + 'results/')"
   ]
  },
  {
   "cell_type": "markdown",
   "metadata": {},
   "source": [
    "### Apply save_summary for each sample. "
   ]
  },
  {
   "cell_type": "raw",
   "metadata": {
    "collapsed": false
   },
   "source": [
    "for desc, df in unmapped.groupby(['sample', 'downsample granularity']):\n",
    "    print(desc)\n",
    "    analysis.save_summary(df, \n",
    "                          '{}_{}'.format(desc[0], desc[1]), \n",
    "                          module_dir + 'unmapped-final' + '/results_summary/' + '/downsample_{}/'.format(desc[1]))"
   ]
  },
  {
   "cell_type": "code",
   "execution_count": 25,
   "metadata": {
    "collapsed": false
   },
   "outputs": [
    {
     "name": "stdout",
     "output_type": "stream",
     "text": [
      "('112_LOW13', 1000)\n",
      "number of reads: 22568\n",
      "Was more than one result per read returned?  22568 vs 22568 rows\n",
      "save file at filepath ../../unused_reads/unmapped-final/results_summary//downsample_1000/\n",
      "('112_LOW13', 10000)\n",
      "number of reads: 2244\n",
      "Was more than one result per read returned?  2244 vs 2244 rows\n",
      "save file at filepath ../../unused_reads/unmapped-final/results_summary//downsample_10000/\n",
      "('19_HOW5', 10000)\n",
      "number of reads: 3202\n",
      "Was more than one result per read returned?  3202 vs 3202 rows\n",
      "save file at filepath ../../unused_reads/unmapped-final/results_summary//downsample_10000/\n",
      "('32_HOW6', 10000)\n",
      "number of reads: 1163\n",
      "Was more than one result per read returned?  1163 vs 1163 rows\n",
      "save file at filepath ../../unused_reads/unmapped-final/results_summary//downsample_10000/\n",
      "('57_HOW8', 10000)\n",
      "number of reads: 1662\n",
      "Was more than one result per read returned?  1662 vs 1662 rows\n",
      "save file at filepath ../../unused_reads/unmapped-final/results_summary//downsample_10000/\n",
      "('70_HOW9', 10000)\n",
      "number of reads: 3957\n",
      "Was more than one result per read returned?  3957 vs 3957 rows\n",
      "save file at filepath ../../unused_reads/unmapped-final/results_summary//downsample_10000/\n",
      "('74_LOW10', 10000)\n",
      "number of reads: 232\n",
      "Was more than one result per read returned?  232 vs 232 rows\n",
      "save file at filepath ../../unused_reads/unmapped-final/results_summary//downsample_10000/\n",
      "('82_HOW10', 1000)\n",
      "number of reads: 20499\n",
      "Was more than one result per read returned?  20499 vs 20499 rows\n",
      "save file at filepath ../../unused_reads/unmapped-final/results_summary//downsample_1000/\n",
      "('82_HOW10', 10000)\n",
      "number of reads: 2063\n",
      "Was more than one result per read returned?  2063 vs 2063 rows\n",
      "save file at filepath ../../unused_reads/unmapped-final/results_summary//downsample_10000/\n"
     ]
    }
   ],
   "source": [
    "analysis.summarise_results_across_samples(unmapped, module_dir + 'unmapped-final' )"
   ]
  },
  {
   "cell_type": "code",
   "execution_count": 26,
   "metadata": {
    "collapsed": false
   },
   "outputs": [
    {
     "name": "stdout",
     "output_type": "stream",
     "text": [
      "('112_LOW13', 100)\n",
      "number of reads: 1413\n",
      "Was more than one result per read returned?  1413 vs 1413 rows\n",
      "save file at filepath ../../unused_reads/unspecific-final/results_summary//downsample_100/\n",
      "('19_HOW5', 100)\n",
      "number of reads: 458\n",
      "Was more than one result per read returned?  458 vs 458 rows\n",
      "save file at filepath ../../unused_reads/unspecific-final/results_summary//downsample_100/\n",
      "('32_HOW6', 100)\n",
      "number of reads: 2197\n",
      "Was more than one result per read returned?  2197 vs 2197 rows\n",
      "save file at filepath ../../unused_reads/unspecific-final/results_summary//downsample_100/\n",
      "('57_HOW8', 100)\n",
      "number of reads: 1895\n",
      "Was more than one result per read returned?  1895 vs 1895 rows\n",
      "save file at filepath ../../unused_reads/unspecific-final/results_summary//downsample_100/\n",
      "('70_HOW9', 100)\n",
      "number of reads: 844\n",
      "Was more than one result per read returned?  844 vs 844 rows\n",
      "save file at filepath ../../unused_reads/unspecific-final/results_summary//downsample_100/\n",
      "('74_LOW10', 100)\n",
      "number of reads: 1936\n",
      "Was more than one result per read returned?  1936 vs 1936 rows\n",
      "save file at filepath ../../unused_reads/unspecific-final/results_summary//downsample_100/\n",
      "('82_HOW10', 100)\n",
      "number of reads: 1562\n",
      "Was more than one result per read returned?  1562 vs 1562 rows\n",
      "save file at filepath ../../unused_reads/unspecific-final/results_summary//downsample_100/\n"
     ]
    }
   ],
   "source": [
    "analysis.summarise_results_across_samples(unspecific, module_dir + 'multiply_mapped-final' )"
   ]
  },
  {
   "cell_type": "code",
   "execution_count": null,
   "metadata": {
    "collapsed": true
   },
   "outputs": [],
   "source": []
  }
 ],
 "metadata": {
  "kernelspec": {
   "display_name": "IPython (Python 3)",
   "language": "python",
   "name": "python3"
  },
  "language_info": {
   "codemirror_mode": {
    "name": "ipython",
    "version": 3
   },
   "file_extension": ".py",
   "mimetype": "text/x-python",
   "name": "python",
   "nbconvert_exporter": "python",
   "pygments_lexer": "ipython3",
   "version": "3.5.1"
  }
 },
 "nbformat": 4,
 "nbformat_minor": 0
}
