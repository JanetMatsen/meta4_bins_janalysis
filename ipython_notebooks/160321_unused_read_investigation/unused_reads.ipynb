{
 "cells": [
  {
   "cell_type": "code",
   "execution_count": 1,
   "metadata": {
    "collapsed": true
   },
   "outputs": [],
   "source": [
    "import glob\n",
    "import matplotlib as mpl\n",
    "import re\n",
    "\n",
    "import pandas as pd"
   ]
  },
  {
   "cell_type": "code",
   "execution_count": 2,
   "metadata": {
    "collapsed": false
   },
   "outputs": [
    {
     "name": "stdout",
     "output_type": "stream",
     "text": [
      "3.5.1 (v3.5.1:37a07cee5969, Dec  5 2015, 21:12:44) \n",
      "[GCC 4.2.1 (Apple Inc. build 5666) (dot 3)]\n"
     ]
    }
   ],
   "source": [
    "import sys\n",
    "print(sys.version)"
   ]
  },
  {
   "cell_type": "code",
   "execution_count": 3,
   "metadata": {
    "collapsed": true
   },
   "outputs": [],
   "source": [
    "%matplotlib inline"
   ]
  },
  {
   "cell_type": "code",
   "execution_count": 4,
   "metadata": {
    "collapsed": false
   },
   "outputs": [
    {
     "name": "stdout",
     "output_type": "stream",
     "text": [
      "\u001b[34m__pycache__\u001b[m\u001b[m               \u001b[31mdownsample_differently.py\u001b[m\u001b[m \u001b[34mplots_old\u001b[m\u001b[m                 unused_reads.pyc\r\n",
      "analysis.py               \u001b[34mmultiply_mapped-final\u001b[m\u001b[m     \u001b[31mtest_run_pipeline.py\u001b[m\u001b[m\r\n",
      "\u001b[31mblast_multiply_mapped.py\u001b[m\u001b[m  \u001b[34mold\u001b[m\u001b[m                       \u001b[34munmapped-final\u001b[m\u001b[m\r\n",
      "\u001b[31mblast_unmapped.py\u001b[m\u001b[m         \u001b[34mplots\u001b[m\u001b[m                     unused_reads.py\r\n"
     ]
    }
   ],
   "source": [
    "!ls ../../unused_reads/"
   ]
  },
  {
   "cell_type": "code",
   "execution_count": 5,
   "metadata": {
    "collapsed": false
   },
   "outputs": [
    {
     "name": "stderr",
     "output_type": "stream",
     "text": [
      "/Users/janet/.virtualenvs/meta4/lib/python3.5/site-packages/matplotlib/__init__.py:1350: UserWarning:  This call to matplotlib.use() has no effect\n",
      "because the backend has already been chosen;\n",
      "matplotlib.use() must be called *before* pylab, matplotlib.pyplot,\n",
      "or matplotlib.backends is imported for the first time.\n",
      "\n",
      "  warnings.warn(_use_error_msg)\n"
     ]
    }
   ],
   "source": [
    "# Import .py file from a different path:\n",
    "# first add the path to that dir to my path. \n",
    "sys.path.append(\"../../unused_reads/\")\n",
    "import analysis\n",
    "import unused_reads as ur"
   ]
  },
  {
   "cell_type": "raw",
   "metadata": {},
   "source": [
    "import glob\n",
    "import re\n",
    "\n",
    "import matplotlib.pyplot as plt\n",
    "import matplotlib as mpl\n",
    "\n",
    "import pandas as pd\n",
    "import seaborn as sns\n",
    "\n"
   ]
  },
  {
   "cell_type": "code",
   "execution_count": 6,
   "metadata": {
    "collapsed": true
   },
   "outputs": [],
   "source": [
    "# pd.set_option('display.width', 1000)"
   ]
  },
  {
   "cell_type": "code",
   "execution_count": 7,
   "metadata": {
    "collapsed": true
   },
   "outputs": [],
   "source": [
    "pd.options.display.max_colwidth = 1000"
   ]
  },
  {
   "cell_type": "code",
   "execution_count": 8,
   "metadata": {
    "collapsed": false
   },
   "outputs": [],
   "source": [
    "PLOT_DIR = '../../unused_reads/plots/'\n",
    "ur.create_dir(PLOT_DIR)"
   ]
  },
  {
   "cell_type": "code",
   "execution_count": 9,
   "metadata": {
    "collapsed": false
   },
   "outputs": [
    {
     "name": "stdout",
     "output_type": "stream",
     "text": [
      "['../../unused_reads/unmapped-final/blast_results/74_LOW10_10000-blasted.tsv', '../../unused_reads/unmapped-final/blast_results/70_HOW9_1000-blasted.tsv', '../../unused_reads/unmapped-final/blast_results/112_LOW13_10000-blasted.tsv', '../../unused_reads/unmapped-final/blast_results/19_HOW5_10000-blasted.tsv', '../../unused_reads/unmapped-final/blast_results/112_LOW13_1000-blasted.tsv', '../../unused_reads/unmapped-final/blast_results/70_HOW9_10000-blasted.tsv', '../../unused_reads/unmapped-final/blast_results/82_HOW10_10000-blasted.tsv', '../../unused_reads/unmapped-final/blast_results/57_HOW8_10000-blasted.tsv', '../../unused_reads/unmapped-final/blast_results/82_HOW10_1000-blasted.tsv', '../../unused_reads/unmapped-final/blast_results/32_HOW6_10000-blasted.tsv']\n",
      "['../../unused_reads/multiply_mapped-final/blast_results/57_HOW8_100-blasted.tsv', '../../unused_reads/multiply_mapped-final/blast_results/19_HOW5_100-blasted.tsv', '../../unused_reads/multiply_mapped-final/blast_results/32_HOW6_100-blasted.tsv', '../../unused_reads/multiply_mapped-final/blast_results/74_LOW10_100-blasted.tsv', '../../unused_reads/multiply_mapped-final/blast_results/82_HOW10_100-blasted.tsv', '../../unused_reads/multiply_mapped-final/blast_results/70_HOW9_100-blasted.tsv', '../../unused_reads/multiply_mapped-final/blast_results/112_LOW13_100-blasted.tsv']\n"
     ]
    }
   ],
   "source": [
    "# Get the loaded dataframes. \n",
    "df_dict = analysis.run_analysis(make_plots=False)"
   ]
  },
  {
   "cell_type": "code",
   "execution_count": 10,
   "metadata": {
    "collapsed": false
   },
   "outputs": [
    {
     "data": {
      "text/plain": [
       "dict_keys(['unmapped', 'unspecific'])"
      ]
     },
     "execution_count": 10,
     "metadata": {},
     "output_type": "execute_result"
    }
   ],
   "source": [
    "df_dict.keys()"
   ]
  },
  {
   "cell_type": "code",
   "execution_count": 11,
   "metadata": {
    "collapsed": true
   },
   "outputs": [],
   "source": [
    "unspecific = df_dict['unspecific']\n",
    "unmapped = df_dict['unmapped']"
   ]
  },
  {
   "cell_type": "markdown",
   "metadata": {},
   "source": [
    "## Unmapped reads:"
   ]
  },
  {
   "cell_type": "code",
   "execution_count": 12,
   "metadata": {
    "collapsed": false
   },
   "outputs": [
    {
     "data": {
      "text/html": [
       "<div>\n",
       "<table border=\"1\" class=\"dataframe\">\n",
       "  <thead>\n",
       "    <tr style=\"text-align: right;\">\n",
       "      <th></th>\n",
       "      <th>stitle</th>\n",
       "      <th>qseqid</th>\n",
       "      <th>sseqid</th>\n",
       "      <th>pident</th>\n",
       "      <th>length</th>\n",
       "      <th>evalue</th>\n",
       "      <th>bitscore</th>\n",
       "      <th>mismatch</th>\n",
       "      <th>gapopen</th>\n",
       "      <th>qstart</th>\n",
       "      <th>qend</th>\n",
       "      <th>sstart</th>\n",
       "      <th>send</th>\n",
       "      <th>sample</th>\n",
       "      <th>downsample granularity</th>\n",
       "    </tr>\n",
       "  </thead>\n",
       "  <tbody>\n",
       "    <tr>\n",
       "      <th>0</th>\n",
       "      <td>Bacillus subtilis subsp. subtilis strain CU1050, complete genome</td>\n",
       "      <td>HISEQ15:132:C6FRCANXX:6:2115:13750:47625</td>\n",
       "      <td>gi|983204966|gb|CP014166.1|</td>\n",
       "      <td>100</td>\n",
       "      <td>151</td>\n",
       "      <td>7.000000e-75</td>\n",
       "      <td>291</td>\n",
       "      <td>0</td>\n",
       "      <td>0</td>\n",
       "      <td>1</td>\n",
       "      <td>151</td>\n",
       "      <td>3019253</td>\n",
       "      <td>3019103</td>\n",
       "      <td>74_LOW10</td>\n",
       "      <td>10000</td>\n",
       "    </tr>\n",
       "    <tr>\n",
       "      <th>1</th>\n",
       "      <td>Bacillus subtilis subsp. subtilis strain CU1050, complete genome</td>\n",
       "      <td>HISEQ15:132:C6FRCANXX:6:2115:13750:47625</td>\n",
       "      <td>gi|983204966|gb|CP014166.1|</td>\n",
       "      <td>100</td>\n",
       "      <td>150</td>\n",
       "      <td>3.000000e-74</td>\n",
       "      <td>289</td>\n",
       "      <td>0</td>\n",
       "      <td>0</td>\n",
       "      <td>2</td>\n",
       "      <td>151</td>\n",
       "      <td>9885</td>\n",
       "      <td>10034</td>\n",
       "      <td>74_LOW10</td>\n",
       "      <td>10000</td>\n",
       "    </tr>\n",
       "  </tbody>\n",
       "</table>\n",
       "</div>"
      ],
      "text/plain": [
       "                                                             stitle  \\\n",
       "0  Bacillus subtilis subsp. subtilis strain CU1050, complete genome   \n",
       "1  Bacillus subtilis subsp. subtilis strain CU1050, complete genome   \n",
       "\n",
       "                                     qseqid                       sseqid  \\\n",
       "0  HISEQ15:132:C6FRCANXX:6:2115:13750:47625  gi|983204966|gb|CP014166.1|   \n",
       "1  HISEQ15:132:C6FRCANXX:6:2115:13750:47625  gi|983204966|gb|CP014166.1|   \n",
       "\n",
       "   pident  length        evalue  bitscore  mismatch  gapopen  qstart  qend  \\\n",
       "0     100     151  7.000000e-75       291         0        0       1   151   \n",
       "1     100     150  3.000000e-74       289         0        0       2   151   \n",
       "\n",
       "    sstart     send    sample  downsample granularity  \n",
       "0  3019253  3019103  74_LOW10                   10000  \n",
       "1     9885    10034  74_LOW10                   10000  "
      ]
     },
     "execution_count": 12,
     "metadata": {},
     "output_type": "execute_result"
    }
   ],
   "source": [
    "unmapped.head(2)"
   ]
  },
  {
   "cell_type": "code",
   "execution_count": 13,
   "metadata": {
    "collapsed": false
   },
   "outputs": [
    {
     "data": {
      "text/html": [
       "<div>\n",
       "<table border=\"1\" class=\"dataframe\">\n",
       "  <thead>\n",
       "    <tr style=\"text-align: right;\">\n",
       "      <th></th>\n",
       "      <th>sample</th>\n",
       "      <th>downsample granularity</th>\n",
       "    </tr>\n",
       "  </thead>\n",
       "  <tbody>\n",
       "    <tr>\n",
       "      <th>0</th>\n",
       "      <td>74_LOW10</td>\n",
       "      <td>10000</td>\n",
       "    </tr>\n",
       "    <tr>\n",
       "      <th>0</th>\n",
       "      <td>112_LOW13</td>\n",
       "      <td>10000</td>\n",
       "    </tr>\n",
       "    <tr>\n",
       "      <th>0</th>\n",
       "      <td>19_HOW5</td>\n",
       "      <td>10000</td>\n",
       "    </tr>\n",
       "    <tr>\n",
       "      <th>0</th>\n",
       "      <td>112_LOW13</td>\n",
       "      <td>1000</td>\n",
       "    </tr>\n",
       "    <tr>\n",
       "      <th>0</th>\n",
       "      <td>70_HOW9</td>\n",
       "      <td>10000</td>\n",
       "    </tr>\n",
       "    <tr>\n",
       "      <th>0</th>\n",
       "      <td>82_HOW10</td>\n",
       "      <td>10000</td>\n",
       "    </tr>\n",
       "    <tr>\n",
       "      <th>0</th>\n",
       "      <td>57_HOW8</td>\n",
       "      <td>10000</td>\n",
       "    </tr>\n",
       "    <tr>\n",
       "      <th>0</th>\n",
       "      <td>82_HOW10</td>\n",
       "      <td>1000</td>\n",
       "    </tr>\n",
       "    <tr>\n",
       "      <th>0</th>\n",
       "      <td>32_HOW6</td>\n",
       "      <td>10000</td>\n",
       "    </tr>\n",
       "  </tbody>\n",
       "</table>\n",
       "</div>"
      ],
      "text/plain": [
       "      sample  downsample granularity\n",
       "0   74_LOW10                   10000\n",
       "0  112_LOW13                   10000\n",
       "0    19_HOW5                   10000\n",
       "0  112_LOW13                    1000\n",
       "0    70_HOW9                   10000\n",
       "0   82_HOW10                   10000\n",
       "0    57_HOW8                   10000\n",
       "0   82_HOW10                    1000\n",
       "0    32_HOW6                   10000"
      ]
     },
     "execution_count": 13,
     "metadata": {},
     "output_type": "execute_result"
    }
   ],
   "source": [
    "unmapped[['sample', 'downsample granularity']].drop_duplicates()"
   ]
  },
  {
   "cell_type": "markdown",
   "metadata": {
    "collapsed": false
   },
   "source": [
    "analysis.plot_length_dist(analysis.unmapped, 'unmapped', analysis.PLOT_DIR)"
   ]
  },
  {
   "cell_type": "markdown",
   "metadata": {},
   "source": [
    "analysis.plot_pident_dist(analysis.unmapped, 'unmapped', analysis.PLOT_DIR)"
   ]
  },
  {
   "cell_type": "markdown",
   "metadata": {},
   "source": [
    "## Multiply Mapped Reads"
   ]
  },
  {
   "cell_type": "code",
   "execution_count": 14,
   "metadata": {
    "collapsed": false
   },
   "outputs": [
    {
     "data": {
      "text/html": [
       "<div>\n",
       "<table border=\"1\" class=\"dataframe\">\n",
       "  <thead>\n",
       "    <tr style=\"text-align: right;\">\n",
       "      <th></th>\n",
       "      <th>sample</th>\n",
       "      <th>downsample granularity</th>\n",
       "    </tr>\n",
       "  </thead>\n",
       "  <tbody>\n",
       "    <tr>\n",
       "      <th>0</th>\n",
       "      <td>57_HOW8</td>\n",
       "      <td>100</td>\n",
       "    </tr>\n",
       "    <tr>\n",
       "      <th>0</th>\n",
       "      <td>19_HOW5</td>\n",
       "      <td>100</td>\n",
       "    </tr>\n",
       "    <tr>\n",
       "      <th>0</th>\n",
       "      <td>32_HOW6</td>\n",
       "      <td>100</td>\n",
       "    </tr>\n",
       "    <tr>\n",
       "      <th>0</th>\n",
       "      <td>74_LOW10</td>\n",
       "      <td>100</td>\n",
       "    </tr>\n",
       "    <tr>\n",
       "      <th>0</th>\n",
       "      <td>82_HOW10</td>\n",
       "      <td>100</td>\n",
       "    </tr>\n",
       "    <tr>\n",
       "      <th>0</th>\n",
       "      <td>70_HOW9</td>\n",
       "      <td>100</td>\n",
       "    </tr>\n",
       "    <tr>\n",
       "      <th>0</th>\n",
       "      <td>112_LOW13</td>\n",
       "      <td>100</td>\n",
       "    </tr>\n",
       "  </tbody>\n",
       "</table>\n",
       "</div>"
      ],
      "text/plain": [
       "      sample  downsample granularity\n",
       "0    57_HOW8                     100\n",
       "0    19_HOW5                     100\n",
       "0    32_HOW6                     100\n",
       "0   74_LOW10                     100\n",
       "0   82_HOW10                     100\n",
       "0    70_HOW9                     100\n",
       "0  112_LOW13                     100"
      ]
     },
     "execution_count": 14,
     "metadata": {},
     "output_type": "execute_result"
    }
   ],
   "source": [
    "unspecific[['sample', 'downsample granularity']].drop_duplicates()"
   ]
  },
  {
   "cell_type": "markdown",
   "metadata": {},
   "source": [
    "## Look at summary data"
   ]
  },
  {
   "cell_type": "code",
   "execution_count": 15,
   "metadata": {
    "collapsed": false
   },
   "outputs": [
    {
     "name": "stdout",
     "output_type": "stream",
     "text": [
      "available downsampling granularities: [10000  1000]\n",
      "fraction of rows removed for min percent_identity = 90: 96.70849516980381\n",
      "fraction of rows removed for min length = 140: 53.39065959528345\n"
     ]
    }
   ],
   "source": [
    "unmapped_summary = analysis.summarise(df=unmapped, min_pident=90, min_length=140, \n",
    "                       downsample_granularity=10000)"
   ]
  },
  {
   "cell_type": "code",
   "execution_count": 16,
   "metadata": {
    "collapsed": false
   },
   "outputs": [
    {
     "data": {
      "text/html": [
       "<div>\n",
       "<table border=\"1\" class=\"dataframe\">\n",
       "  <thead>\n",
       "    <tr style=\"text-align: right;\">\n",
       "      <th></th>\n",
       "      <th>stitle</th>\n",
       "      <th>qseqid</th>\n",
       "      <th>sseqid</th>\n",
       "      <th>pident</th>\n",
       "      <th>length</th>\n",
       "      <th>evalue</th>\n",
       "      <th>bitscore</th>\n",
       "      <th>mismatch</th>\n",
       "      <th>gapopen</th>\n",
       "      <th>qstart</th>\n",
       "      <th>qend</th>\n",
       "      <th>sstart</th>\n",
       "      <th>send</th>\n",
       "      <th>sample</th>\n",
       "      <th>downsample granularity</th>\n",
       "    </tr>\n",
       "  </thead>\n",
       "  <tbody>\n",
       "    <tr>\n",
       "      <th>0</th>\n",
       "      <td>Bacillus subtilis subsp. subtilis strain CU1050, complete genome</td>\n",
       "      <td>HISEQ15:132:C6FRCANXX:6:2115:13750:47625</td>\n",
       "      <td>gi|983204966|gb|CP014166.1|</td>\n",
       "      <td>100</td>\n",
       "      <td>151</td>\n",
       "      <td>7.000000e-75</td>\n",
       "      <td>291</td>\n",
       "      <td>0</td>\n",
       "      <td>0</td>\n",
       "      <td>1</td>\n",
       "      <td>151</td>\n",
       "      <td>3019253</td>\n",
       "      <td>3019103</td>\n",
       "      <td>74_LOW10</td>\n",
       "      <td>10000</td>\n",
       "    </tr>\n",
       "    <tr>\n",
       "      <th>1</th>\n",
       "      <td>Bacillus subtilis subsp. subtilis strain CU1050, complete genome</td>\n",
       "      <td>HISEQ15:132:C6FRCANXX:6:2115:13750:47625</td>\n",
       "      <td>gi|983204966|gb|CP014166.1|</td>\n",
       "      <td>100</td>\n",
       "      <td>150</td>\n",
       "      <td>3.000000e-74</td>\n",
       "      <td>289</td>\n",
       "      <td>0</td>\n",
       "      <td>0</td>\n",
       "      <td>2</td>\n",
       "      <td>151</td>\n",
       "      <td>9885</td>\n",
       "      <td>10034</td>\n",
       "      <td>74_LOW10</td>\n",
       "      <td>10000</td>\n",
       "    </tr>\n",
       "    <tr>\n",
       "      <th>2</th>\n",
       "      <td>Bacillus subtilis subsp. subtilis strain CU1050, complete genome</td>\n",
       "      <td>HISEQ15:132:C6FRCANXX:6:2115:13750:47625</td>\n",
       "      <td>gi|983204966|gb|CP014166.1|</td>\n",
       "      <td>100</td>\n",
       "      <td>150</td>\n",
       "      <td>3.000000e-74</td>\n",
       "      <td>289</td>\n",
       "      <td>0</td>\n",
       "      <td>0</td>\n",
       "      <td>2</td>\n",
       "      <td>151</td>\n",
       "      <td>30353</td>\n",
       "      <td>30502</td>\n",
       "      <td>74_LOW10</td>\n",
       "      <td>10000</td>\n",
       "    </tr>\n",
       "    <tr>\n",
       "      <th>3</th>\n",
       "      <td>Bacillus subtilis subsp. subtilis strain CU1050, complete genome</td>\n",
       "      <td>HISEQ15:132:C6FRCANXX:6:2115:13750:47625</td>\n",
       "      <td>gi|983204966|gb|CP014166.1|</td>\n",
       "      <td>100</td>\n",
       "      <td>150</td>\n",
       "      <td>3.000000e-74</td>\n",
       "      <td>289</td>\n",
       "      <td>0</td>\n",
       "      <td>0</td>\n",
       "      <td>2</td>\n",
       "      <td>151</td>\n",
       "      <td>90610</td>\n",
       "      <td>90759</td>\n",
       "      <td>74_LOW10</td>\n",
       "      <td>10000</td>\n",
       "    </tr>\n",
       "    <tr>\n",
       "      <th>4</th>\n",
       "      <td>Bacillus subtilis subsp. subtilis strain CU1050, complete genome</td>\n",
       "      <td>HISEQ15:132:C6FRCANXX:6:2115:13750:47625</td>\n",
       "      <td>gi|983204966|gb|CP014166.1|</td>\n",
       "      <td>100</td>\n",
       "      <td>150</td>\n",
       "      <td>3.000000e-74</td>\n",
       "      <td>289</td>\n",
       "      <td>0</td>\n",
       "      <td>0</td>\n",
       "      <td>2</td>\n",
       "      <td>151</td>\n",
       "      <td>96466</td>\n",
       "      <td>96615</td>\n",
       "      <td>74_LOW10</td>\n",
       "      <td>10000</td>\n",
       "    </tr>\n",
       "  </tbody>\n",
       "</table>\n",
       "</div>"
      ],
      "text/plain": [
       "                                                             stitle  \\\n",
       "0  Bacillus subtilis subsp. subtilis strain CU1050, complete genome   \n",
       "1  Bacillus subtilis subsp. subtilis strain CU1050, complete genome   \n",
       "2  Bacillus subtilis subsp. subtilis strain CU1050, complete genome   \n",
       "3  Bacillus subtilis subsp. subtilis strain CU1050, complete genome   \n",
       "4  Bacillus subtilis subsp. subtilis strain CU1050, complete genome   \n",
       "\n",
       "                                     qseqid                       sseqid  \\\n",
       "0  HISEQ15:132:C6FRCANXX:6:2115:13750:47625  gi|983204966|gb|CP014166.1|   \n",
       "1  HISEQ15:132:C6FRCANXX:6:2115:13750:47625  gi|983204966|gb|CP014166.1|   \n",
       "2  HISEQ15:132:C6FRCANXX:6:2115:13750:47625  gi|983204966|gb|CP014166.1|   \n",
       "3  HISEQ15:132:C6FRCANXX:6:2115:13750:47625  gi|983204966|gb|CP014166.1|   \n",
       "4  HISEQ15:132:C6FRCANXX:6:2115:13750:47625  gi|983204966|gb|CP014166.1|   \n",
       "\n",
       "   pident  length        evalue  bitscore  mismatch  gapopen  qstart  qend  \\\n",
       "0     100     151  7.000000e-75       291         0        0       1   151   \n",
       "1     100     150  3.000000e-74       289         0        0       2   151   \n",
       "2     100     150  3.000000e-74       289         0        0       2   151   \n",
       "3     100     150  3.000000e-74       289         0        0       2   151   \n",
       "4     100     150  3.000000e-74       289         0        0       2   151   \n",
       "\n",
       "    sstart     send    sample  downsample granularity  \n",
       "0  3019253  3019103  74_LOW10                   10000  \n",
       "1     9885    10034  74_LOW10                   10000  \n",
       "2    30353    30502  74_LOW10                   10000  \n",
       "3    90610    90759  74_LOW10                   10000  \n",
       "4    96466    96615  74_LOW10                   10000  "
      ]
     },
     "execution_count": 16,
     "metadata": {},
     "output_type": "execute_result"
    }
   ],
   "source": [
    "unmapped_summary.head()"
   ]
  },
  {
   "cell_type": "code",
   "execution_count": 17,
   "metadata": {
    "collapsed": true
   },
   "outputs": [],
   "source": [
    "unmapped_summary.to_csv(\"160324_explore_unmapped.csv\")"
   ]
  },
  {
   "cell_type": "code",
   "execution_count": null,
   "metadata": {
    "collapsed": true
   },
   "outputs": [],
   "source": []
  }
 ],
 "metadata": {
  "kernelspec": {
   "display_name": "IPython (Python 3)",
   "language": "python",
   "name": "python3"
  },
  "language_info": {
   "codemirror_mode": {
    "name": "ipython",
    "version": 3
   },
   "file_extension": ".py",
   "mimetype": "text/x-python",
   "name": "python",
   "nbconvert_exporter": "python",
   "pygments_lexer": "ipython3",
   "version": "3.5.1"
  }
 },
 "nbformat": 4,
 "nbformat_minor": 0
}
