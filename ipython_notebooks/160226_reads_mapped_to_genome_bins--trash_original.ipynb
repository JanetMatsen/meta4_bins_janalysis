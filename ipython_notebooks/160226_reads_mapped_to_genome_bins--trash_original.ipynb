{
 "cells": [
  {
   "cell_type": "code",
   "execution_count": 1,
   "metadata": {
    "collapsed": true
   },
   "outputs": [],
   "source": [
    "import matplotlib as mpl\n",
    "mpl.use('TkAgg')\n",
    "import matplotlib.pyplot as plt\n",
    "%matplotlib inline\n",
    "\n",
    "import pandas as pd\n",
    "import seaborn as sns"
   ]
  },
  {
   "cell_type": "code",
   "execution_count": 2,
   "metadata": {
    "collapsed": false
   },
   "outputs": [],
   "source": [
    "gene_data = pd.read_csv('summary.dat', sep = '\\t')"
   ]
  },
  {
   "cell_type": "code",
   "execution_count": 3,
   "metadata": {
    "collapsed": false
   },
   "outputs": [
    {
     "data": {
      "text/html": [
       "<div>\n",
       "<table border=\"1\" class=\"dataframe\">\n",
       "  <thead>\n",
       "    <tr style=\"text-align: right;\">\n",
       "      <th></th>\n",
       "      <th>genome</th>\n",
       "      <th>locus_tag</th>\n",
       "      <th>product</th>\n",
       "      <th>LakWasM100_LOW12_2_rpkm</th>\n",
       "      <th>LakWasMe97_LOW12_2_rpkm</th>\n",
       "      <th>LakWasMe98_LOW12_2_rpkm</th>\n",
       "      <th>LakWasMe99_LOW12_2_rpkm</th>\n",
       "      <th>LakWasM104_HOW12_2_rpkm</th>\n",
       "      <th>LakWasM105_HOW12_2_rpkm</th>\n",
       "      <th>LakWasM106_HOW12_2_rpkm</th>\n",
       "      <th>...</th>\n",
       "      <th>LakWasMet56_HOW8_2_rpkm</th>\n",
       "      <th>LakWasMet57_HOW8_2_rpkm</th>\n",
       "      <th>LakWasMet58_HOW8_2_rpkm</th>\n",
       "      <th>LakWasMet61_LOW9_2_rpkm</th>\n",
       "      <th>LakWasMet62_LOW9_2_rpkm</th>\n",
       "      <th>LakWasMet63_LOW9_2_rpkm</th>\n",
       "      <th>LakWasMet64_LOW9_2_rpkm</th>\n",
       "      <th>LakWasMet67_HOW9_2_rpkm</th>\n",
       "      <th>LakWasMet69_HOW9_2_rpkm</th>\n",
       "      <th>LakWasMet70_HOW9_2_rpkm</th>\n",
       "    </tr>\n",
       "  </thead>\n",
       "  <tbody>\n",
       "    <tr>\n",
       "      <th>0</th>\n",
       "      <td>Acidovora-69x (UID4105)</td>\n",
       "      <td>Ga0081644_10011</td>\n",
       "      <td>serine/threonine protein kinase</td>\n",
       "      <td>0</td>\n",
       "      <td>0</td>\n",
       "      <td>0</td>\n",
       "      <td>0</td>\n",
       "      <td>0</td>\n",
       "      <td>0</td>\n",
       "      <td>0</td>\n",
       "      <td>...</td>\n",
       "      <td>0</td>\n",
       "      <td>0</td>\n",
       "      <td>0</td>\n",
       "      <td>0</td>\n",
       "      <td>0</td>\n",
       "      <td>0</td>\n",
       "      <td>0</td>\n",
       "      <td>0</td>\n",
       "      <td>0</td>\n",
       "      <td>0</td>\n",
       "    </tr>\n",
       "    <tr>\n",
       "      <th>1</th>\n",
       "      <td>Acidovora-69x (UID4105)</td>\n",
       "      <td>Ga0081644_10012</td>\n",
       "      <td>simple sugar transport system permease protein</td>\n",
       "      <td>0</td>\n",
       "      <td>0</td>\n",
       "      <td>0</td>\n",
       "      <td>0</td>\n",
       "      <td>0</td>\n",
       "      <td>0</td>\n",
       "      <td>0</td>\n",
       "      <td>...</td>\n",
       "      <td>0</td>\n",
       "      <td>0</td>\n",
       "      <td>0</td>\n",
       "      <td>0</td>\n",
       "      <td>0</td>\n",
       "      <td>0</td>\n",
       "      <td>0</td>\n",
       "      <td>0</td>\n",
       "      <td>0</td>\n",
       "      <td>0</td>\n",
       "    </tr>\n",
       "    <tr>\n",
       "      <th>2</th>\n",
       "      <td>Acidovora-69x (UID4105)</td>\n",
       "      <td>Ga0081644_10013</td>\n",
       "      <td>nucleoside ABC transporter ATP-binding protein</td>\n",
       "      <td>0</td>\n",
       "      <td>0</td>\n",
       "      <td>0</td>\n",
       "      <td>0</td>\n",
       "      <td>0</td>\n",
       "      <td>0</td>\n",
       "      <td>0</td>\n",
       "      <td>...</td>\n",
       "      <td>0</td>\n",
       "      <td>0</td>\n",
       "      <td>1</td>\n",
       "      <td>0</td>\n",
       "      <td>0</td>\n",
       "      <td>0</td>\n",
       "      <td>0</td>\n",
       "      <td>1</td>\n",
       "      <td>0</td>\n",
       "      <td>0</td>\n",
       "    </tr>\n",
       "    <tr>\n",
       "      <th>3</th>\n",
       "      <td>Acidovora-69x (UID4105)</td>\n",
       "      <td>Ga0081644_10021</td>\n",
       "      <td>hypothetical protein</td>\n",
       "      <td>0</td>\n",
       "      <td>0</td>\n",
       "      <td>0</td>\n",
       "      <td>0</td>\n",
       "      <td>0</td>\n",
       "      <td>0</td>\n",
       "      <td>0</td>\n",
       "      <td>...</td>\n",
       "      <td>0</td>\n",
       "      <td>0</td>\n",
       "      <td>0</td>\n",
       "      <td>0</td>\n",
       "      <td>0</td>\n",
       "      <td>0</td>\n",
       "      <td>0</td>\n",
       "      <td>0</td>\n",
       "      <td>0</td>\n",
       "      <td>0</td>\n",
       "    </tr>\n",
       "    <tr>\n",
       "      <th>4</th>\n",
       "      <td>Acidovora-69x (UID4105)</td>\n",
       "      <td>Ga0081644_10022</td>\n",
       "      <td>D-amino-acid dehydrogenase</td>\n",
       "      <td>0</td>\n",
       "      <td>0</td>\n",
       "      <td>0</td>\n",
       "      <td>0</td>\n",
       "      <td>0</td>\n",
       "      <td>1</td>\n",
       "      <td>0</td>\n",
       "      <td>...</td>\n",
       "      <td>0</td>\n",
       "      <td>0</td>\n",
       "      <td>0</td>\n",
       "      <td>0</td>\n",
       "      <td>0</td>\n",
       "      <td>0</td>\n",
       "      <td>0</td>\n",
       "      <td>2</td>\n",
       "      <td>0</td>\n",
       "      <td>2</td>\n",
       "    </tr>\n",
       "  </tbody>\n",
       "</table>\n",
       "<p>5 rows × 86 columns</p>\n",
       "</div>"
      ],
      "text/plain": [
       "                     genome        locus_tag  \\\n",
       "0  Acidovora-69x (UID4105)   Ga0081644_10011   \n",
       "1  Acidovora-69x (UID4105)   Ga0081644_10012   \n",
       "2  Acidovora-69x (UID4105)   Ga0081644_10013   \n",
       "3  Acidovora-69x (UID4105)   Ga0081644_10021   \n",
       "4  Acidovora-69x (UID4105)   Ga0081644_10022   \n",
       "\n",
       "                                          product  LakWasM100_LOW12_2_rpkm  \\\n",
       "0                 serine/threonine protein kinase                        0   \n",
       "1  simple sugar transport system permease protein                        0   \n",
       "2  nucleoside ABC transporter ATP-binding protein                        0   \n",
       "3                            hypothetical protein                        0   \n",
       "4                      D-amino-acid dehydrogenase                        0   \n",
       "\n",
       "   LakWasMe97_LOW12_2_rpkm  LakWasMe98_LOW12_2_rpkm  LakWasMe99_LOW12_2_rpkm  \\\n",
       "0                        0                        0                        0   \n",
       "1                        0                        0                        0   \n",
       "2                        0                        0                        0   \n",
       "3                        0                        0                        0   \n",
       "4                        0                        0                        0   \n",
       "\n",
       "   LakWasM104_HOW12_2_rpkm  LakWasM105_HOW12_2_rpkm  LakWasM106_HOW12_2_rpkm  \\\n",
       "0                        0                        0                        0   \n",
       "1                        0                        0                        0   \n",
       "2                        0                        0                        0   \n",
       "3                        0                        0                        0   \n",
       "4                        0                        1                        0   \n",
       "\n",
       "            ...             LakWasMet56_HOW8_2_rpkm  LakWasMet57_HOW8_2_rpkm  \\\n",
       "0           ...                                   0                        0   \n",
       "1           ...                                   0                        0   \n",
       "2           ...                                   0                        0   \n",
       "3           ...                                   0                        0   \n",
       "4           ...                                   0                        0   \n",
       "\n",
       "   LakWasMet58_HOW8_2_rpkm  LakWasMet61_LOW9_2_rpkm  LakWasMet62_LOW9_2_rpkm  \\\n",
       "0                        0                        0                        0   \n",
       "1                        0                        0                        0   \n",
       "2                        1                        0                        0   \n",
       "3                        0                        0                        0   \n",
       "4                        0                        0                        0   \n",
       "\n",
       "   LakWasMet63_LOW9_2_rpkm  LakWasMet64_LOW9_2_rpkm  LakWasMet67_HOW9_2_rpkm  \\\n",
       "0                        0                        0                        0   \n",
       "1                        0                        0                        0   \n",
       "2                        0                        0                        1   \n",
       "3                        0                        0                        0   \n",
       "4                        0                        0                        2   \n",
       "\n",
       "   LakWasMet69_HOW9_2_rpkm  LakWasMet70_HOW9_2_rpkm  \n",
       "0                        0                        0  \n",
       "1                        0                        0  \n",
       "2                        0                        0  \n",
       "3                        0                        0  \n",
       "4                        0                        2  \n",
       "\n",
       "[5 rows x 86 columns]"
      ]
     },
     "execution_count": 3,
     "metadata": {},
     "output_type": "execute_result"
    }
   ],
   "source": [
    "gene_data.head()"
   ]
  },
  {
   "cell_type": "code",
   "execution_count": 4,
   "metadata": {
    "collapsed": false
   },
   "outputs": [],
   "source": [
    "gene_data.set_index(['genome', 'locus_tag', 'product'], inplace=True)"
   ]
  },
  {
   "cell_type": "code",
   "execution_count": 5,
   "metadata": {
    "collapsed": false
   },
   "outputs": [
    {
     "data": {
      "text/html": [
       "<div>\n",
       "<table border=\"1\" class=\"dataframe\">\n",
       "  <thead>\n",
       "    <tr style=\"text-align: right;\">\n",
       "      <th></th>\n",
       "      <th></th>\n",
       "      <th></th>\n",
       "      <th>LakWasM100_LOW12_2_rpkm</th>\n",
       "      <th>LakWasMe97_LOW12_2_rpkm</th>\n",
       "      <th>LakWasMe98_LOW12_2_rpkm</th>\n",
       "      <th>LakWasMe99_LOW12_2_rpkm</th>\n",
       "      <th>LakWasM104_HOW12_2_rpkm</th>\n",
       "      <th>LakWasM105_HOW12_2_rpkm</th>\n",
       "      <th>LakWasM106_HOW12_2_rpkm</th>\n",
       "      <th>LakWasM109_LOW13_2_rpkm</th>\n",
       "      <th>LakWasM110_LOW13_2_rpkm</th>\n",
       "      <th>LakWasM111_LOW13_2_rpkm</th>\n",
       "      <th>...</th>\n",
       "      <th>LakWasMet56_HOW8_2_rpkm</th>\n",
       "      <th>LakWasMet57_HOW8_2_rpkm</th>\n",
       "      <th>LakWasMet58_HOW8_2_rpkm</th>\n",
       "      <th>LakWasMet61_LOW9_2_rpkm</th>\n",
       "      <th>LakWasMet62_LOW9_2_rpkm</th>\n",
       "      <th>LakWasMet63_LOW9_2_rpkm</th>\n",
       "      <th>LakWasMet64_LOW9_2_rpkm</th>\n",
       "      <th>LakWasMet67_HOW9_2_rpkm</th>\n",
       "      <th>LakWasMet69_HOW9_2_rpkm</th>\n",
       "      <th>LakWasMet70_HOW9_2_rpkm</th>\n",
       "    </tr>\n",
       "    <tr>\n",
       "      <th>genome</th>\n",
       "      <th>locus_tag</th>\n",
       "      <th>product</th>\n",
       "      <th></th>\n",
       "      <th></th>\n",
       "      <th></th>\n",
       "      <th></th>\n",
       "      <th></th>\n",
       "      <th></th>\n",
       "      <th></th>\n",
       "      <th></th>\n",
       "      <th></th>\n",
       "      <th></th>\n",
       "      <th></th>\n",
       "      <th></th>\n",
       "      <th></th>\n",
       "      <th></th>\n",
       "      <th></th>\n",
       "      <th></th>\n",
       "      <th></th>\n",
       "      <th></th>\n",
       "      <th></th>\n",
       "      <th></th>\n",
       "      <th></th>\n",
       "    </tr>\n",
       "  </thead>\n",
       "  <tbody>\n",
       "    <tr>\n",
       "      <th rowspan=\"5\" valign=\"top\">Acidovora-69x (UID4105)</th>\n",
       "      <th>Ga0081644_10011</th>\n",
       "      <th>serine/threonine protein kinase</th>\n",
       "      <td>0</td>\n",
       "      <td>0</td>\n",
       "      <td>0</td>\n",
       "      <td>0</td>\n",
       "      <td>0</td>\n",
       "      <td>0</td>\n",
       "      <td>0</td>\n",
       "      <td>0</td>\n",
       "      <td>0</td>\n",
       "      <td>0</td>\n",
       "      <td>...</td>\n",
       "      <td>0</td>\n",
       "      <td>0</td>\n",
       "      <td>0</td>\n",
       "      <td>0</td>\n",
       "      <td>0</td>\n",
       "      <td>0</td>\n",
       "      <td>0</td>\n",
       "      <td>0</td>\n",
       "      <td>0</td>\n",
       "      <td>0</td>\n",
       "    </tr>\n",
       "    <tr>\n",
       "      <th>Ga0081644_10012</th>\n",
       "      <th>simple sugar transport system permease protein</th>\n",
       "      <td>0</td>\n",
       "      <td>0</td>\n",
       "      <td>0</td>\n",
       "      <td>0</td>\n",
       "      <td>0</td>\n",
       "      <td>0</td>\n",
       "      <td>0</td>\n",
       "      <td>0</td>\n",
       "      <td>0</td>\n",
       "      <td>0</td>\n",
       "      <td>...</td>\n",
       "      <td>0</td>\n",
       "      <td>0</td>\n",
       "      <td>0</td>\n",
       "      <td>0</td>\n",
       "      <td>0</td>\n",
       "      <td>0</td>\n",
       "      <td>0</td>\n",
       "      <td>0</td>\n",
       "      <td>0</td>\n",
       "      <td>0</td>\n",
       "    </tr>\n",
       "    <tr>\n",
       "      <th>Ga0081644_10013</th>\n",
       "      <th>nucleoside ABC transporter ATP-binding protein</th>\n",
       "      <td>0</td>\n",
       "      <td>0</td>\n",
       "      <td>0</td>\n",
       "      <td>0</td>\n",
       "      <td>0</td>\n",
       "      <td>0</td>\n",
       "      <td>0</td>\n",
       "      <td>0</td>\n",
       "      <td>0</td>\n",
       "      <td>0</td>\n",
       "      <td>...</td>\n",
       "      <td>0</td>\n",
       "      <td>0</td>\n",
       "      <td>1</td>\n",
       "      <td>0</td>\n",
       "      <td>0</td>\n",
       "      <td>0</td>\n",
       "      <td>0</td>\n",
       "      <td>1</td>\n",
       "      <td>0</td>\n",
       "      <td>0</td>\n",
       "    </tr>\n",
       "    <tr>\n",
       "      <th>Ga0081644_10021</th>\n",
       "      <th>hypothetical protein</th>\n",
       "      <td>0</td>\n",
       "      <td>0</td>\n",
       "      <td>0</td>\n",
       "      <td>0</td>\n",
       "      <td>0</td>\n",
       "      <td>0</td>\n",
       "      <td>0</td>\n",
       "      <td>0</td>\n",
       "      <td>0</td>\n",
       "      <td>0</td>\n",
       "      <td>...</td>\n",
       "      <td>0</td>\n",
       "      <td>0</td>\n",
       "      <td>0</td>\n",
       "      <td>0</td>\n",
       "      <td>0</td>\n",
       "      <td>0</td>\n",
       "      <td>0</td>\n",
       "      <td>0</td>\n",
       "      <td>0</td>\n",
       "      <td>0</td>\n",
       "    </tr>\n",
       "    <tr>\n",
       "      <th>Ga0081644_10022</th>\n",
       "      <th>D-amino-acid dehydrogenase</th>\n",
       "      <td>0</td>\n",
       "      <td>0</td>\n",
       "      <td>0</td>\n",
       "      <td>0</td>\n",
       "      <td>0</td>\n",
       "      <td>1</td>\n",
       "      <td>0</td>\n",
       "      <td>0</td>\n",
       "      <td>0</td>\n",
       "      <td>0</td>\n",
       "      <td>...</td>\n",
       "      <td>0</td>\n",
       "      <td>0</td>\n",
       "      <td>0</td>\n",
       "      <td>0</td>\n",
       "      <td>0</td>\n",
       "      <td>0</td>\n",
       "      <td>0</td>\n",
       "      <td>2</td>\n",
       "      <td>0</td>\n",
       "      <td>2</td>\n",
       "    </tr>\n",
       "  </tbody>\n",
       "</table>\n",
       "<p>5 rows × 83 columns</p>\n",
       "</div>"
      ],
      "text/plain": [
       "                                                                                         LakWasM100_LOW12_2_rpkm  \\\n",
       "genome                   locus_tag       product                                                                   \n",
       "Acidovora-69x (UID4105)  Ga0081644_10011 serine/threonine protein kinase                                       0   \n",
       "                         Ga0081644_10012 simple sugar transport system permease protein                        0   \n",
       "                         Ga0081644_10013 nucleoside ABC transporter ATP-binding protein                        0   \n",
       "                         Ga0081644_10021 hypothetical protein                                                  0   \n",
       "                         Ga0081644_10022 D-amino-acid dehydrogenase                                            0   \n",
       "\n",
       "                                                                                         LakWasMe97_LOW12_2_rpkm  \\\n",
       "genome                   locus_tag       product                                                                   \n",
       "Acidovora-69x (UID4105)  Ga0081644_10011 serine/threonine protein kinase                                       0   \n",
       "                         Ga0081644_10012 simple sugar transport system permease protein                        0   \n",
       "                         Ga0081644_10013 nucleoside ABC transporter ATP-binding protein                        0   \n",
       "                         Ga0081644_10021 hypothetical protein                                                  0   \n",
       "                         Ga0081644_10022 D-amino-acid dehydrogenase                                            0   \n",
       "\n",
       "                                                                                         LakWasMe98_LOW12_2_rpkm  \\\n",
       "genome                   locus_tag       product                                                                   \n",
       "Acidovora-69x (UID4105)  Ga0081644_10011 serine/threonine protein kinase                                       0   \n",
       "                         Ga0081644_10012 simple sugar transport system permease protein                        0   \n",
       "                         Ga0081644_10013 nucleoside ABC transporter ATP-binding protein                        0   \n",
       "                         Ga0081644_10021 hypothetical protein                                                  0   \n",
       "                         Ga0081644_10022 D-amino-acid dehydrogenase                                            0   \n",
       "\n",
       "                                                                                         LakWasMe99_LOW12_2_rpkm  \\\n",
       "genome                   locus_tag       product                                                                   \n",
       "Acidovora-69x (UID4105)  Ga0081644_10011 serine/threonine protein kinase                                       0   \n",
       "                         Ga0081644_10012 simple sugar transport system permease protein                        0   \n",
       "                         Ga0081644_10013 nucleoside ABC transporter ATP-binding protein                        0   \n",
       "                         Ga0081644_10021 hypothetical protein                                                  0   \n",
       "                         Ga0081644_10022 D-amino-acid dehydrogenase                                            0   \n",
       "\n",
       "                                                                                         LakWasM104_HOW12_2_rpkm  \\\n",
       "genome                   locus_tag       product                                                                   \n",
       "Acidovora-69x (UID4105)  Ga0081644_10011 serine/threonine protein kinase                                       0   \n",
       "                         Ga0081644_10012 simple sugar transport system permease protein                        0   \n",
       "                         Ga0081644_10013 nucleoside ABC transporter ATP-binding protein                        0   \n",
       "                         Ga0081644_10021 hypothetical protein                                                  0   \n",
       "                         Ga0081644_10022 D-amino-acid dehydrogenase                                            0   \n",
       "\n",
       "                                                                                         LakWasM105_HOW12_2_rpkm  \\\n",
       "genome                   locus_tag       product                                                                   \n",
       "Acidovora-69x (UID4105)  Ga0081644_10011 serine/threonine protein kinase                                       0   \n",
       "                         Ga0081644_10012 simple sugar transport system permease protein                        0   \n",
       "                         Ga0081644_10013 nucleoside ABC transporter ATP-binding protein                        0   \n",
       "                         Ga0081644_10021 hypothetical protein                                                  0   \n",
       "                         Ga0081644_10022 D-amino-acid dehydrogenase                                            1   \n",
       "\n",
       "                                                                                         LakWasM106_HOW12_2_rpkm  \\\n",
       "genome                   locus_tag       product                                                                   \n",
       "Acidovora-69x (UID4105)  Ga0081644_10011 serine/threonine protein kinase                                       0   \n",
       "                         Ga0081644_10012 simple sugar transport system permease protein                        0   \n",
       "                         Ga0081644_10013 nucleoside ABC transporter ATP-binding protein                        0   \n",
       "                         Ga0081644_10021 hypothetical protein                                                  0   \n",
       "                         Ga0081644_10022 D-amino-acid dehydrogenase                                            0   \n",
       "\n",
       "                                                                                         LakWasM109_LOW13_2_rpkm  \\\n",
       "genome                   locus_tag       product                                                                   \n",
       "Acidovora-69x (UID4105)  Ga0081644_10011 serine/threonine protein kinase                                       0   \n",
       "                         Ga0081644_10012 simple sugar transport system permease protein                        0   \n",
       "                         Ga0081644_10013 nucleoside ABC transporter ATP-binding protein                        0   \n",
       "                         Ga0081644_10021 hypothetical protein                                                  0   \n",
       "                         Ga0081644_10022 D-amino-acid dehydrogenase                                            0   \n",
       "\n",
       "                                                                                         LakWasM110_LOW13_2_rpkm  \\\n",
       "genome                   locus_tag       product                                                                   \n",
       "Acidovora-69x (UID4105)  Ga0081644_10011 serine/threonine protein kinase                                       0   \n",
       "                         Ga0081644_10012 simple sugar transport system permease protein                        0   \n",
       "                         Ga0081644_10013 nucleoside ABC transporter ATP-binding protein                        0   \n",
       "                         Ga0081644_10021 hypothetical protein                                                  0   \n",
       "                         Ga0081644_10022 D-amino-acid dehydrogenase                                            0   \n",
       "\n",
       "                                                                                         LakWasM111_LOW13_2_rpkm  \\\n",
       "genome                   locus_tag       product                                                                   \n",
       "Acidovora-69x (UID4105)  Ga0081644_10011 serine/threonine protein kinase                                       0   \n",
       "                         Ga0081644_10012 simple sugar transport system permease protein                        0   \n",
       "                         Ga0081644_10013 nucleoside ABC transporter ATP-binding protein                        0   \n",
       "                         Ga0081644_10021 hypothetical protein                                                  0   \n",
       "                         Ga0081644_10022 D-amino-acid dehydrogenase                                            0   \n",
       "\n",
       "                                                                                                  ...             \\\n",
       "genome                   locus_tag       product                                                  ...              \n",
       "Acidovora-69x (UID4105)  Ga0081644_10011 serine/threonine protein kinase                          ...              \n",
       "                         Ga0081644_10012 simple sugar transport system permease protein           ...              \n",
       "                         Ga0081644_10013 nucleoside ABC transporter ATP-binding protein           ...              \n",
       "                         Ga0081644_10021 hypothetical protein                                     ...              \n",
       "                         Ga0081644_10022 D-amino-acid dehydrogenase                               ...              \n",
       "\n",
       "                                                                                         LakWasMet56_HOW8_2_rpkm  \\\n",
       "genome                   locus_tag       product                                                                   \n",
       "Acidovora-69x (UID4105)  Ga0081644_10011 serine/threonine protein kinase                                       0   \n",
       "                         Ga0081644_10012 simple sugar transport system permease protein                        0   \n",
       "                         Ga0081644_10013 nucleoside ABC transporter ATP-binding protein                        0   \n",
       "                         Ga0081644_10021 hypothetical protein                                                  0   \n",
       "                         Ga0081644_10022 D-amino-acid dehydrogenase                                            0   \n",
       "\n",
       "                                                                                         LakWasMet57_HOW8_2_rpkm  \\\n",
       "genome                   locus_tag       product                                                                   \n",
       "Acidovora-69x (UID4105)  Ga0081644_10011 serine/threonine protein kinase                                       0   \n",
       "                         Ga0081644_10012 simple sugar transport system permease protein                        0   \n",
       "                         Ga0081644_10013 nucleoside ABC transporter ATP-binding protein                        0   \n",
       "                         Ga0081644_10021 hypothetical protein                                                  0   \n",
       "                         Ga0081644_10022 D-amino-acid dehydrogenase                                            0   \n",
       "\n",
       "                                                                                         LakWasMet58_HOW8_2_rpkm  \\\n",
       "genome                   locus_tag       product                                                                   \n",
       "Acidovora-69x (UID4105)  Ga0081644_10011 serine/threonine protein kinase                                       0   \n",
       "                         Ga0081644_10012 simple sugar transport system permease protein                        0   \n",
       "                         Ga0081644_10013 nucleoside ABC transporter ATP-binding protein                        1   \n",
       "                         Ga0081644_10021 hypothetical protein                                                  0   \n",
       "                         Ga0081644_10022 D-amino-acid dehydrogenase                                            0   \n",
       "\n",
       "                                                                                         LakWasMet61_LOW9_2_rpkm  \\\n",
       "genome                   locus_tag       product                                                                   \n",
       "Acidovora-69x (UID4105)  Ga0081644_10011 serine/threonine protein kinase                                       0   \n",
       "                         Ga0081644_10012 simple sugar transport system permease protein                        0   \n",
       "                         Ga0081644_10013 nucleoside ABC transporter ATP-binding protein                        0   \n",
       "                         Ga0081644_10021 hypothetical protein                                                  0   \n",
       "                         Ga0081644_10022 D-amino-acid dehydrogenase                                            0   \n",
       "\n",
       "                                                                                         LakWasMet62_LOW9_2_rpkm  \\\n",
       "genome                   locus_tag       product                                                                   \n",
       "Acidovora-69x (UID4105)  Ga0081644_10011 serine/threonine protein kinase                                       0   \n",
       "                         Ga0081644_10012 simple sugar transport system permease protein                        0   \n",
       "                         Ga0081644_10013 nucleoside ABC transporter ATP-binding protein                        0   \n",
       "                         Ga0081644_10021 hypothetical protein                                                  0   \n",
       "                         Ga0081644_10022 D-amino-acid dehydrogenase                                            0   \n",
       "\n",
       "                                                                                         LakWasMet63_LOW9_2_rpkm  \\\n",
       "genome                   locus_tag       product                                                                   \n",
       "Acidovora-69x (UID4105)  Ga0081644_10011 serine/threonine protein kinase                                       0   \n",
       "                         Ga0081644_10012 simple sugar transport system permease protein                        0   \n",
       "                         Ga0081644_10013 nucleoside ABC transporter ATP-binding protein                        0   \n",
       "                         Ga0081644_10021 hypothetical protein                                                  0   \n",
       "                         Ga0081644_10022 D-amino-acid dehydrogenase                                            0   \n",
       "\n",
       "                                                                                         LakWasMet64_LOW9_2_rpkm  \\\n",
       "genome                   locus_tag       product                                                                   \n",
       "Acidovora-69x (UID4105)  Ga0081644_10011 serine/threonine protein kinase                                       0   \n",
       "                         Ga0081644_10012 simple sugar transport system permease protein                        0   \n",
       "                         Ga0081644_10013 nucleoside ABC transporter ATP-binding protein                        0   \n",
       "                         Ga0081644_10021 hypothetical protein                                                  0   \n",
       "                         Ga0081644_10022 D-amino-acid dehydrogenase                                            0   \n",
       "\n",
       "                                                                                         LakWasMet67_HOW9_2_rpkm  \\\n",
       "genome                   locus_tag       product                                                                   \n",
       "Acidovora-69x (UID4105)  Ga0081644_10011 serine/threonine protein kinase                                       0   \n",
       "                         Ga0081644_10012 simple sugar transport system permease protein                        0   \n",
       "                         Ga0081644_10013 nucleoside ABC transporter ATP-binding protein                        1   \n",
       "                         Ga0081644_10021 hypothetical protein                                                  0   \n",
       "                         Ga0081644_10022 D-amino-acid dehydrogenase                                            2   \n",
       "\n",
       "                                                                                         LakWasMet69_HOW9_2_rpkm  \\\n",
       "genome                   locus_tag       product                                                                   \n",
       "Acidovora-69x (UID4105)  Ga0081644_10011 serine/threonine protein kinase                                       0   \n",
       "                         Ga0081644_10012 simple sugar transport system permease protein                        0   \n",
       "                         Ga0081644_10013 nucleoside ABC transporter ATP-binding protein                        0   \n",
       "                         Ga0081644_10021 hypothetical protein                                                  0   \n",
       "                         Ga0081644_10022 D-amino-acid dehydrogenase                                            0   \n",
       "\n",
       "                                                                                         LakWasMet70_HOW9_2_rpkm  \n",
       "genome                   locus_tag       product                                                                  \n",
       "Acidovora-69x (UID4105)  Ga0081644_10011 serine/threonine protein kinase                                       0  \n",
       "                         Ga0081644_10012 simple sugar transport system permease protein                        0  \n",
       "                         Ga0081644_10013 nucleoside ABC transporter ATP-binding protein                        0  \n",
       "                         Ga0081644_10021 hypothetical protein                                                  0  \n",
       "                         Ga0081644_10022 D-amino-acid dehydrogenase                                            2  \n",
       "\n",
       "[5 rows x 83 columns]"
      ]
     },
     "execution_count": 5,
     "metadata": {},
     "output_type": "execute_result"
    }
   ],
   "source": [
    "gene_data.head()"
   ]
  },
  {
   "cell_type": "code",
   "execution_count": 6,
   "metadata": {
    "collapsed": true
   },
   "outputs": [],
   "source": [
    "sample_sums = pd.DataFrame({'read counts':gene_data.sum(index=0)})"
   ]
  },
  {
   "cell_type": "code",
   "execution_count": 7,
   "metadata": {
    "collapsed": false
   },
   "outputs": [
    {
     "data": {
      "text/html": [
       "<div>\n",
       "<table border=\"1\" class=\"dataframe\">\n",
       "  <thead>\n",
       "    <tr style=\"text-align: right;\">\n",
       "      <th></th>\n",
       "      <th>read counts</th>\n",
       "    </tr>\n",
       "  </thead>\n",
       "  <tbody>\n",
       "    <tr>\n",
       "      <th>LakWasM100_LOW12_2_rpkm</th>\n",
       "      <td>1266898</td>\n",
       "    </tr>\n",
       "    <tr>\n",
       "      <th>LakWasMe97_LOW12_2_rpkm</th>\n",
       "      <td>1116377</td>\n",
       "    </tr>\n",
       "    <tr>\n",
       "      <th>LakWasMe98_LOW12_2_rpkm</th>\n",
       "      <td>1119813</td>\n",
       "    </tr>\n",
       "    <tr>\n",
       "      <th>LakWasMe99_LOW12_2_rpkm</th>\n",
       "      <td>1242902</td>\n",
       "    </tr>\n",
       "    <tr>\n",
       "      <th>LakWasM104_HOW12_2_rpkm</th>\n",
       "      <td>1269758</td>\n",
       "    </tr>\n",
       "  </tbody>\n",
       "</table>\n",
       "</div>"
      ],
      "text/plain": [
       "                         read counts\n",
       "LakWasM100_LOW12_2_rpkm      1266898\n",
       "LakWasMe97_LOW12_2_rpkm      1116377\n",
       "LakWasMe98_LOW12_2_rpkm      1119813\n",
       "LakWasMe99_LOW12_2_rpkm      1242902\n",
       "LakWasM104_HOW12_2_rpkm      1269758"
      ]
     },
     "execution_count": 7,
     "metadata": {},
     "output_type": "execute_result"
    }
   ],
   "source": [
    "sample_sums.head()"
   ]
  },
  {
   "cell_type": "code",
   "execution_count": 8,
   "metadata": {
    "collapsed": true
   },
   "outputs": [],
   "source": [
    "sample_sums['reads/10^6'] = sample_sums['read counts']/(10**6)"
   ]
  },
  {
   "cell_type": "code",
   "execution_count": null,
   "metadata": {
    "collapsed": true
   },
   "outputs": [],
   "source": [
    "sample_sums[]"
   ]
  },
  {
   "cell_type": "code",
   "execution_count": 13,
   "metadata": {
    "collapsed": false
   },
   "outputs": [
    {
     "data": {
      "text/plain": [
       "Index(['LakWasM100_LOW12_2_rpkm', 'LakWasMe97_LOW12_2_rpkm',\n",
       "       'LakWasMe98_LOW12_2_rpkm', 'LakWasMe99_LOW12_2_rpkm',\n",
       "       'LakWasM104_HOW12_2_rpkm', 'LakWasM105_HOW12_2_rpkm',\n",
       "       'LakWasM106_HOW12_2_rpkm', 'LakWasM109_LOW13_2_rpkm',\n",
       "       'LakWasM110_LOW13_2_rpkm', 'LakWasM111_LOW13_2_rpkm',\n",
       "       'LakWasM112_LOW13_2_rpkm', 'LakWasM115_HOW13_2_rpkm',\n",
       "       'LakWasM116_HOW13_2_rpkm', 'LakWasM117_HOW13_2_rpkm',\n",
       "       'LakWasM118_HOW13_2_rpkm', 'LakWasM121_LOW14_2_rpkm',\n",
       "       'LakWasM122_LOW14_2_rpkm', 'LakWasM123_LOW14_2_rpkm',\n",
       "       'LakWasM124_LOW14_2_rpkm', 'LakWasM127_HOW14_2_rpkm',\n",
       "       'LakWasM128_HOW14_2_rpkm', 'LakWasM129_HOW14_2_rpkm',\n",
       "       'LakWasM130_HOW14_2_rpkm', 'LakWasMe73_LOW10_2_rpkm',\n",
       "       'LakWasMe74_LOW10_2_rpkm', 'LakWasMe75_LOW10_2_rpkm',\n",
       "       'LakWasMe76_LOW10_2_rpkm', 'LakWasMe79_HOW10_2_rpkm',\n",
       "       'LakWasMe80_HOW10_2_rpkm', 'LakWasMe81_HOW10_2_rpkm',\n",
       "       'LakWasMe82_HOW10_2_rpkm', 'LakWasMe85_LOW11_2_rpkm',\n",
       "       'LakWasMe86_LOW11_2_rpkm', 'LakWasMe91_HOW11_2_rpkm',\n",
       "       'LakWasMe92_HOW11_2_rpkm', 'LakWasMe93_HOW11_2_rpkm',\n",
       "       'LakWasMe94_HOW11_2_rpkm', 'LakWasMeta1_LOW4_2_rpkm',\n",
       "       'LakWasMeta2_LOW4_2_rpkm', 'LakWasMeta3_LOW4_2_rpkm',\n",
       "       'LakWasMeta4_LOW4_2_rpkm', 'LakWasMet10_HOW4_2_rpkm',\n",
       "       'LakWasMeta7_HOW4_2_rpkm', 'LakWasMeta8_HOW4_2_rpkm',\n",
       "       'LakWasMeta9_HOW4_2_rpkm', 'LakWasMet13_LOW5_2_rpkm',\n",
       "       'LakWasMet14_LOW5_2_rpkm', 'LakWasMet15_LOW5_2_rpkm',\n",
       "       'LakWasMet16_LOW5_2_rpkm', 'LakWasMet19_HOW5_2_rpkm',\n",
       "       'LakWasMet20_HOW5_2_rpkm', 'LakWasMet21_HOW5_2_rpkm',\n",
       "       'LakWasMet22_HOW5_2_rpkm', 'LakWasMet25_LOW6_2_rpkm',\n",
       "       'LakWasMet26_LOW6_2_rpkm', 'LakWasMet27_LOW6_2_rpkm',\n",
       "       'LakWasMet28_LOW6_2_rpkm', 'LakWasMet31_HOW6_2_rpkm',\n",
       "       'LakWasMet32_HOW6_2_rpkm', 'LakWasMet33_HOW6_2_rpkm',\n",
       "       'LakWasMet34_HOW6_2_rpkm', 'LakWasMet37_LOW7_2_rpkm',\n",
       "       'LakWasMet38_LOW7_2_rpkm', 'LakWasMet39_LOW7_2_rpkm',\n",
       "       'LakWasMet40_LOW7_2_rpkm', 'LakWasMet43_HOW7_2_rpkm',\n",
       "       'LakWasMet44_HOW7_2_rpkm', 'LakWasMet45_HOW7_2_rpkm',\n",
       "       'LakWasMet49_LOW8_2_rpkm', 'LakWasMet50_LOW8_2_rpkm',\n",
       "       'LakWasMet51_LOW8_2_rpkm', 'LakWasMet52_LOW8_2_rpkm',\n",
       "       'LakWasMet55_HOW8_2_rpkm', 'LakWasMet56_HOW8_2_rpkm',\n",
       "       'LakWasMet57_HOW8_2_rpkm', 'LakWasMet58_HOW8_2_rpkm',\n",
       "       'LakWasMet61_LOW9_2_rpkm', 'LakWasMet62_LOW9_2_rpkm',\n",
       "       'LakWasMet63_LOW9_2_rpkm', 'LakWasMet64_LOW9_2_rpkm',\n",
       "       'LakWasMet67_HOW9_2_rpkm', 'LakWasMet69_HOW9_2_rpkm',\n",
       "       'LakWasMet70_HOW9_2_rpkm'],\n",
       "      dtype='object')"
      ]
     },
     "execution_count": 13,
     "metadata": {},
     "output_type": "execute_result"
    }
   ],
   "source": [
    "sample_sums.index"
   ]
  },
  {
   "cell_type": "code",
   "execution_count": 18,
   "metadata": {
    "collapsed": false
   },
   "outputs": [
    {
     "data": {
      "text/plain": [
       "read counts    1001033.000000\n",
       "reads/10^6           1.001033\n",
       "Name: LakWasM106_HOW12_2_rpkm, dtype: float64"
      ]
     },
     "execution_count": 18,
     "metadata": {},
     "output_type": "execute_result"
    }
   ],
   "source": [
    "sample_sums.loc['LakWasM106_HOW12_2_rpkm'] "
   ]
  },
  {
   "cell_type": "code",
   "execution_count": 9,
   "metadata": {
    "collapsed": false
   },
   "outputs": [
    {
     "data": {
      "text/html": [
       "<div>\n",
       "<table border=\"1\" class=\"dataframe\">\n",
       "  <thead>\n",
       "    <tr style=\"text-align: right;\">\n",
       "      <th></th>\n",
       "      <th>read counts</th>\n",
       "      <th>reads/10^6</th>\n",
       "    </tr>\n",
       "  </thead>\n",
       "  <tbody>\n",
       "    <tr>\n",
       "      <th>LakWasM100_LOW12_2_rpkm</th>\n",
       "      <td>1266898</td>\n",
       "      <td>1.266898</td>\n",
       "    </tr>\n",
       "    <tr>\n",
       "      <th>LakWasMe97_LOW12_2_rpkm</th>\n",
       "      <td>1116377</td>\n",
       "      <td>1.116377</td>\n",
       "    </tr>\n",
       "    <tr>\n",
       "      <th>LakWasMe98_LOW12_2_rpkm</th>\n",
       "      <td>1119813</td>\n",
       "      <td>1.119813</td>\n",
       "    </tr>\n",
       "    <tr>\n",
       "      <th>LakWasMe99_LOW12_2_rpkm</th>\n",
       "      <td>1242902</td>\n",
       "      <td>1.242902</td>\n",
       "    </tr>\n",
       "    <tr>\n",
       "      <th>LakWasM104_HOW12_2_rpkm</th>\n",
       "      <td>1269758</td>\n",
       "      <td>1.269758</td>\n",
       "    </tr>\n",
       "  </tbody>\n",
       "</table>\n",
       "</div>"
      ],
      "text/plain": [
       "                         read counts  reads/10^6\n",
       "LakWasM100_LOW12_2_rpkm      1266898    1.266898\n",
       "LakWasMe97_LOW12_2_rpkm      1116377    1.116377\n",
       "LakWasMe98_LOW12_2_rpkm      1119813    1.119813\n",
       "LakWasMe99_LOW12_2_rpkm      1242902    1.242902\n",
       "LakWasM104_HOW12_2_rpkm      1269758    1.269758"
      ]
     },
     "execution_count": 9,
     "metadata": {},
     "output_type": "execute_result"
    }
   ],
   "source": [
    "sample_sums.head()"
   ]
  },
  {
   "cell_type": "code",
   "execution_count": 10,
   "metadata": {
    "collapsed": false
   },
   "outputs": [
    {
     "data": {
      "image/png": "[encoded data removed]",
      "text/plain": [
       "<matplotlib.figure.Figure at 0x1103edd30>"
      ]
     },
     "metadata": {},
     "output_type": "display_data"
    }
   ],
   "source": [
    "ax = sample_sums['reads/10^6'].plot.hist(range=[0, 1.5], bins = 60) #range=[6.5, 12.5])\n",
    "fig = ax.get_figure()\n",
    "fig.savefig('reads_per_sample--unnormalized.pdf')"
   ]
  },
  {
   "cell_type": "code",
   "execution_count": 11,
   "metadata": {
    "collapsed": false
   },
   "outputs": [],
   "source": [
    "gene_sums = pd.DataFrame({'gene sum':gene_data.sum(axis=1, index=2)})"
   ]
  },
  {
   "cell_type": "code",
   "execution_count": null,
   "metadata": {
    "collapsed": false
   },
   "outputs": [],
   "source": [
    "gene_sums['gene sum'] = gene_sums['gene sum'].astype('int')"
   ]
  },
  {
   "cell_type": "code",
   "execution_count": null,
   "metadata": {
    "collapsed": false
   },
   "outputs": [],
   "source": [
    "gene_sums = gene_sums[gene_sums['gene sum'] > 0]"
   ]
  },
  {
   "cell_type": "raw",
   "metadata": {},
   "source": [
    "import numpy as np"
   ]
  },
  {
   "cell_type": "raw",
   "metadata": {},
   "source": [
    "gene_sums['log10(gene sum)'] = np.log10(gene_sums['gene sum'])"
   ]
  },
  {
   "cell_type": "code",
   "execution_count": null,
   "metadata": {
    "collapsed": false
   },
   "outputs": [],
   "source": [
    "gene_sums.head()"
   ]
  },
  {
   "cell_type": "code",
   "execution_count": null,
   "metadata": {
    "collapsed": false
   },
   "outputs": [],
   "source": [
    "gene_sums.head() #.plot(kind='hist')"
   ]
  },
  {
   "cell_type": "code",
   "execution_count": null,
   "metadata": {
    "collapsed": false
   },
   "outputs": [],
   "source": [
    "gene_sums.shape"
   ]
  },
  {
   "cell_type": "code",
   "execution_count": null,
   "metadata": {
    "collapsed": false
   },
   "outputs": [],
   "source": [
    "fig, ax = plt.subplots()\n",
    "gene_sums['gene sum'].hist(ax=ax, bins=100, )\n",
    "ax.set_yscale('log')\n",
    "ax.set_xlabel('...')"
   ]
  },
  {
   "cell_type": "code",
   "execution_count": null,
   "metadata": {
    "collapsed": false
   },
   "outputs": [],
   "source": [
    "gene_sums[gene_sums['gene sum'] > 5].head()"
   ]
  },
  {
   "cell_type": "code",
   "execution_count": null,
   "metadata": {
    "collapsed": false
   },
   "outputs": [],
   "source": [
    "gene_sums[gene_sums['gene sum'] > 10**6].head()"
   ]
  },
  {
   "cell_type": "code",
   "execution_count": null,
   "metadata": {
    "collapsed": false
   },
   "outputs": [],
   "source": [
    "fig, ax = plt.subplots()\n",
    "gene_sums[gene_sums['gene sum'] > 0]['gene sum'].hist(ax=ax, bins=100, )\n",
    "ax.set_yscale('log')\n",
    "ax.set_xlabel('number of genes with ')"
   ]
  },
  {
   "cell_type": "code",
   "execution_count": null,
   "metadata": {
    "collapsed": false
   },
   "outputs": [],
   "source": [
    "fig, ax = plt.subplots()\n",
    "gene_sums[gene_sums['gene sum'] > 10**4]['gene sum'].hist(ax=ax, bins=100, )\n",
    "ax.set_yscale('log')\n",
    "ax.set_xlabel('number of genes with ')"
   ]
  },
  {
   "cell_type": "code",
   "execution_count": null,
   "metadata": {
    "collapsed": true
   },
   "outputs": [],
   "source": []
  }
 ],
 "metadata": {
  "kernelspec": {
   "display_name": "IPython (Python 3)",
   "language": "python",
   "name": "python3"
  },
  "language_info": {
   "codemirror_mode": {
    "name": "ipython",
    "version": 3
   },
   "file_extension": ".py",
   "mimetype": "text/x-python",
   "name": "python",
   "nbconvert_exporter": "python",
   "pygments_lexer": "ipython3",
   "version": "3.5.1"
  }
 },
 "nbformat": 4,
 "nbformat_minor": 0
}
